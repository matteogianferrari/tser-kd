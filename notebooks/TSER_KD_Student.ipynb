{
  "cells": [
    {
      "cell_type": "markdown",
      "metadata": {
        "id": "ZbU6l7S97lxP"
      },
      "source": [
        "#**SResNet19 Student Model - TSER for KD**"
      ]
    },
    {
      "cell_type": "markdown",
      "metadata": {
        "id": "vUaD-Ggk7srE"
      },
      "source": [
        "#**Setup**"
      ]
    },
    {
      "cell_type": "markdown",
      "metadata": {
        "id": "olxJj3qN6_V0"
      },
      "source": [
        "---\n",
        "**Install Libraries**"
      ]
    },
    {
      "cell_type": "code",
      "execution_count": null,
      "metadata": {
        "id": "Z2PLshIm4l-1"
      },
      "outputs": [],
      "source": [
        "!pip install snntorch dagshub mlflow pynvml --quiet"
      ]
    },
    {
      "cell_type": "markdown",
      "metadata": {
        "id": "NK4Z89UZjjxc"
      },
      "source": [
        "---\n",
        "**GitHub Code**"
      ]
    },
    {
      "cell_type": "code",
      "execution_count": null,
      "metadata": {
        "id": "NbrA52Sajdhf"
      },
      "outputs": [],
      "source": [
        "from google.colab import userdata\n",
        "import os\n",
        "\n",
        "\n",
        "# Sets environ variables for GitHub\n",
        "os.environ['GITHUB_TOKEN'] = userdata.get('GITHUB_TOKEN')\n",
        "os.environ['USER'] = userdata.get('USER')\n",
        "\n",
        "# Clones the repo and changes dir\n",
        "!git clone https://${GITHUB_TOKEN}@github.com/${USER}/tser-kd.git\n",
        "%cd tser-kd/"
      ]
    },
    {
      "cell_type": "markdown",
      "metadata": {
        "id": "2t6fX02G7R8a"
      },
      "source": [
        "---\n",
        "**Set Seed for Experiment**"
      ]
    },
    {
      "cell_type": "code",
      "execution_count": null,
      "metadata": {
        "id": "8zNdOlLK92P3"
      },
      "outputs": [],
      "source": [
        "from tser_kd.utils import setup_seed\n",
        "\n",
        "\n",
        "setup_seed(42)"
      ]
    },
    {
      "cell_type": "markdown",
      "metadata": {
        "id": "FnYeSVRw7UeJ"
      },
      "source": [
        "---\n",
        "**Device Selection**"
      ]
    },
    {
      "cell_type": "code",
      "execution_count": 4,
      "metadata": {
        "id": "nHFtZ8Mu7U0W"
      },
      "outputs": [],
      "source": [
        "import torch\n",
        "\n",
        "\n",
        "# Selects the device for the experiment\n",
        "device = torch.device(\"cuda\" if torch.cuda.is_available() else \"cpu\")"
      ]
    },
    {
      "cell_type": "markdown",
      "metadata": {
        "id": "5CpVNA4i7awv"
      },
      "source": [
        "---\n",
        "**MLFlow Setup**"
      ]
    },
    {
      "cell_type": "code",
      "execution_count": null,
      "metadata": {
        "id": "KQGoJkQ18pvU"
      },
      "outputs": [],
      "source": [
        "import mlflow\n",
        "from mlflow import MlflowClient\n",
        "import dagshub\n",
        "\n",
        "\n",
        "# Sets environ variables for MLFlow\n",
        "os.environ['MLFLOW_TRACKING_USERNAME'] = userdata.get('USER')\n",
        "os.environ['MLFLOW_TRACKING_PASSWORD'] = userdata.get('MLFLOW_TRACKING_PASSWORD')\n",
        "\n",
        "# Init DagsHub\n",
        "dagshub.init(repo_owner='matteogianferrari', repo_name='tser-kd', mlflow=True)\n",
        "TRACKING_URI = \"https://dagshub.com/matteogianferrari/tser-kd.mlflow\"\n",
        "\n",
        "# Sets MLFlow tracking URI\n",
        "mlflow.set_tracking_uri(TRACKING_URI)\n",
        "\n",
        "# Sets MLFLow experiment name\n",
        "experiment_name = \"TSER-KD Student\""
      ]
    },
    {
      "cell_type": "markdown",
      "metadata": {
        "id": "Vbe-kHtd8-qc"
      },
      "source": [
        "#**Hyperparameters**"
      ]
    },
    {
      "cell_type": "code",
      "execution_count": 6,
      "metadata": {
        "id": "gMz9f1SKh3jz"
      },
      "outputs": [],
      "source": [
        "# Hyperparamter dictionary\n",
        "h_dict = {\n",
        "    \"BETA\": 0.5, \"V_th\": 1.0,                               # Leaky Neuron\n",
        "    \"MAX_EPOCHS\": 300, \"BATCH_SIZE\": 256,                   # Training\n",
        "    \"LR_SCHEDULER\": \"WarmupCosineLR\", \"BASE_LR\": 1e-5,      # LR\n",
        "    \"WARMUP_EPOCHS\": 5, \"MAX_LR\": 1e-4,                     # LR\n",
        "    \"ES_PATIENCE\": 50, \"ES_DELTA\": 5e-4,                    # Early Stopping\n",
        "    \"OPTIMIZER\": \"AdamW\", \"WEIGHT_DECAY\": 5e-4,             # Optimizer\n",
        "    \"HARDWARE\": \"A100\",                                     # GPU\n",
        "    \"ENCODER\": \"Static\", \"T\": 4,                            # Encoder\n",
        "    \"AUTO_AUG\": True, \"CUTOUT\": True,                       # Dataset\n",
        "}"
      ]
    },
    {
      "cell_type": "markdown",
      "metadata": {
        "id": "II8DpGBh-xKh"
      },
      "source": [
        "#**CIFAR10 Dataset**"
      ]
    },
    {
      "cell_type": "markdown",
      "metadata": {
        "id": "flJX0Vd9F0Hz"
      },
      "source": [
        "---\n",
        "**Data Loaders Creation**"
      ]
    },
    {
      "cell_type": "code",
      "execution_count": null,
      "metadata": {
        "id": "D3pB3mNi-1W2"
      },
      "outputs": [],
      "source": [
        "from tser_kd.dataset import load_cifar10_data\n",
        "from torch.utils.data import DataLoader\n",
        "\n",
        "\n",
        "train_dataset, val_dataset, num_classes = load_cifar10_data(auto_aug=h_dict['AUTO_AUG'], cutout=h_dict['CUTOUT'])\n",
        "\n",
        "# Creates the train and test DataLoaders\n",
        "train_loader = DataLoader(train_dataset, batch_size=h_dict['BATCH_SIZE'], shuffle=True, num_workers=2)\n",
        "val_loader = DataLoader(val_dataset, batch_size=h_dict['BATCH_SIZE'], shuffle=False, num_workers=2)"
      ]
    },
    {
      "cell_type": "markdown",
      "metadata": {
        "id": "_C2C-NSyF5Dz"
      },
      "source": [
        "---\n",
        "**Spiking Plot**"
      ]
    },
    {
      "cell_type": "code",
      "execution_count": null,
      "metadata": {
        "id": "LmAzadoCEhFa"
      },
      "outputs": [],
      "source": [
        "# snnTorch\n",
        "from matplotlib import pyplot as plt\n",
        "from tser_kd.dataset import RateEncoder, StaticEncoder\n",
        "from tser_kd.utils import plot_spike_train_over_channels, plot_raster_over_channels\n",
        "\n",
        "\n",
        "# Retrieves a batch of data\n",
        "X, y = next(iter(val_loader))\n",
        "\n",
        "idx = 27\n",
        "X = X[idx]\n",
        "y = y[idx]\n",
        "\n",
        "\n",
        "# plot the image\n",
        "plt.imshow(X.permute(1, 2, 0))\n",
        "plt.title(f\"Label: {y}\")\n",
        "plt.show()\n",
        "\n",
        "\n",
        "# Converts the images using rate coding, tensor shape: [T, C, H, W]\n",
        "if h_dict[\"ENCODER\"] == 'Rate':\n",
        "    spike_train = RateEncoder(num_steps=h_dict['T'], gain=h_dict['GAIN'])(X)\n",
        "elif h_dict[\"ENCODER\"] == 'Static':\n",
        "    spike_train = StaticEncoder(num_steps=h_dict['T'])(X)\n",
        "\n",
        "plot_spike_train_over_channels(spike_train, ['Reds', 'Greens', 'Blues'])\n",
        "plot_raster_over_channels(spike_train)\n",
        "\n",
        "del X, y, spike_train"
      ]
    },
    {
      "cell_type": "markdown",
      "metadata": {
        "id": "XFPX6pbwIDSz"
      },
      "source": [
        "#**S-ResNet19**"
      ]
    },
    {
      "cell_type": "markdown",
      "source": [
        "---\n",
        "**Model Creation**"
      ],
      "metadata": {
        "id": "UBCYeTfkm7rm"
      }
    },
    {
      "cell_type": "code",
      "execution_count": 9,
      "metadata": {
        "id": "2489bmuzwoh4"
      },
      "outputs": [],
      "source": [
        "from tser_kd.model.teacher import make_teacher_model\n",
        "from tser_kd.model.student import make_student_model\n",
        "\n",
        "\n",
        "# ANN\n",
        "state_dict = torch.load(\"data/teacher_models/resnet19_9609.pth\")\n",
        "a_model = make_teacher_model(\n",
        "    arch='resnet-19',\n",
        "    in_channels=3,\n",
        "    num_classes=num_classes,\n",
        "    device=device,\n",
        "    state_dict=state_dict\n",
        ")\n",
        "\n",
        "# SNN\n",
        "s_model = make_student_model(in_channels=3, num_classes=num_classes, beta=h_dict['BETA'], device=device)"
      ]
    },
    {
      "cell_type": "markdown",
      "source": [
        "---\n",
        "**Weights Transfer**"
      ],
      "metadata": {
        "id": "oZ10IHyDm_xE"
      }
    },
    {
      "cell_type": "code",
      "execution_count": 10,
      "metadata": {
        "id": "3ubh_AQz7PQs"
      },
      "outputs": [],
      "source": [
        "from tser_kd.model import transfer_weights\n",
        "\n",
        "\n",
        "# Transfers the weights from the ANN to the SNN\n",
        "transfer_weights(snn=s_model, ann=a_model, flag=True)"
      ]
    },
    {
      "cell_type": "markdown",
      "metadata": {
        "id": "NGHrXdIbZzIM"
      },
      "source": [
        "#**Training**"
      ]
    },
    {
      "cell_type": "markdown",
      "source": [
        "---\n",
        "**Objects Creation**"
      ],
      "metadata": {
        "id": "JGxR-7jfnMiH"
      }
    },
    {
      "cell_type": "code",
      "execution_count": 11,
      "metadata": {
        "id": "O8X73PNoxTBN"
      },
      "outputs": [],
      "source": [
        "import torch.optim as optim\n",
        "import torch.nn as nn\n",
        "from tser_kd.training import EarlyStopping\n",
        "from tser_kd.dataset import RateEncoder, StaticEncoder\n",
        "from tser_kd.model import TSCELoss\n",
        "from tser_kd.training.lr_scheduler import WarmupCosineLR\n",
        "\n",
        "\n",
        "# Optimizer\n",
        "if h_dict[\"OPTIMIZER\"] == 'AdamW':\n",
        "    optimizer = optim.AdamW(s_model.parameters(), lr=h_dict['BASE_LR'], weight_decay=h_dict['WEIGHT_DECAY'])\n",
        "elif h_dict[\"OPTIMIZER\"] == 'Adam':\n",
        "    optimizer = optim.Adam(s_model.parameters(), lr=h_dict['BASE_LR'], weight_decay=h_dict['WEIGHT_DECAY'])\n",
        "elif h_dict[\"OPTIMIZER\"] == 'SGD':\n",
        "    optimizer = optim.SGD(s_model.parameters(), lr=h_dict['BASE_LR'], momentum=h_dict[\"MOMENTUM\"], weight_decay=h_dict['WEIGHT_DECAY'])\n",
        "\n",
        "# LR scheduler\n",
        "if h_dict[\"LR_SCHEDULER\"] == 'ReduceLROnPlateau':\n",
        "    scheduler = optim.lr_scheduler.ReduceLROnPlateau(optimizer, patience=h_dict[\"LR_PATIENCE\"], factor=h_dict[\"LR_FACTOR\"])\n",
        "elif h_dict[\"LR_SCHEDULER\"] == 'CosineAnnealingLR':\n",
        "    scheduler = optim.lr_scheduler.CosineAnnealingLR(optimizer, T_max=h_dict[\"MAX_EPOCHS\"])\n",
        "elif h_dict[\"LR_SCHEDULER\"] == 'StepLR':\n",
        "    scheduler = optim.lr_scheduler.StepLR(optimizer, step_size=h_dict[\"LR_STEP\"], gamma=h_dict[\"LR_FACTOR\"])\n",
        "elif h_dict[\"LR_SCHEDULER\"] == 'WarmupCosineLR':\n",
        "    scheduler = WarmupCosineLR(\n",
        "        optimizer=optimizer,\n",
        "        warmup_epochs=h_dict[\"WARMUP_EPOCHS\"],\n",
        "        total_epochs=h_dict[\"MAX_EPOCHS\"],\n",
        "        base_lr=h_dict[\"BASE_LR\"],\n",
        "        max_lr=h_dict[\"MAX_LR\"]\n",
        "    )\n",
        "\n",
        "# Losses\n",
        "train_criterion = TSCELoss()\n",
        "eval_criterion = nn.CrossEntropyLoss()\n",
        "\n",
        "# Early stopping\n",
        "es_callback = EarlyStopping(patience=h_dict[\"ES_PATIENCE\"], delta=h_dict[\"ES_DELTA\"], path=\"best_ckpt.pth\")\n",
        "\n",
        "# Gradient scaler\n",
        "scaler = torch.amp.GradScaler(device='cuda')\n",
        "\n",
        "# Encoder\n",
        "if h_dict[\"ENCODER\"] == \"Rate\":\n",
        "    encoder = RateEncoder(num_steps=h_dict[\"T\"], gain=h_dict[\"GAIN\"])\n",
        "elif h_dict[\"ENCODER\"] == \"Static\":\n",
        "    encoder = StaticEncoder(num_steps=h_dict[\"T\"])"
      ]
    },
    {
      "cell_type": "markdown",
      "source": [
        "---\n",
        "**Training Loop**"
      ],
      "metadata": {
        "id": "yj5bHrZFnSdj"
      }
    },
    {
      "cell_type": "code",
      "execution_count": null,
      "metadata": {
        "id": "lzDyh1ue-jFQ"
      },
      "outputs": [],
      "source": [
        "import pynvml\n",
        "from tser_kd.eval import run_eval\n",
        "from tser_kd.training import run_train\n",
        "\n",
        "\n",
        "# PER FARE UN RESUME SERVE IL MODELLO CHECKPOINT, LA START_EPOCH, LA RUN_ID, E LAST_EPOCH IN SCHEDULER\n",
        "\n",
        "# Sets the MLFlow experiment\n",
        "mlflow.set_experiment(experiment_name)\n",
        "\n",
        "epoch_i = 0\n",
        "curr_lr = optimizer.param_groups[0][\"lr\"]\n",
        "\n",
        "# Train the model and log with MLFlow\n",
        "with mlflow.start_run(run_id=None, log_system_metrics=True):\n",
        "    for epoch_i in range(h_dict[\"MAX_EPOCHS\"]):\n",
        "        train_loss, train_acc, epoch_time, train_batch_time = run_train(\n",
        "            epoch_i, train_loader, s_model, train_criterion, optimizer, device, scaler, encoder\n",
        "        )\n",
        "\n",
        "        val_loss, val_acc1, val_acc5, val_batch_time = run_eval(val_loader, s_model, eval_criterion, device, encoder)\n",
        "\n",
        "        # Logging\n",
        "        print(\n",
        "            f\"Time: {epoch_time:.1f}s | Train Loss: {train_loss:.4f} | Train Acc: {train_acc:.2f}% | \"\n",
        "            f\"Val Loss: {val_loss:.4f} | Val Acc1: {val_acc1:.2f}% | Val Acc5: {val_acc5:.2f}% | LR: {curr_lr:.6f}\"\n",
        "        )\n",
        "\n",
        "        mlflow.log_metrics({\n",
        "            \"learning_rate\": curr_lr, \"train_tsce_loss\": train_loss, \"train_acc\": train_acc, \"val_ce_loss\": val_loss,\n",
        "            \"val_acc1\": val_acc1, \"val_acc5\": val_acc5, \"epoch_time\": epoch_time,\n",
        "            \"train_batch_time\": train_batch_time, \"val_batch_time\": val_batch_time\n",
        "        }, step=epoch_i)\n",
        "\n",
        "        # Updates the LR\n",
        "        if h_dict[\"LR_SCHEDULER\"] == 'ReduceLROnPlateau':\n",
        "            scheduler.step(val_loss)\n",
        "        else:\n",
        "            scheduler.step()\n",
        "\n",
        "        curr_lr = optimizer.param_groups[0][\"lr\"]\n",
        "\n",
        "        # ES check\n",
        "        if es_callback(val_loss, epoch_i, s_model):\n",
        "            break\n",
        "\n",
        "\n",
        "    # Log hyperparameters\n",
        "    mlflow.log_params(h_dict)\n",
        "\n",
        "    # Log test performance\n",
        "    s_model.load_state_dict(torch.load(\"best_ckpt.pth\"))\n",
        "    test_loss, test_acc1, test_acc5, _ = run_eval(val_loader, s_model, eval_criterion, device, encoder)\n",
        "    mlflow.log_metrics({\"test_ce_loss\": test_loss, \"test_acc1\": test_acc1, \"test_acc5\": test_acc5})"
      ]
    }
  ],
  "metadata": {
    "accelerator": "GPU",
    "colab": {
      "gpuType": "A100",
      "machine_shape": "hm",
      "provenance": []
    },
    "kernelspec": {
      "display_name": "Python 3",
      "name": "python3"
    },
    "language_info": {
      "name": "python"
    }
  },
  "nbformat": 4,
  "nbformat_minor": 0
}