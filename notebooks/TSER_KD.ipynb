{
  "cells": [
    {
      "cell_type": "markdown",
      "metadata": {
        "id": "BRTVXOyy_W_N"
      },
      "source": [
        "#**Temporal Separation with Entropy Regularization for Knowledge Distillation**"
      ]
    },
    {
      "cell_type": "markdown",
      "metadata": {
        "id": "l3QLquzu_Ubb"
      },
      "source": [
        "#**Setup**"
      ]
    },
    {
      "cell_type": "markdown",
      "metadata": {
        "id": "IKiWhXGy_6i8"
      },
      "source": [
        "---\n",
        "**Install Libraries**"
      ]
    },
    {
      "cell_type": "code",
      "execution_count": 1,
      "metadata": {
        "id": "ZpEOciiZ1pMp"
      },
      "outputs": [],
      "source": [
        "!pip install snntorch dagshub mlflow pynvml --quiet"
      ]
    },
    {
      "cell_type": "markdown",
      "metadata": {
        "id": "sl0vvEpmrlxe"
      },
      "source": [
        "---\n",
        "**GitHub Code**"
      ]
    },
    {
      "cell_type": "code",
      "execution_count": null,
      "metadata": {
        "id": "SxZ2qzqG1wjY"
      },
      "outputs": [],
      "source": [
        "from google.colab import userdata\n",
        "import os\n",
        "\n",
        "# Sets environ variables for GitHub\n",
        "os.environ['GITHUB_TOKEN'] = userdata.get('GITHUB_TOKEN')\n",
        "os.environ['USER'] = userdata.get('USER')\n",
        "\n",
        "# Clones the repo and changes dir\n",
        "!git clone https://${GITHUB_TOKEN}@github.com/${USER}/tser-kd.git\n",
        "%cd tser-kd/"
      ]
    },
    {
      "cell_type": "markdown",
      "metadata": {
        "id": "FZ2hesRJAQHL"
      },
      "source": [
        "---\n",
        "**Set Seed for Experiment**"
      ]
    },
    {
      "cell_type": "code",
      "execution_count": null,
      "metadata": {
        "id": "7vCIIhyPATrk"
      },
      "outputs": [],
      "source": [
        "from tser_kd.utils import setup_seed\n",
        "\n",
        "setup_seed(42)"
      ]
    },
    {
      "cell_type": "markdown",
      "metadata": {
        "id": "HGNoJTA-ARd7"
      },
      "source": [
        "---\n",
        "**Device Selection**"
      ]
    },
    {
      "cell_type": "code",
      "execution_count": 4,
      "metadata": {
        "id": "s_a0bgd917MP"
      },
      "outputs": [],
      "source": [
        "import torch\n",
        "\n",
        "# Selects the device for the experiment\n",
        "device = torch.device(\"cuda\" if torch.cuda.is_available() else \"cpu\")"
      ]
    },
    {
      "cell_type": "markdown",
      "metadata": {
        "id": "4-D3JECKAbcv"
      },
      "source": [
        "---\n",
        "**MLFlow Setup**"
      ]
    },
    {
      "cell_type": "code",
      "execution_count": null,
      "metadata": {
        "id": "iOmMzL0p2AAK"
      },
      "outputs": [],
      "source": [
        "import mlflow\n",
        "from mlflow import MlflowClient\n",
        "import dagshub\n",
        "\n",
        "# Sets environ variables for MLFlow\n",
        "os.environ['MLFLOW_TRACKING_USERNAME'] = userdata.get('USER')\n",
        "os.environ['MLFLOW_TRACKING_PASSWORD'] = userdata.get('MLFLOW_TRACKING_PASSWORD')\n",
        "\n",
        "# Init DagsHub\n",
        "dagshub.init(repo_owner='matteogianferrari', repo_name='tser-kd', mlflow=True)\n",
        "TRACKING_URI = \"https://dagshub.com/matteogianferrari/tser-kd.mlflow\"\n",
        "\n",
        "# Sets MLFlow tracking URI\n",
        "mlflow.set_tracking_uri(TRACKING_URI)\n",
        "\n",
        "# Sets MLFLow experiment name\n",
        "experiment_name = \"TSER-KD\""
      ]
    },
    {
      "cell_type": "markdown",
      "metadata": {
        "id": "x_-r8JmjBTtP"
      },
      "source": [
        "#**Hyperparameters**"
      ]
    },
    {
      "cell_type": "code",
      "execution_count": 6,
      "metadata": {
        "id": "1mNKr2kbqH63"
      },
      "outputs": [],
      "source": [
        "# # Loss Hyperparameters\n",
        "# TAU = 4.0\n",
        "# ALPHA = 0.8\n",
        "# GAMMA = 0.05\n",
        "\n",
        "\n",
        "\n",
        "# Hyperparamter dictionary\n",
        "h_dict = {\n",
        "    \"TAU\": 5.0, \"ALPHA\": 0.1, \"GAMMA\": 1e-3,                # Loss\n",
        "    \"BETA\": 0.5, \"V_th\": 1.0,                               # Leaky Neuron\n",
        "    \"MAX_EPOCHS\": 300, \"BATCH_SIZE\": 256,                    # Training\n",
        "    \"LR_SCHEDULER\": \"CosineAnnealingLR\", \"BASE_LR\": 0.0005,      # LR\n",
        "    \"ES_PATIENCE\": 50, \"ES_DELTA\": 5e-4,                    # Early Stopping\n",
        "    \"OPTIMIZER\": \"SGD\", \"MOMENTUM\": 0.9,             # Optimizer\n",
        "    \"HARDWARE\": \"A100\",                                     # GPU\n",
        "    \"ENCODER\": \"Static\", \"T\": 2,                            # Encoder\n",
        "    \"AUTO_AUG\": True, \"CUTOUT\": True,                       # Dataset\n",
        "}"
      ]
    },
    {
      "cell_type": "markdown",
      "metadata": {
        "id": "z54JDz70BqXK"
      },
      "source": [
        "#**CIFAR10 Dataset**"
      ]
    },
    {
      "cell_type": "markdown",
      "metadata": {
        "id": "FL8Ob9yU1Ehz"
      },
      "source": [
        "---\n",
        "**Data Loaders Creation**"
      ]
    },
    {
      "cell_type": "code",
      "execution_count": 7,
      "metadata": {
        "id": "QAKo2XKGBtYz"
      },
      "outputs": [],
      "source": [
        "from tser_kd.dataset import load_cifar10_data\n",
        "from torch.utils.data import DataLoader\n",
        "\n",
        "\n",
        "train_dataset, val_dataset, num_classes = load_cifar10_data(auto_aug=h_dict['AUTO_AUG'], cutout=h_dict['CUTOUT'])\n",
        "\n",
        "# Creates the train and test DataLoaders\n",
        "train_loader = DataLoader(train_dataset, batch_size=h_dict['BATCH_SIZE'], shuffle=True, num_workers=2)\n",
        "val_loader = DataLoader(val_dataset, batch_size=h_dict['BATCH_SIZE'], shuffle=False, num_workers=2)"
      ]
    },
    {
      "cell_type": "markdown",
      "metadata": {
        "id": "j1XtEU7hcgwC"
      },
      "source": [
        "#**Teacher and Student Models**"
      ]
    },
    {
      "cell_type": "markdown",
      "metadata": {
        "id": "w7X3f88acmLr"
      },
      "source": [
        "---\n",
        "**Models Creation**"
      ]
    },
    {
      "cell_type": "code",
      "execution_count": 8,
      "metadata": {
        "id": "PsgTF3X-ckyM"
      },
      "outputs": [],
      "source": [
        "from tser_kd.model.teacher import make_teacher_model\n",
        "from tser_kd.model.student import make_student_model\n",
        "\n",
        "\n",
        "# ANN\n",
        "t_state_dict = torch.load(\"data/teacher_models/resnet34_9714.pth\")\n",
        "t_model = make_teacher_model(\n",
        "    arch='resnet-34',\n",
        "    in_channels=3,\n",
        "    num_classes=num_classes,\n",
        "    device=device,\n",
        "    state_dict=t_state_dict\n",
        ")\n",
        "\n",
        "# SNN\n",
        "s_state_dict = torch.load(\"data/student_models/sresnet19_9225.pth\")\n",
        "s_model = make_student_model(\n",
        "    in_channels=3,\n",
        "    num_classes=num_classes,\n",
        "    beta=h_dict['BETA'],\n",
        "    device=device,\n",
        "    state_dict=None\n",
        ")"
      ]
    },
    {
      "cell_type": "markdown",
      "metadata": {
        "id": "KFJIl4XCe80L"
      },
      "source": [
        "#**Training**"
      ]
    },
    {
      "cell_type": "code",
      "execution_count": 10,
      "metadata": {
        "id": "s6OIgHP8fDAw"
      },
      "outputs": [],
      "source": [
        "import torch.optim as optim\n",
        "import torch.nn as nn\n",
        "from tser_kd.training import EarlyStopping\n",
        "from tser_kd.dataset import RateEncoder, StaticEncoder\n",
        "from tser_kd.model import TSERKDLoss\n",
        "from tser_kd.training.lr_scheduler import WarmupCosineLR\n",
        "\n",
        "\n",
        "# Optimizer\n",
        "if h_dict[\"OPTIMIZER\"] == 'AdamW':\n",
        "    optimizer = optim.AdamW(s_model.parameters(), lr=h_dict['BASE_LR'], weight_decay=h_dict['WEIGHT_DECAY'])\n",
        "elif h_dict[\"OPTIMIZER\"] == 'Adam':\n",
        "    optimizer = optim.Adam(s_model.parameters(), lr=h_dict['BASE_LR'], weight_decay=h_dict['WEIGHT_DECAY'])\n",
        "elif h_dict[\"OPTIMIZER\"] == 'SGD':\n",
        "    optimizer = optim.SGD(s_model.parameters(), lr=h_dict['BASE_LR'], momentum=h_dict[\"MOMENTUM\"])\n",
        "\n",
        "# LR scheduler\n",
        "if h_dict[\"LR_SCHEDULER\"] == 'ReduceLROnPlateau':\n",
        "    scheduler = optim.lr_scheduler.ReduceLROnPlateau(optimizer, patience=h_dict[\"LR_PATIENCE\"], factor=h_dict[\"LR_FACTOR\"])\n",
        "elif h_dict[\"LR_SCHEDULER\"] == 'CosineAnnealingLR':\n",
        "    scheduler = optim.lr_scheduler.CosineAnnealingLR(optimizer, T_max=h_dict[\"MAX_EPOCHS\"])\n",
        "elif h_dict[\"LR_SCHEDULER\"] == 'StepLR':\n",
        "    scheduler = optim.lr_scheduler.StepLR(optimizer, step_size=h_dict[\"LR_STEP\"], gamma=h_dict[\"LR_FACTOR\"])\n",
        "elif h_dict[\"LR_SCHEDULER\"] == 'WarmupCosineLR':\n",
        "    scheduler = WarmupCosineLR(\n",
        "        optimizer=optimizer,\n",
        "        warmup_epochs=h_dict[\"WARMUP_EPOCHS\"],\n",
        "        total_epochs=h_dict[\"MAX_EPOCHS\"],\n",
        "        base_lr=h_dict[\"BASE_LR\"],\n",
        "        max_lr=h_dict[\"MAX_LR\"]\n",
        "    )\n",
        "\n",
        "# Losses\n",
        "train_criterion = TSERKDLoss(alpha=h_dict[\"ALPHA\"], gamma=h_dict[\"GAMMA\"], tau=h_dict[\"TAU\"])\n",
        "eval_criterion = nn.CrossEntropyLoss()\n",
        "\n",
        "# Early stopping\n",
        "es_callback = EarlyStopping(patience=h_dict[\"ES_PATIENCE\"], delta=h_dict[\"ES_DELTA\"], path=\"best_ckpt.pth\")\n",
        "\n",
        "# Gradient scaler\n",
        "scaler = torch.amp.GradScaler(device='cuda')\n",
        "\n",
        "# Encoder\n",
        "if h_dict[\"ENCODER\"] == \"Rate\":\n",
        "    encoder = RateEncoder(num_steps=h_dict[\"T\"], gain=h_dict[\"GAIN\"])\n",
        "elif h_dict[\"ENCODER\"] == \"Static\":\n",
        "    encoder = StaticEncoder(num_steps=h_dict[\"T\"])"
      ]
    },
    {
      "cell_type": "code",
      "execution_count": null,
      "metadata": {
        "id": "-1T6OAuK6V2-"
      },
      "outputs": [],
      "source": [
        "import pynvml\n",
        "from tser_kd.eval import run_eval\n",
        "from tser_kd.training import run_kd_train\n",
        "\n",
        "\n",
        "# Sets the MLFlow experiment\n",
        "mlflow.set_experiment(experiment_name)\n",
        "\n",
        "epoch_i = 0\n",
        "START_EPOCH = 0\n",
        "curr_lr = optimizer.param_groups[0][\"lr\"]\n",
        "\n",
        "# Train the model and log with MLFlow\n",
        "with mlflow.start_run(run_id=None, log_system_metrics=True):\n",
        "    for epoch_i in range(h_dict[\"MAX_EPOCHS\"]):\n",
        "        train_total_loss, train_ce_loss, train_kl_loss, train_e_reg, train_acc, epoch_time, train_batch_time = run_kd_train(\n",
        "            epoch_i, train_loader, s_model, t_model, train_criterion, optimizer, device, scaler, encoder\n",
        "        )\n",
        "\n",
        "        val_loss, val_acc1, val_acc5, val_batch_time = run_eval(\n",
        "            val_loader, s_model, eval_criterion, device, encoder\n",
        "        )\n",
        "\n",
        "        # Logging\n",
        "        print(\n",
        "            f\"Time: {epoch_time:.1f}s | Train Total Loss: {train_total_loss:.4f} | Train Acc: {train_acc:.2f}% | \"\n",
        "            f\"Val Loss: {val_loss:.4f} | Val Acc1: {val_acc1:.2f}% | Val Acc5: {val_acc5:.2f}% | LR: {curr_lr:.6f}\"\n",
        "        )\n",
        "\n",
        "        mlflow.log_metrics({\n",
        "            \"learning_rate\": curr_lr, \"train_tserkd_loss\": train_total_loss, \"train_tsce_loss\": train_ce_loss, \"train_tskl_loss\": train_kl_loss,\n",
        "            \"train_e_reg\": train_e_reg, \"train_acc\": train_acc, \"val_ce_loss\": val_loss, \"val_acc1\": val_acc1, \"val_acc5\": val_acc5, \"epoch_time\": epoch_time,\n",
        "            \"train_batch_time\": train_batch_time, \"val_batch_time\": val_batch_time\n",
        "        }, step=epoch_i)\n",
        "\n",
        "        # Updates the LR\n",
        "        if h_dict[\"LR_SCHEDULER\"] == 'ReduceLROnPlateau':\n",
        "            scheduler.step(val_loss)\n",
        "        else:\n",
        "            scheduler.step()\n",
        "\n",
        "        curr_lr = optimizer.param_groups[0][\"lr\"]\n",
        "\n",
        "        # ES check\n",
        "        if es_callback(val_loss, epoch_i, s_model):\n",
        "            break\n",
        "\n",
        "    # Log hyperparameters\n",
        "    mlflow.log_params(h_dict)\n",
        "\n",
        "    # Log test performance\n",
        "    s_model.load_state_dict(torch.load(\"best_ckpt.pth\"))\n",
        "    test_ce_loss, test_acc1, test_acc5, _ = run_eval(val_loader, s_model, eval_criterion, device, encoder)\n",
        "    mlflow.log_metrics({\"test_ce_loss\": test_ce_loss, \"test_acc1\": test_acc1, \"test_acc5\": test_acc5})"
      ]
    }
  ],
  "metadata": {
    "accelerator": "GPU",
    "colab": {
      "gpuType": "A100",
      "machine_shape": "hm",
      "provenance": []
    },
    "kernelspec": {
      "display_name": "Python 3",
      "name": "python3"
    },
    "language_info": {
      "name": "python"
    }
  },
  "nbformat": 4,
  "nbformat_minor": 0
}