{
  "cells": [
    {
      "cell_type": "markdown",
      "metadata": {
        "id": "iQpuELl9iXg1"
      },
      "source": [
        "#**ResNet18 Teacher Model - TSER for KD**"
      ]
    },
    {
      "cell_type": "markdown",
      "metadata": {
        "id": "UP1qGvmzi7ip"
      },
      "source": [
        "#**Setup**"
      ]
    },
    {
      "cell_type": "markdown",
      "metadata": {
        "id": "paU5L6yr5I-p"
      },
      "source": [
        "---\n",
        "**Install Libraries**"
      ]
    },
    {
      "cell_type": "code",
      "execution_count": null,
      "metadata": {
        "id": "sTac59ZMj-3G"
      },
      "outputs": [],
      "source": [
        "!pip install snntorch dagshub mlflow pynvml --quiet"
      ]
    },
    {
      "cell_type": "markdown",
      "metadata": {
        "id": "dBQVBUcy6B0f"
      },
      "source": [
        "---\n",
        "**GitHub Code**"
      ]
    },
    {
      "cell_type": "code",
      "execution_count": null,
      "metadata": {
        "id": "MuhP3N9f6Hdr"
      },
      "outputs": [],
      "source": [
        "from google.colab import userdata\n",
        "import os\n",
        "\n",
        "# Sets environ variables for GitHub\n",
        "os.environ['GITHUB_TOKEN'] = userdata.get('GITHUB_TOKEN')\n",
        "os.environ['USER'] = userdata.get('USER')\n",
        "\n",
        "# Clones the repo and changes dir\n",
        "!git clone https://${GITHUB_TOKEN}@github.com/${USER}/tser-kd.git\n",
        "%cd tser-kd/"
      ]
    },
    {
      "cell_type": "markdown",
      "metadata": {
        "id": "-cqGM7pR5nBm"
      },
      "source": [
        "---\n",
        "**Set Seed for Experiment**"
      ]
    },
    {
      "cell_type": "code",
      "execution_count": null,
      "metadata": {
        "id": "cTkyf8fU5mkm"
      },
      "outputs": [],
      "source": [
        "from tser_kd.utils import setup_seed\n",
        "\n",
        "setup_seed(42)"
      ]
    },
    {
      "cell_type": "markdown",
      "metadata": {
        "id": "3LT3YYnV5X-v"
      },
      "source": [
        "---\n",
        "**Device Selection**"
      ]
    },
    {
      "cell_type": "code",
      "execution_count": null,
      "metadata": {
        "id": "6LqdQ7A0HC1n"
      },
      "outputs": [],
      "source": [
        "import torch\n",
        "\n",
        "# Selects the device for the experiment\n",
        "device = torch.device(\"cuda\" if torch.cuda.is_available() else \"cpu\")"
      ]
    },
    {
      "cell_type": "markdown",
      "metadata": {
        "id": "2if8l3uB5RrV"
      },
      "source": [
        "---\n",
        "**MLFlow Setup**"
      ]
    },
    {
      "cell_type": "code",
      "execution_count": null,
      "metadata": {
        "id": "xoLCGHsbls6E"
      },
      "outputs": [],
      "source": [
        "import mlflow\n",
        "from mlflow import MlflowClient\n",
        "import dagshub\n",
        "\n",
        "# Sets environ variables for MLFlow\n",
        "os.environ['MLFLOW_TRACKING_USERNAME'] = userdata.get('USER')\n",
        "os.environ['MLFLOW_TRACKING_PASSWORD'] = userdata.get('MLFLOW_TRACKING_PASSWORD')\n",
        "\n",
        "# Init DagsHub\n",
        "dagshub.init(repo_owner='matteogianferrari', repo_name='tser-kd', mlflow=True)\n",
        "TRACKING_URI = \"https://dagshub.com/matteogianferrari/tser-kd.mlflow\"\n",
        "\n",
        "# Sets MLFlow tracking URI\n",
        "mlflow.set_tracking_uri(TRACKING_URI)\n",
        "\n",
        "# Sets MLFLow experiment name\n",
        "experiment_name = \"TSER-KD Teacher\""
      ]
    },
    {
      "cell_type": "markdown",
      "metadata": {
        "id": "TWivr1lpP_M-"
      },
      "source": [
        "#**Hyperparameters**"
      ]
    },
    {
      "cell_type": "code",
      "execution_count": null,
      "metadata": {
        "id": "ZAkeKnKyQBD0"
      },
      "outputs": [],
      "source": [
        "# Hyperparamter dictionary\n",
        "h_dict = {\n",
        "    \"MAX_EPOCHS\": 175, \"BATCH_SIZE\": 64,                    # Training\n",
        "    \"LR_SCHEDULER\": \"CosineAnnealingLR\", \"BASE_LR\": 5e-4,   # LR\n",
        "    \"OPTIMIZER\": \"AdamW\", \"WEIGHT_DECAY\": 5e-4,             # Optimizer\n",
        "    \"HARDWARE\": \"L4\",                                       # GPU\n",
        "    \"AUTO_AUG\": True, \"CUTOUT\": True,                       # Dataset\n",
        "}"
      ]
    },
    {
      "cell_type": "markdown",
      "metadata": {
        "id": "AEZkg6JMiiLz"
      },
      "source": [
        "#**CIFAR10 Dataset**"
      ]
    },
    {
      "cell_type": "markdown",
      "metadata": {
        "id": "pAFqey0UOWia"
      },
      "source": [
        "---\n",
        "**Data Loaders Creation**"
      ]
    },
    {
      "cell_type": "code",
      "execution_count": null,
      "metadata": {
        "id": "pfRnmHQijBqo"
      },
      "outputs": [],
      "source": [
        "from tser_kd.dataset import load_cifar10_data\n",
        "from torch.utils.data import DataLoader\n",
        "\n",
        "\n",
        "train_dataset, val_dataset, num_classes = load_cifar10_data(auto_aug=h_dict['AUTO_AUG'], cutout=h_dict['CUTOUT'])\n",
        "\n",
        "# Creates the train and test DataLoaders\n",
        "train_loader = DataLoader(train_dataset, batch_size=h_dict['BATCH_SIZE'], shuffle=True, num_workers=2)\n",
        "val_loader = DataLoader(val_dataset, batch_size=h_dict['BATCH_SIZE'], shuffle=False, num_workers=2)"
      ]
    },
    {
      "cell_type": "markdown",
      "metadata": {
        "id": "oPmiijl1jxSK"
      },
      "source": [
        "#**Teacher ResNet-18**\n"
      ]
    },
    {
      "cell_type": "markdown",
      "metadata": {
        "id": "jkmdfkS16b0Q"
      },
      "source": [
        "---\n",
        "**ResNet-18**"
      ]
    },
    {
      "cell_type": "code",
      "execution_count": null,
      "metadata": {
        "id": "HmYx_Dzjj4oH"
      },
      "outputs": [],
      "source": [
        "from tser_kd.model.teacher import make_teacher_model\n",
        "\n",
        "\n",
        "# ANN\n",
        "t_model = make_teacher_model(arch='resnet-18', in_channels=3, num_classes=num_classes, device=device)"
      ]
    },
    {
      "cell_type": "markdown",
      "metadata": {
        "id": "KFgBXQGk7ViA"
      },
      "source": [
        "# **Training**"
      ]
    },
    {
      "cell_type": "markdown",
      "metadata": {
        "id": "turhHto26eRC"
      },
      "source": [
        "---\n",
        "**Objects Creation**"
      ]
    },
    {
      "cell_type": "code",
      "execution_count": null,
      "metadata": {
        "id": "uzO3YatimfGl"
      },
      "outputs": [],
      "source": [
        "import torch.optim as optim\n",
        "import torch.nn as nn\n",
        "from tser_kd.utils import AccuracyMonitor\n",
        "\n",
        "\n",
        "# Optimizer\n",
        "if h_dict[\"OPTIMIZER\"] == 'AdamW':\n",
        "    optimizer = optim.AdamW(t_model.parameters(), lr=h_dict['BASE_LR'], weight_decay=h_dict['WEIGHT_DECAY'])\n",
        "elif h_dict[\"OPTIMIZER\"] == 'Adam':\n",
        "    optimizer = optim.Adam(t_model.parameters(), lr=h_dict['BASE_LR'], weight_decay=h_dict['WEIGHT_DECAY'])\n",
        "elif h_dict[\"OPTIMIZER\"] == 'SGD':\n",
        "    optimizer = optim.SGD(t_model.parameters(), lr=h_dict['BASE_LR'], momentum=h_dict[\"MOMENTUM\"], weight_decay=h_dict['WEIGHT_DECAY'])\n",
        "\n",
        "# LR scheduler\n",
        "if h_dict[\"LR_SCHEDULER\"] == 'ReduceLROnPlateau':\n",
        "    scheduler = optim.lr_scheduler.ReduceLROnPlateau(optimizer, patience=h_dict[\"LR_PATIENCE\"], factor=h_dict[\"LR_FACTOR\"])\n",
        "elif h_dict[\"LR_SCHEDULER\"] == 'CosineAnnealingLR':\n",
        "    scheduler = optim.lr_scheduler.CosineAnnealingLR(optimizer, T_max=h_dict[\"MAX_EPOCHS\"])\n",
        "\n",
        "# Loss\n",
        "criterion = nn.CrossEntropyLoss()\n",
        "\n",
        "# Accuracy monitor\n",
        "acc_monitor = AccuracyMonitor(path=\"best_ckpt.pth\")\n",
        "\n",
        "# Gradient scaler\n",
        "scaler = torch.amp.GradScaler(device='cuda')"
      ]
    },
    {
      "cell_type": "markdown",
      "metadata": {
        "id": "g42dM7pO6dyt"
      },
      "source": [
        "---\n",
        "**Training Loop**"
      ]
    },
    {
      "cell_type": "code",
      "execution_count": null,
      "metadata": {
        "id": "JjidLT5-mwDh"
      },
      "outputs": [],
      "source": [
        "import pynvml\n",
        "from tser_kd.training import run_train\n",
        "from tser_kd.eval import run_eval\n",
        "\n",
        "\n",
        "# Sets the MLFlow experiment\n",
        "mlflow.set_experiment(experiment_name)\n",
        "\n",
        "epoch_i = 0\n",
        "curr_lr = optimizer.param_groups[0][\"lr\"]\n",
        "\n",
        "# Train the model and log with MLFlow\n",
        "with mlflow.start_run(log_system_metrics=True):\n",
        "    for epoch_i in range(h_dict[\"MAX_EPOCHS\"]):\n",
        "        train_loss, train_acc, epoch_time, train_batch_time = run_train(\n",
        "            epoch_i, train_loader, t_model, criterion, optimizer, device, scaler\n",
        "        )\n",
        "\n",
        "        val_loss, val_acc1, val_acc5, val_batch_time = run_eval(val_loader, t_model, criterion, device)\n",
        "\n",
        "        # Logging\n",
        "        print(\n",
        "            f\"Time: {epoch_time:.1f}s | Train Loss: {train_loss:.4f} | Train Acc: {train_acc:.2f}% | \"\n",
        "            f\"Val Loss: {val_loss:.4f} | Val Acc1: {val_acc1:.2f}% | Val Acc5: {val_acc5:.2f}% | LR: {curr_lr:.6f}\"\n",
        "        )\n",
        "\n",
        "        mlflow.log_metrics({\n",
        "            \"learning_rate\": curr_lr, \"train_loss\": train_loss, \"train_acc\": train_acc, \"val_loss\": val_loss,\n",
        "            \"val_acc1\": val_acc1, \"val_acc5\": val_acc5, \"epoch_time\": epoch_time,\n",
        "            \"train_batch_time\": train_batch_time, \"val_batch_time\": val_batch_time\n",
        "        }, step=epoch_i)\n",
        "\n",
        "        # Updates the LR\n",
        "        if h_dict[\"LR_SCHEDULER\"] == 'ReduceLROnPlateau':\n",
        "            scheduler.step(val_loss)\n",
        "        else:\n",
        "            scheduler.step()\n",
        "\n",
        "        curr_lr = optimizer.param_groups[0][\"lr\"]\n",
        "\n",
        "        # Accuracy monitor\n",
        "        acc_monitor(val_acc1, epoch_i, t_model)\n",
        "\n",
        "\n",
        "    # Log hyperparameters\n",
        "    mlflow.log_params(h_dict)\n",
        "\n",
        "    # Log test performance\n",
        "    t_model.load_state_dict(torch.load(\"best_ckpt.pth\"))\n",
        "    test_loss, test_acc1, test_acc5, _ = run_eval(val_loader, t_model, criterion, device)\n",
        "    mlflow.log_metrics({\"test_loss\": test_loss, \"test_acc1\": test_acc1, \"test_acc5\": test_acc5})"
      ]
    }
  ],
  "metadata": {
    "accelerator": "GPU",
    "colab": {
      "gpuType": "L4",
      "machine_shape": "hm",
      "provenance": []
    },
    "kernelspec": {
      "display_name": "Python 3",
      "name": "python3"
    },
    "language_info": {
      "name": "python"
    }
  },
  "nbformat": 4,
  "nbformat_minor": 0
}