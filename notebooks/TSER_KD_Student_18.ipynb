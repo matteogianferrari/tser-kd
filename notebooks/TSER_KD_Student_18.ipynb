{
  "cells": [
    {
      "cell_type": "markdown",
      "metadata": {
        "id": "ZbU6l7S97lxP"
      },
      "source": [
        "\n",
        "#**SResNet18 Student Model - TSER for KD**"
      ]
    },
    {
      "cell_type": "markdown",
      "metadata": {
        "id": "vUaD-Ggk7srE"
      },
      "source": [
        "#**Setup**"
      ]
    },
    {
      "cell_type": "markdown",
      "metadata": {
        "id": "olxJj3qN6_V0"
      },
      "source": [
        "---\n",
        "**Install Libraries**"
      ]
    },
    {
      "cell_type": "code",
      "execution_count": null,
      "metadata": {
        "id": "Z2PLshIm4l-1"
      },
      "outputs": [],
      "source": [
        "!pip install snntorch dagshub mlflow pynvml --quiet"
      ]
    },
    {
      "cell_type": "markdown",
      "metadata": {
        "id": "NK4Z89UZjjxc"
      },
      "source": [
        "---\n",
        "**GitHub Code**"
      ]
    },
    {
      "cell_type": "code",
      "execution_count": null,
      "metadata": {
        "colab": {
          "base_uri": "https://localhost:8080/"
        },
        "id": "NbrA52Sajdhf",
        "outputId": "12980b66-f77d-4c23-904f-4d6687085091"
      },
      "outputs": [
        {
          "output_type": "stream",
          "name": "stdout",
          "text": [
            "fatal: destination path 'tser-kd' already exists and is not an empty directory.\n",
            "/content/tser-kd\n"
          ]
        }
      ],
      "source": [
        "from google.colab import userdata\n",
        "import os\n",
        "\n",
        "\n",
        "# Sets environ variables for GitHub\n",
        "os.environ['GITHUB_TOKEN'] = userdata.get('GITHUB_TOKEN')\n",
        "os.environ['USER'] = userdata.get('USER')\n",
        "\n",
        "# Clones the repo and changes dir\n",
        "!git clone https://${GITHUB_TOKEN}@github.com/${USER}/tser-kd.git\n",
        "%cd tser-kd/"
      ]
    },
    {
      "cell_type": "markdown",
      "metadata": {
        "id": "2t6fX02G7R8a"
      },
      "source": [
        "---\n",
        "**Set Seed for Experiment**"
      ]
    },
    {
      "cell_type": "code",
      "execution_count": null,
      "metadata": {
        "colab": {
          "base_uri": "https://localhost:8080/"
        },
        "id": "8zNdOlLK92P3",
        "outputId": "87b765e1-4f2c-4b93-990f-7aaaf1ac3e3a"
      },
      "outputs": [
        {
          "output_type": "stream",
          "name": "stdout",
          "text": [
            "Random seed: 42\n"
          ]
        }
      ],
      "source": [
        "from tser_kd.utils import setup_seed\n",
        "\n",
        "\n",
        "setup_seed(42)"
      ]
    },
    {
      "cell_type": "markdown",
      "metadata": {
        "id": "FnYeSVRw7UeJ"
      },
      "source": [
        "---\n",
        "**Device Selection**"
      ]
    },
    {
      "cell_type": "code",
      "execution_count": null,
      "metadata": {
        "id": "nHFtZ8Mu7U0W"
      },
      "outputs": [],
      "source": [
        "import torch\n",
        "\n",
        "\n",
        "# Selects the device for the experiment\n",
        "device = torch.device(\"cuda\" if torch.cuda.is_available() else \"cpu\")"
      ]
    },
    {
      "cell_type": "markdown",
      "metadata": {
        "id": "5CpVNA4i7awv"
      },
      "source": [
        "---\n",
        "**MLFlow Setup**"
      ]
    },
    {
      "cell_type": "code",
      "execution_count": null,
      "metadata": {
        "colab": {
          "base_uri": "https://localhost:8080/",
          "height": 68
        },
        "id": "KQGoJkQ18pvU",
        "outputId": "7f388d15-6afe-41d4-a87a-f1153309a257"
      },
      "outputs": [
        {
          "output_type": "display_data",
          "data": {
            "text/plain": [
              "Accessing as matteogianferrari\n"
            ],
            "text/html": [
              "<pre style=\"white-space:pre;overflow-x:auto;line-height:normal;font-family:Menlo,'DejaVu Sans Mono',consolas,'Courier New',monospace\">Accessing as matteogianferrari\n",
              "</pre>\n"
            ]
          },
          "metadata": {}
        },
        {
          "output_type": "display_data",
          "data": {
            "text/plain": [
              "Initialized MLflow to track repo \u001b[32m\"matteogianferrari/tser-kd\"\u001b[0m\n"
            ],
            "text/html": [
              "<pre style=\"white-space:pre;overflow-x:auto;line-height:normal;font-family:Menlo,'DejaVu Sans Mono',consolas,'Courier New',monospace\">Initialized MLflow to track repo <span style=\"color: #008000; text-decoration-color: #008000\">\"matteogianferrari/tser-kd\"</span>\n",
              "</pre>\n"
            ]
          },
          "metadata": {}
        },
        {
          "output_type": "display_data",
          "data": {
            "text/plain": [
              "Repository matteogianferrari/tser-kd initialized!\n"
            ],
            "text/html": [
              "<pre style=\"white-space:pre;overflow-x:auto;line-height:normal;font-family:Menlo,'DejaVu Sans Mono',consolas,'Courier New',monospace\">Repository matteogianferrari/tser-kd initialized!\n",
              "</pre>\n"
            ]
          },
          "metadata": {}
        }
      ],
      "source": [
        "import mlflow\n",
        "from mlflow import MlflowClient\n",
        "import dagshub\n",
        "\n",
        "\n",
        "# Sets environ variables for MLFlow\n",
        "os.environ['MLFLOW_TRACKING_USERNAME'] = userdata.get('USER')\n",
        "os.environ['MLFLOW_TRACKING_PASSWORD'] = userdata.get('MLFLOW_TRACKING_PASSWORD')\n",
        "\n",
        "# Init DagsHub\n",
        "dagshub.init(repo_owner='matteogianferrari', repo_name='tser-kd', mlflow=True)\n",
        "TRACKING_URI = \"https://dagshub.com/matteogianferrari/tser-kd.mlflow\"\n",
        "\n",
        "# Sets MLFlow tracking URI\n",
        "mlflow.set_tracking_uri(TRACKING_URI)\n",
        "\n",
        "# Sets MLFLow experiment name\n",
        "experiment_name = \"TSER-KD Student\""
      ]
    },
    {
      "cell_type": "markdown",
      "metadata": {
        "id": "Vbe-kHtd8-qc"
      },
      "source": [
        "#**Hyperparameters**"
      ]
    },
    {
      "cell_type": "code",
      "execution_count": null,
      "metadata": {
        "id": "gMz9f1SKh3jz"
      },
      "outputs": [],
      "source": [
        "# Hyperparamter dictionary\n",
        "h_dict = {\n",
        "    \"BETA\": 0.5, \"V_th\": 1.0,                               # Leaky Neuron\n",
        "    \"MAX_EPOCHS\": 300, \"BATCH_SIZE\": 32,                    # Training\n",
        "    \"LR_SCHEDULER\": \"CosineAnnealingLR\", \"BASE_LR\": 1e-3,  # LR\n",
        "    \"OPTIMIZER\": \"AdamW\", \"WEIGHT_DECAY\": 5e-4,             # Optimizer\n",
        "    \"ES_PATIENCE\": 300, \"ES_DELTA\": 1e-4,                    # Early Stopping\n",
        "    \"HARDWARE\": \"A100\",                                     # GPU\n",
        "    \"ENCODER\": \"Static\", \"T\": 2,                            # Encoder\n",
        "    \"AUTO_AUG\": True, \"CUTOUT\": True,                       # Dataset\n",
        "}"
      ]
    },
    {
      "cell_type": "markdown",
      "metadata": {
        "id": "II8DpGBh-xKh"
      },
      "source": [
        "#**CIFAR10 Dataset**"
      ]
    },
    {
      "cell_type": "markdown",
      "metadata": {
        "id": "flJX0Vd9F0Hz"
      },
      "source": [
        "---\n",
        "**Data Loaders Creation**"
      ]
    },
    {
      "cell_type": "code",
      "execution_count": null,
      "metadata": {
        "id": "D3pB3mNi-1W2"
      },
      "outputs": [],
      "source": [
        "from tser_kd.dataset import load_cifar10_data\n",
        "from torch.utils.data import DataLoader\n",
        "\n",
        "\n",
        "train_dataset, val_dataset, num_classes = load_cifar10_data(auto_aug=h_dict['AUTO_AUG'], cutout=h_dict['CUTOUT'])\n",
        "\n",
        "# Creates the train and test DataLoaders\n",
        "train_loader = DataLoader(train_dataset, batch_size=h_dict['BATCH_SIZE'], shuffle=True, num_workers=2)\n",
        "val_loader = DataLoader(val_dataset, batch_size=h_dict['BATCH_SIZE'], shuffle=False, num_workers=2)"
      ]
    },
    {
      "cell_type": "markdown",
      "metadata": {
        "id": "_C2C-NSyF5Dz"
      },
      "source": [
        "---\n",
        "**Spiking Plot**"
      ]
    },
    {
      "cell_type": "code",
      "execution_count": null,
      "metadata": {
        "colab": {
          "base_uri": "https://localhost:8080/",
          "height": 1000
        },
        "id": "LmAzadoCEhFa",
        "outputId": "38d6b64e-2d19-4ed5-e77c-87e415dd4968"
      },
      "outputs": [
        {
          "output_type": "stream",
          "name": "stderr",
          "text": [
            "WARNING:matplotlib.image:Clipping input data to the valid range for imshow with RGB data ([0..1] for floats or [0..255] for integers). Got range [-1.8506975..2.7537313].\n"
          ]
        },
        {
          "output_type": "display_data",
          "data": {
            "text/plain": [
              "<Figure size 640x480 with 1 Axes>"
            ],
            "image/png": "[encoded data removed]"
          },
          "metadata": {}
        },
        {
          "output_type": "display_data",
          "data": {
            "text/plain": [
              "<IPython.core.display.HTML object>"
            ],
            "text/html": [
              "<video width=\"640\" height=\"480\" controls autoplay loop>\n",
              "  <source type=\"video/mp4\" src=\"data:video/mp4;base64,AAAAIGZ0eXBNNFYgAAACAE00ViBpc29taXNvMmF2YzEAAAAIZnJlZQAAHjFtZGF0AAACrwYF//+r\n",
              "3EXpvebZSLeWLNgg2SPu73gyNjQgLSBjb3JlIDE2MyByMzA2MCA1ZGI2YWE2IC0gSC4yNjQvTVBF\n",
              "Ry00IEFWQyBjb2RlYyAtIENvcHlsZWZ0IDIwMDMtMjAyMSAtIGh0dHA6Ly93d3cudmlkZW9sYW4u\n",
              "b3JnL3gyNjQuaHRtbCAtIG9wdGlvbnM6IGNhYmFjPTEgcmVmPTMgZGVibG9jaz0xOjA6MCBhbmFs\n",
              "eXNlPTB4MzoweDExMyBtZT1oZXggc3VibWU9NyBwc3k9MSBwc3lfcmQ9MS4wMDowLjAwIG1peGVk\n",
              "X3JlZj0xIG1lX3JhbmdlPTE2IGNocm9tYV9tZT0xIHRyZWxsaXM9MSA4eDhkY3Q9MSBjcW09MCBk\n",
              "ZWFkem9uZT0yMSwxMSBmYXN0X3Bza2lwPTEgY2hyb21hX3FwX29mZnNldD0tMiB0aHJlYWRzPTE1\n",
              "IGxvb2thaGVhZF90aHJlYWRzPTIgc2xpY2VkX3RocmVhZHM9MCBucj0wIGRlY2ltYXRlPTEgaW50\n",
              "ZXJsYWNlZD0wIGJsdXJheV9jb21wYXQ9MCBjb25zdHJhaW5lZF9pbnRyYT0wIGJmcmFtZXM9MyBi\n",
              "X3B5cmFtaWQ9MiBiX2FkYXB0PTEgYl9iaWFzPTAgZGlyZWN0PTEgd2VpZ2h0Yj0xIG9wZW5fZ29w\n",
              "PTAgd2VpZ2h0cD0yIGtleWludD0yNTAga2V5aW50X21pbj0yNSBzY2VuZWN1dD00MCBpbnRyYV9y\n",
              "ZWZyZXNoPTAgcmNfbG9va2FoZWFkPTQwIHJjPWNyZiBtYnRyZWU9MSBjcmY9MjMuMCBxY29tcD0w\n",
              "LjYwIHFwbWluPTAgcXBtYXg9NjkgcXBzdGVwPTQgaXBfcmF0aW89MS40MCBhcT0xOjEuMDAAgAAA\n",
              "GxhliIQAL//+9q78yytHC5UuHVl7s1Hy6Ely/YgwfWgAAAMAAAMAAAgH6i965jEt8pAAAATwi2Xw\n",
              "1E8WYAcQDuBfOuDfbbkVH7UxCJU+1q6u/DKOK8rjgSChdLxP6NvJr8iNRANFz6x1Z0oTDnHxTyFr\n",
              "kvvYBUlL8cAEvO2H0S1pfauyC7bLcmwcwrkUQQot9c3JJbVc0fbLxv86wgMknlTAXasQ5MNay2wL\n",
              "N2U1BrQsdZNiFmMKI4hW6e2oa8hWZr0FHji0B5YV0IMP6d0QRc7qzBir5edPGFGYzFDk9J4ByXV5\n",
              "XEoiA+XWl1ddtwReVUXw7FeaC3Gw+MmFW59k/bPLKMSYhV+wosoANeVmdfHaqsVkhzndK3r/euwk\n",
              "iTFSBv6sQFsmGNnMsaef3AsfF2UwyIGMhcllmp4DAjbhRuabbKMASxTrZ/Jkf0oV3tFEoRgEAuYy\n",
              "otu4R4nAsv4y+rxCkzt5TuUCCRp4Pld+s41BJu36XjmnikidrNTOOTg1ui7Kq0OAAA34Ac8KoAG2\n",
              "5lpBJ5LXzOH1sobs/u/pwPE7FSuv0oGlt1VQHlYyFiIKoVjeV9iYdRlYw067SgY+1hiO3CGEBNg8\n",
              "r9OuPHZFnHy8o/l9tB6Zg4MjSUnI+cjXymulxlLakD6PHGwd0j5bEa5gA2DuSYm2EKQfSPIbZ1MW\n",
              "liNkER/VJpkGgJcZwHAcBAQauRGiGVWtdfRKNk+L0+qGD92SRej4BS9Y36FHvXf+lfcCuIH/5LzF\n",
              "kJzIlQeUeb72rg7CHY0ej8Ky8fkHUYrhHKomSFz22+qdvbAywA/WiLqvNU94yy+YZ55GTNQ6G1eK\n",
              "qO9ZcYkK2til9q3X4Ezd7x3BV8h+wZmve9LIPjUzlT0ip+x4oRvvdIiADfJIxuIticVDhQk4Fvz+\n",
              "BBHIQHWJSKtaaWf5J/4Snl8FV6NvpdkYE3R1gCqTM0Zfb0HuvD7naDqeEVIvJq3vsix3qzO74ZoJ\n",
              "wFmXVdL1cOOD6ShoKA4tG8TkKzhjvXAADdq1uGezMT+/He/JulOjCEcxIaGHDqjnK5NUEp5dXJB3\n",
              "cQdn42/5SW0P5gT6riST/1xkfxdWX4ky6eqy32JMiLD2vu3/4121Pv5vnzmmXgNiZuot7KyTT0qJ\n",
              "OJZ94uHJJNePG4nleM1Vj62W2nnyx5xPWwiP4NAxtJFoyvFHakr0PCd8oXtu8otmc68yWKFTwDPY\n",
              "6ROpNzvgqmUouHuzxW13UUszNZLF8FrtDF9mQP+W1tls6vbOuTgc0UeWWHBW4FBzpfSYrjDuNVGo\n",
              "gnuBGjaYKhvgAAHi7p7jc1QZuI9uY++lzrYUf7XkfkN2REfIsHNfjfma/dBAhGHQcBjFh0tJgsVq\n",
              "cGQ2BxmM1nwTiY6NNVvm1IFhL/b1NdOY17kSOo+oaqvvEmk388eFDcWYKC6gWOVoJT4MGUDwYdaO\n",
              "dvn8K2TyLhnbQWO77zYlfO2ms4aDTICW+BB14P6B294mimx8WrBVxfjahwt4tVljcUmEjLIxD9yH\n",
              "PavgM6mIwfOdvIM5vCP1bmXPqSNtsptDZyL/m33/bCTy2RjjRUh6cBUmAAIKT5SISepor/VA+9Ji\n",
              "KbCc7ClJEd8O5qi6Cy0ciYVtkf0sI/RLRSA8LZpFw7g8kUTTvhzA38lsO7JWwFmfSFne/3zZhEJN\n",
              "XrpdbXgIoaQAWGnxOdTk61yb9RGLIOiabRPeHiGSbq40pm4zTF9rNIK6SuBXGNpXLIOwWTsuD2iG\n",
              "p1/r3WXf5qtODkFHWYL8sK9j+aZcAL9dO74hVVBnJB/1pu/6HdTFH1V+VKEranIBKfCGEsoaaF3w\n",
              "hASAnENF163rye91O5+y/yMcdf+MNukqn9ZxI8VAOywSUKcHMwyFmsIeC7z4vlGhYu1sAMekLp/U\n",
              "DHLj2tDFfl2j1ggiQGUCnd1BAcq6inS++tfNIM/LUsIDCgL/5+SUtqB1feGDCCEx+TfFN4i879J+\n",
              "f+vJUlYjUUy6vKqG79coQp627G9TrqDxTNoG+yXXuZh3C/u/8TCvsy1t7gAADP1hym5Ox7C0PMWi\n",
              "kZ9DL0+P1HceY+ejRGXO3Wo8DIkb3e4QPpZNM2DJXeEqaBCLKn1e4jLy0M+P+I3AX1U04HchG/RT\n",
              "LydwGf/Xcyc8/DUuVKas4+pFpdm1821xW3HzTT66nAz/+rnBrKeAxTnJxGCF5ji/0L9W5FLV8ZJO\n",
              "kTW7DqYqkvtr+ZgnoPRQEK4ctgek2yMO268oHTc1hzEsnLLaCAPLLwVrOxX2XciLGlvDcpF5KHQh\n",
              "mt/ao5ejR3Er91buSOYk3C/m/B5B2OYvMvB+UyQgQZyhcLPag49Jx9t7gRKmiXaT5KkVPiWIAYqH\n",
              "n9s5H6A9/ZXBhQEDUdgK4hMMOp5ajpCrtOVI9AvLmfC4LOTYEus+I5BEj6cLipZwh4ffoAABsAtg\n",
              "ynq8aP2Kq6hNJjzK89x01GpE0/tKpZoMBT/Ig3lI1Vtw+7mo3VNo9oY2bmfYrwC32ynFiy4HF5C2\n",
              "0miuwqH8bnq42/01iW9NVx7nyL49RGVI00AsZhBUHxMubotyoA2r6AK0WZNZWlSblaW5qXlJJhpY\n",
              "R8R0N2NziM9kNrEuhrVVSHabgkswGXYYyKD4ps+kO5aV96fCHh45w69fvYD9iphXQ4SCp5VNj7Vw\n",
              "zkQ3WDnkwDVZpee1GCbXykpV9Id4iY+aroFq3G6L7FPCOcaviQFp7ETupKWtPWeTxMd6ipje9Vzu\n",
              "c8aDKP3dMJKPYYznVnDYZNb2OxIi0jhROLJXB7O9Lv20KFDaStOMln1gzq/vExoRqfGXEtfug8+T\n",
              "Hp1pxLiKjgYtcCmp0B1fmrybOVUeabbbiC+MZ//ODD/Zs5xOyMCAc6b14YEOUjQMOJKL9VYkK1Ii\n",
              "Mccj/GUahZXj5czUvh0yccEz5SiLDO0PnqaXXBUWLcL9P0aer669JF282sOLtz6HcN7/rTH/A3ZY\n",
              "+s6W3p7uSihYFLWe6a2ckHVuEoebfV3nrVNy9Kpb8iaZZGeCY7a0eMiV01OJlhGMWHkE/Icqhdld\n",
              "eq/60YzDkHrMjNH4ciH9jDXhkyU/6KV9jSNJ8/QSDeRX6/bcph/CauDeDc4jcY9owqtda/8ESwRt\n",
              "lYto7pOcDaOwmBZ3AkVJ1S4uTCfAQ+4i/MRwZbA7Q44k87q5uhXDp5pZDpPWL2ni2UXtk/YYkG5V\n",
              "/eTrzhUqzbXZkCB3rfL5ar9cvVmMUikcxoAhoWnKlvIYTQHt7gd+0Q6/TXQvcOdLwg0j+RLIurkR\n",
              "5ZoMhD9JKnEcyRYFfmgLdycnHF5PviD2fY56QUUWRYCkyuCnbnwUNrLRD9rOhrcAqME1LlxR3JCT\n",
              "Y9VIXlw5WO7OqCU5uL+M4OtMKdjPiBYM52UPUTUI/CLjpobH/Y5ezj8F+GZjZlRbnhQ8ws3+8D8d\n",
              "QH4VOnng29asenn2aYYHR/NmvPqzkKjZfHw86mGcgz78eufSK70g7T9DcuiLH3CbF+PZYIsIxxmT\n",
              "CMNDIdLEFGM9gaeW8Axjh0pCuWiP56I/vBl6VSKuEo1ByDCmHRk3XbPKg1vSCry9HwWbGzGO+zCa\n",
              "XzlpQliXw5SpUAuyzQwRvJiQM8BpfXLYAHjA29pdLWkaTBVNJJCV6wzZ8W9f/8t/8QrQMmXvcYzZ\n",
              "yUbwiFedf+tr0EaZmHPTqXrpIFSgZQU10VG6M1oHtRozQl3jMAQpnxCVN0PbMfCYMscwgN/qY4hK\n",
              "HcNInBte9S9NB1wA5e9vxaiMMk+biWNOnRL4W+dv+v0GauDdlVn0n6wzN+HnHRAEMu8y5XV2J24R\n",
              "8On8qn/Uf0vRXrUgiSURmusuZ+HveySI3a1ZztG01S8ndpktlQcsl4tnSn9MTCP0BkPtWyihteCJ\n",
              "hvTPi7CMACA1/L8hJ7RMwXin0yf9vLncwONkbZzvrAbjkj/HVCltf+wBjyfAwFtZ3WQTFiidqmLf\n",
              "mLNOTic4AI/B8hIzVJce6E0WrNGSjgB2mna9FFrNxGnXilg0o0H+MWcuN4ZEUjDvTQbvYMWhlTKD\n",
              "Sm7j89CuoDrnYyv34/fQ/Bk+oyJs7ObZf8e1e349I3cySZrJWiY22gf9vO0p+6NEeXwPLg9Zg2/n\n",
              "GX4kbQV7hBK6J4so/CLV+UJasucXM4KxQ9BG5guSvpRcIjbpNBTC+VHW+O02WD36ofGubULs+HML\n",
              "H9fuWlmmLbaNaS+F4PRwFK7KNfdMfwN8YKqZVtVtM/pQ2Rl/zhcHXBijgBLtjyLA+IBfiMFqUznu\n",
              "j4YRdB0OjOvQ2JOclqCgGIPsVp3rCTEVcJE7ZvhWZ/auj11xmeHECrJ2CZw9WO5OW8F5ISNS4TT6\n",
              "3qM/QZR0pyqTwwE9ng1eivY80IcgyKkUQSocXwdXbeQles4MuwqbKk3KAY5ZxGUKg+C42kBi67Fj\n",
              "Rm9GuNrj8ro3olzMEj7GZuvCuLTFOznoBN/GWRYnVn6Oo6/NePYyNawblRC5MtJTgrMuRXlIKuz5\n",
              "PkWzuFoQOqRpjNrAihYXHnqHuEwcRqwFkE3/1R7o9dx1QQe+ku43gzWYK/TAB+/81IxFI/tFn0B/\n",
              "XbaD81UcKXSlp0kIDpS9n2wJDliU+SIg45YlrFHomRDCfmQo8hK/LuWjJdQexrVAC45gAwn7lLpb\n",
              "JDYPkveVsnQtJV/bdiIOleAZjU+hqeownHwdW95FgEw65UeT+emaOaSP187paFrn3dS/lP6FR/z7\n",
              "lNPGq7f6NKjXthtzX92R4JI852PV5K+hbnok8fu18yDBgbZott8OV3/aKTg+JL84N5BP3HCfCyVy\n",
              "QocFzYVzsnb9VZhNzb8HrKkmXcUCAamPAxcPmSKFXSQrPxHh7jSb9Bph0kXvqYfCTdzIim+Vw83d\n",
              "FfDdOZWpfJAvNzjHdSqo3TwU6CDD1aYFkntFFDQqwWwhtFoh2NPJhB8gTwGpIruNy+YxJtta5Qgi\n",
              "vplVGSpVL7aGGcd5UhS+ivYGcYkTKozY/G81E/RP0FdleLs/k8qh7p9NWNU9Bslkr5GKqzuB4pjT\n",
              "vuul0raEhgg0t3KOoZ+QHNTMhr8K7vJzc0CF61JNNvPTMWqM7xFrYAlMyZgXwKuKVTUi+5Y90Z8k\n",
              "H2/CiQ1Loy5SZNQRchHizGQOeHz4Zb1/M9qPeuwnH/vHhNb3Ma5ogEGHony+iJ4GFGkPeYkoPU67\n",
              "9p/FLpwHVoHt+8BIQuG2ZWzDb+dUe76zvXOJ05ZIHFMKvM7+JZAG1hCkz15ugzfbjIF+RE/x5xpt\n",
              "FXmWzdD7ZkwpoqyABbHlQkXCRDx8P6/PgXKo9L5ElCrwuC4zZotoV7vQOEva3kcjZYktU/H4/RZ/\n",
              "x6ijAjHR6MUIHk1TYc9Mq92xIPYaA6791T0uAn3+RAEF+Zig7KsO5NcIgCuBWLfCrWxRJOAewFcN\n",
              "bkzG04WYkJu7kb/UEJktzwr2fVGcKfNrzxxAP8O9yi1eYgN3/gdJTlmhZq4fBl6nFp2synzqHDTF\n",
              "zI8gX4mspW/2UqNe4t58CRNrP6kxiyD4C7pQsVuOMn88pK9APXoWfczrRTGKhV7tks9p02XPLQlQ\n",
              "xmKDSD7dEsuV2NuvSqCLDVrX2gcsq+nGb/JpMPOUc4RIv3k2R3yyr4IRna5i6oTNSV+rvtSJhDuW\n",
              "f7Oa/xkdXEJTX4slXFpD0yz7gxmbqo2wyCojMeNTMeh3XM1A7zb/OH9TjdaOt6e+6tVnZFEAE8YD\n",
              "HfSwRj+mpGfKSBPZTLAxJ9/FKJs7EHgPnjfqkBZfrqxaKC7cbsSi6Cq/m5U4iDbN2bZToRgBWxGQ\n",
              "LFosqsa+bQtojGNw/+ImtEO4vxlhzZGrU/2bLHgHL2+YPLulT+YWx+MJW1Mpadq+kaT/wxmEHIt3\n",
              "EZ+A1j+MIVagUxWmTfKIaX1X5cFqqGqrY0rm0FNObFzpdqnVrlHdVfXMg2pMlTkXboCQ2JPP5hCW\n",
              "RoSg50N6rR/d8hE3yCmnD22HyYPy0lK7ATObhp39izjcOl4TF5wAADvKzb22yPikkbuSKMGVGLAE\n",
              "b1rPpE2o2uQDaqkEGK/XCaFh1wI8NAV34/5olXGdWrHt4bx3OZyj3VwXyWjr2jAOJLnhai0bCo28\n",
              "zs4Kah+uoEUmymJtl8Mobf+L0i37CFXPI1GbA/DXa/v3sdSJHUBQZ1MFfON9o9cax0KIvOqiFLYf\n",
              "EVh87G+pTaJb86mdRBWZHKoGq1EtVOcjSWyfV78Zw876DhOBpegfnGgNS9N5rgyS3I77NFD49lwj\n",
              "NoZQgZhQaVrlvIS5hZlMOKF+ucWClmCzQ+LOsSpZZc3Yc4BsUcQDu0RYpoRKDg6ZtUExWzel242H\n",
              "+7IxKk7SojvwlsUn3cXnTK9Z2aU1c7QqQHmE+IACEajsDO+2V+gxJCzhcF0LNzYZPW3Hti+aP4eS\n",
              "KFF4GgNLTWRtTKGpopQhCsgPQ9aLBuijnkglX2anAXCqlNAgbRnPe7IkxPJPVqWCaB3DmA20s740\n",
              "kaO5ZwixNqzoNZCSttphIpzdcA/7R8tDlHEWjG1x+HvoiIgAr7XwrN/YKpjRz2qt4c8PV+E5dyjM\n",
              "GuQFs3ujvzh7sCB4k7ng7H8XJ+jE0jHrtAu0JRRG63UElAVWTmkRfOC+pRPYNCBnDrze0DP6zfRk\n",
              "D9CreK83kf2DTW6XV8oGCFjsjSkfSEgImvj80ShhQyj0vi7JPQatdf4ABrmfrcNAkGJmBVhI2Uou\n",
              "HmkSqHGaaI1G9DXBSmC0xrA3gkK439a0gvoyLMzSLaCEh5Twcmxym8/GdNqGb7TOOL8FEoQWkfbF\n",
              "Hjcw8hrWs2aQ9APf1RZNQY1tAnsqGo1ACyGIY9MdtnDy1o4afVT/CLSEabtLVp8TIj0QcYBxwOXY\n",
              "YaSy4v1XQMvm9m9ixrtefIYNkw2gIJnrFZE7Hq3Z6xoEw33CWSGKz9fCa+M+91bMacZPWFDu7o9x\n",
              "u3wwVEoxslDOX81h+0tfB6roYfvqAIWQTM0nG8gRNnRcfoyvPX0ANsUIljjqvVCvk95SNZh/l1Hg\n",
              "s+t5X9oNg9zvfrsKM6GgsNZQcD95euldeExvojmSlrhIVTslgS3hOZsnW7vImuomw/1VK9gEm8WJ\n",
              "Wce34NwChKsZuZKprPdPhKYc2EIm7IsgiTG47t/NTZSK9Wlw68WfOeOpbwr++BxqtroX+3hY68SY\n",
              "v1JWfjYTBWc61ursso/yryjizU/QPVZ4wcTe0TVtDqzVWEA93k2yeYfv3aNfxF1n+V5yezvOVZzA\n",
              "OrvETYXFmzyQFCjVAoWB/zmQqF6eDrsjPk3cNTiTVgYX9QMIUB6eEY1Jrs+00rKuu4xUEK+MZIZ5\n",
              "L7k132xMAddEq84/Owr5xw+lraWIIavCzOaMkyvZPsi4ilq0KDEovYZlKLf8/IDHj0x6+6/fQp8X\n",
              "6kDrsFpaUJ/XBdFMoV1cieM4mgEnT9mlpeT9V6TvPqZMcIaIkrki4qHarGaF8kK9sDnIh2eZgiXO\n",
              "R9tb9oDWsvcCb6AKOcLtU+Ik6XUbOGUJwDWTn/JbIbG8VPG3ecsM3bSR7txnE5fa3v6Xnnl8EoS1\n",
              "btEoN0WHGGtvDLmr7gP4e/+5q6wTfDkJwFfRy83CSoC5mCpXkHlflBbAEPa9kYEVB9SQRDUCi53i\n",
              "qZQZiYnKAiIChbzn+9PXOwtWZOwOOKobOemXC3S2ouc9f9AsT34whP3+WULqdjWU19wInMbO64mn\n",
              "sfDKpFNuN26a6UXTzNHJAS4HKYmfXhzAtmkNA+h6pwtYTinNX4BTdaXNv09YWymIzS9JXgTy6QCx\n",
              "3wg66JJNs0o4tIhn7GAHVTwlcwRPcOZmeYjhqUFfsbvgY+EC0PragDBa8PUqZedegotSyjq7BXvM\n",
              "Mgl9Hfq7TCmshMVCxPwn+25eykOP0VimWXTnY7i2dVdTuWrSb3LkWrfGDUWSLiadVAkjRlPc/TFZ\n",
              "wYJilsonfOwz/6+NkNKHPktnog5b1weQmd1e1lnTMMb6us5kceds1RTYpf82uj416qru3QI5F6vi\n",
              "B1tjRlw1T0gbrv9V+WgGdot+Z0CFs+/0hamiDcPdHxjIywvJEm9/kfxpX2GIFfB80rT0hrDB9H9Y\n",
              "em1/h3hayp+mSbCqFDlZX1YpTymmM2MNwhnrMItlTKoWNhSiIci54B8JihahL6xKpAs4J9c+ooL8\n",
              "dxt/zaiXi5w8VHl5QftdmFGNkt4JIaqWvY83HHrlmA6Rv5kPvxTRG5Fqa791Xft2T2+eAjXHCyhu\n",
              "bry8djjkD4teZZ3krzo1+wvK/ZVwebvdVNjROn7RWAewjy0tutGBbTnJzqg+tkzTnDPiXK2PPBcC\n",
              "wAD8VdoDXu0kXZPirmDdvOm36neF2la3pBVQdKr17NqSDJfVpjCCSdDN2hugw1qmhUKfURtb+oJO\n",
              "DZDkbWfcVraHQ066rAv4OLc4gbBfKpsAOO7sOYoHcX7IXXBFqq3H3KJaxxQOmsPrXd9W8PDX7Dmt\n",
              "0pgl3ldH6YqvByKreFmk6Oq04HnFgTzrDM+vdsHiYsoEwhTx5l8JCCWVTeKsffhAlHhhO9gjq27W\n",
              "TX45so6adohXRLYGYfzjYuUD4mHY269Px0lr/HzK0tJ5m47qQwq4B7wj6jJhgtutiAECsGZek0Mz\n",
              "yoUuC8W22oV9ciVUxWNAdQCHx3w+YdYGMLgB+5FptpwYNSlpiEWY5+HIaDSnTwUSr03gYdR5vzXI\n",
              "T7xNbuOi9yerw30J1uqB+QcQTLENZjT0MAE/FOa3LAVnG6dC1W375Mn9nPns+bLp+jgEhkUpwAFm\n",
              "7mxXWQTK53LVy+8GZBie2W5SfUigTCGF3B1RdRmTZ87XSvcxXaXX4rdheoaCt+4q5n2zL2s+t2HM\n",
              "ZXsqOzyEZySwc5WQy0s6NI7Jq4L0J679+wP4P2dfXWl4fIO4C8cDp8lzGI+jMTku8KloMyh1b8KW\n",
              "P12dmlp3t0JOyvR7xlsZYtwyx36nK89KZIx1nnM3XXS5VQlQeiy/fw5ZmVGnMmybQT6Q4gt0Upud\n",
              "XUouIO99Ywcml44iza8+j0oY7tOX+OONYu/DVk91qQAUD+TRiKDOV+li2BDvOA3V9WZ/dmT6SSYQ\n",
              "Z9ci3MRbwloPcdXuf7O9XSgF8kgZfvzhav+7z7d8QIlmeuRnF0xeA7ogO8DAiA9Az+qxE3YUtnNV\n",
              "Hq8lWTR+08cj0nqxB8WLvVR7cm03jsSaRj0tEa6fhc6D5fbX7X0TBxT0ocFDAOrQHcf9ZWiNJU/c\n",
              "lmF9flCo4whIb1JcAACSzflyB4L24gpyTbsBTCzEaI4JsAAAAwAACZkAAABWQZohbEK//jhAGC8E\n",
              "Rb9VowjgKmLEgPlu+enON4kTSrlhIJFhxXWQBMhehs4QPabR+YObjFdPY3U/d1dDGEtRPud00PfO\n",
              "YInUm7Voe56YN7PefDb9i9gAAAMqbW9vdgAAAGxtdmhkAAAAAAAAAAAAAAAAAAAD6AAAAFAAAQAA\n",
              "AQAAAAAAAAAAAAAAAAEAAAAAAAAAAAAAAAAAAAABAAAAAAAAAAAAAAAAAABAAAAAAAAAAAAAAAAA\n",
              "AAAAAAAAAAAAAAAAAAAAAAAAAgAAAlR0cmFrAAAAXHRraGQAAAADAAAAAAAAAAAAAAABAAAAAAAA\n",
              "AFAAAAAAAAAAAAAAAAAAAAAAAAEAAAAAAAAAAAAAAAAAAAABAAAAAAAAAAAAAAAAAABAAAAAAoAA\n",
              "AAHgAAAAAAAkZWR0cwAAABxlbHN0AAAAAAAAAAEAAABQAAAAAAABAAAAAAHMbWRpYQAAACBtZGhk\n",
              "AAAAAAAAAAAAAAAAAAAyAAAABABVxAAAAAAALWhkbHIAAAAAAAAAAHZpZGUAAAAAAAAAAAAAAABW\n",
              "aWRlb0hhbmRsZXIAAAABd21pbmYAAAAUdm1oZAAAAAEAAAAAAAAAAAAAACRkaW5mAAAAHGRyZWYA\n",
              "AAAAAAAAAQAAAAx1cmwgAAAAAQAAATdzdGJsAAAAt3N0c2QAAAAAAAAAAQAAAKdhdmMxAAAAAAAA\n",
              "AAEAAAAAAAAAAAAAAAAAAAAAAoAB4ABIAAAASAAAAAAAAAABAAAAAAAAAAAAAAAAAAAAAAAAAAAA\n",
              "AAAAAAAAAAAAAAAAGP//AAAANWF2Y0MBZAAe/+EAGGdkAB6s2UCgPaEAAAMAAQAAAwAyDxYtlgEA\n",
              "Bmjr48siwP34+AAAAAAcdXVpZGtoQPJfJE/FujmlG88DI/MAAAAAAAAAGHN0dHMAAAAAAAAAAQAA\n",
              "AAIAAAIAAAAAFHN0c3MAAAAAAAAAAQAAAAEAAAAcc3RzYwAAAAAAAAABAAAAAQAAAAIAAAABAAAA\n",
              "HHN0c3oAAAAAAAAAAAAAAAIAAB3PAAAAWgAAABRzdGNvAAAAAAAAAAEAAAAwAAAAYnVkdGEAAABa\n",
              "bWV0YQAAAAAAAAAhaGRscgAAAAAAAAAAbWRpcmFwcGwAAAAAAAAAAAAAAAAtaWxzdAAAACWpdG9v\n",
              "AAAAHWRhdGEAAAABAAAAAExhdmY1OC43Ni4xMDA=\n",
              "\">\n",
              "  Your browser does not support the video tag.\n",
              "</video>"
            ]
          },
          "metadata": {}
        },
        {
          "output_type": "display_data",
          "data": {
            "text/plain": [
              "<IPython.core.display.HTML object>"
            ],
            "text/html": [
              "<video width=\"640\" height=\"480\" controls autoplay loop>\n",
              "  <source type=\"video/mp4\" src=\"data:video/mp4;base64,AAAAIGZ0eXBNNFYgAAACAE00ViBpc29taXNvMmF2YzEAAAAIZnJlZQAAGO1tZGF0AAACrwYF//+r\n",
              "3EXpvebZSLeWLNgg2SPu73gyNjQgLSBjb3JlIDE2MyByMzA2MCA1ZGI2YWE2IC0gSC4yNjQvTVBF\n",
              "Ry00IEFWQyBjb2RlYyAtIENvcHlsZWZ0IDIwMDMtMjAyMSAtIGh0dHA6Ly93d3cudmlkZW9sYW4u\n",
              "b3JnL3gyNjQuaHRtbCAtIG9wdGlvbnM6IGNhYmFjPTEgcmVmPTMgZGVibG9jaz0xOjA6MCBhbmFs\n",
              "eXNlPTB4MzoweDExMyBtZT1oZXggc3VibWU9NyBwc3k9MSBwc3lfcmQ9MS4wMDowLjAwIG1peGVk\n",
              "X3JlZj0xIG1lX3JhbmdlPTE2IGNocm9tYV9tZT0xIHRyZWxsaXM9MSA4eDhkY3Q9MSBjcW09MCBk\n",
              "ZWFkem9uZT0yMSwxMSBmYXN0X3Bza2lwPTEgY2hyb21hX3FwX29mZnNldD0tMiB0aHJlYWRzPTE1\n",
              "IGxvb2thaGVhZF90aHJlYWRzPTIgc2xpY2VkX3RocmVhZHM9MCBucj0wIGRlY2ltYXRlPTEgaW50\n",
              "ZXJsYWNlZD0wIGJsdXJheV9jb21wYXQ9MCBjb25zdHJhaW5lZF9pbnRyYT0wIGJmcmFtZXM9MyBi\n",
              "X3B5cmFtaWQ9MiBiX2FkYXB0PTEgYl9iaWFzPTAgZGlyZWN0PTEgd2VpZ2h0Yj0xIG9wZW5fZ29w\n",
              "PTAgd2VpZ2h0cD0yIGtleWludD0yNTAga2V5aW50X21pbj0yNSBzY2VuZWN1dD00MCBpbnRyYV9y\n",
              "ZWZyZXNoPTAgcmNfbG9va2FoZWFkPTQwIHJjPWNyZiBtYnRyZWU9MSBjcmY9MjMuMCBxY29tcD0w\n",
              "LjYwIHFwbWluPTAgcXBtYXg9NjkgcXBzdGVwPTQgaXBfcmF0aW89MS40MCBhcT0xOjEuMDAAgAAA\n",
              "FeJliIQAL//+9q78yytHC5UuHVl7s1Hy6Ely/YgwfWgAAAMAAAMAAAgH6i965jEt8pAAAATwi2Xw\n",
              "1E8WYAcQDuBfOuDfbbkVH7UxCJU+1q6u/DKOK8rjgSChdLxP6NvJr8iNRANFz6x1Z0oTDnHxTyFr\n",
              "kvvYBUlL8cAEvO2H0S1pfauyC7bLcmwcwrkUQQot9c3JJbVc0fbLxv86wgMknlTAXasQ5MNay2wL\n",
              "N2U1BrQsdZNiFmMKI4hW6e2oa8hWZr0FHji0B5YV0IMP6d0QRc7qzBir5edPGFGYzFDk9J4ByXV5\n",
              "XEoiA+XWl1ddtwReVUXw7FeaC3Gw+MmFW59k/bPLKMSYhV+wosoANeVmdfHaqsVkhzndK3r/euwk\n",
              "iTFSBv6sQFsmGNnMsaef3AsfF2UwyIGMhcllmp4DAjbhRuabbKMASxTrZ/JkTZ/ULXV4t1R4DsWY\n",
              "bJdSlv59ciSBrlalXbueHCXlo5aUN/QQIUOHsoD5H4AWUl1GEQhTMn5+wx01wmETD1QPXmFFYIdA\n",
              "v2vBJR//PQuOrM3l5hOQFGn9x9OReZ4p1lqlIDHR4Bj2up9znwWYQPAhAJIj+h2coKx7vtQ71OVY\n",
              "DWdAR6458n0pOk193qJGaYvUFfm6YvuTrEjJfTB5ACaDiv0RF3kPx89t2rU+8Ci9x3geuq/mj9i9\n",
              "py2hn/POgJXOPgrSgxDrHacTy2chRWnAefzGVXepHce+zGFl4Tq/MomsWZzFNpbt401zRQyPLemu\n",
              "6PT0U3z8bSbaUiojAV71pXZqPvehhYNvImeyNZ5Y0bYnqqMXkZSzFax22kVESRL9kMdR56517gTq\n",
              "smSR2Kkg13opCh4URlPwLQqRuNB0vL5HUhMk1a32wgQm1XPri8D9UHnYjNY/vBPhSq0NwbUwlaVy\n",
              "wAB93e320377gjNhHnrvs5FXdejbbNNpcEfDw3jwc+YW66kdvhJI6Zqe606ypSVf8Pz9Iw7eKA23\n",
              "gbylRtP/t8JCDHtUB+4a826qPRW0uhXjEJy/uJI26LAKQU8tjDguaNbvlr2NiRcKWZAa73pYjzYW\n",
              "huT5psiyktcqBAvOZXJscNIwpRfaanXde3FXjLwug7/1+pQUkcGcad2Cp+s5xrUy7J/l/NmJDxml\n",
              "wU6EK7zuAAADAB/0A5YLF9XvSJb3/3xl8Vv/7ouf88f92926Q9bW4C+aj9e4aQ6PqJTISIBz9uaT\n",
              "/BpCfPv/8+PlqoVioT9jkhjx05T4daPGZ3q41TKzp2PKC6gPuJhaiCDrbpNfdqrtrmTA/SbAZCt8\n",
              "oxL3hQqt7gB5qn/HOBsPiVadGnWECUPVSQ1t3m2p9znwCDJj/IpEYcB3+lF8LM7hHW3P+4UaFWe/\n",
              "cgFdnPTw6Q80V1Fhqkeju9P5zTnxAAAnqQpORTn8QOMfUubnPEBVlXcV8ggPuxkFS2RfXoDGNvGy\n",
              "4AdA5Q5G2lBgYexy3dd8r4Pz4MBDwUSZnPt6TOEmULMb67TTW6tqHUn/olT6arwnAriJCSbmq5zn\n",
              "JDoUkI0hBXOowMZZPmtClARcDmxM+G0gEPUDmVvOhU+hSoysOb/vFZ8VSe5TxDFLNu5zmzY9K8vG\n",
              "lzxPim9x8xptAD+1CCGu2TwkZQ7WvHBOnEEBjsDTRyg4sCwQyl5jVhR8kTaqFld0zSVij527NFNv\n",
              "Ba3vZOFAjRch77et9LuO1ted/C9gmUk/3fRjSqiJER7W4qtZWWJG4DDoQUmiJKPR5UyoK4iPJ3bN\n",
              "T7Lwrc961ZGXJ9IYLnoOTts5SVwdbdT3+WPMba7ZgAHJnHd6vQ++faFKP8f/iHRKQnK0ZR6vHoe/\n",
              "6EENWxh+g3/1tOfjChQmM0lfHjPP92G8l25bcsPAF0yTlq6lQLAbi/DLxXYow3ivVwwj1Mc83Z0l\n",
              "dRmP1O4hRdE0WtOQjKfNlbVnCfJINYEqR1jR/OuJcuhi5yGcmoYuaB88m91KjL0vaJ7DRQirxbEQ\n",
              "4NHvM9/zwEBz+X79xjaKK9oAJYzLsAO3/0PBvf8HfGejsNs6WfN4WM4Wv1IqW7EDbwnRNxXiumyZ\n",
              "gvqr8HJGwKdiRi8ycD638t1LAArX5z7PKgB1XetwoEBszpyhdrBZkvZ+JUjaN1kmEJxW9+hgAzA6\n",
              "l7ksgjUn3oUEl4zBppteCzgv30krr2aO7YBQxIeohnqSYLHZVDr026Jl22Orgjzr1OmlIkdocs5C\n",
              "GLaSQaRhMU3h034HQRgm8OD/3Z1j8QTcu5HNdoHDA5BWLbc4X2j+byBK6R5MWtD01+KFyMk7S8D8\n",
              "03+njFuRCRbr97hqPiAAk6FmyYxGH5ebtZnFJmkaGjZwOVZAGkOXEXNUR2lTBCTwy3Fpb6UMU+Tc\n",
              "/OtkInUuSEe4xqE/cMp4nVFeyn6ZllXCOi8llSc88XI2TPJFiOaGQjBLDQ982OHas2aq3MxFwoeU\n",
              "jnYKulfFJJh23V18vETSnp1sf1V8txQtL5XzK7roXl3T6dgMM+/hrWvUMwS92YYy8QFNZVaCmtQv\n",
              "WlucylhMVESiiWz0T3ypEUTW9h45ci79tcaLxO8yTsURhLcQn2uYUIU60dFnGcesA6GFICH7dy8K\n",
              "WR3FX78Mi/gJRFgqQQZPfGMFNMmzRSYAWCAIMm++Oe1nBQlPYuWxRY6e29fxB0M+x4vEN+m4bq/J\n",
              "GvSo2R7aI6irLw08+UwsKNMt91cDNk88rKB2WPNBbqxJfCxrTBFyczQDkE7APAysdrtltahTWqqq\n",
              "2HTkr2gq4CRXXJgeX1BTpGIhtuIH6e2qruVKd2i73TYmjsfH7R9v7E0+nGgpvqbb1ozZ/BUTSE++\n",
              "3L3jCP8/drcUHtvOdL56l/dPEn88G8yTYgM6oNoGY1M4jRiIsoStVJ0CEn34c1rdvLOHoxaGTLqa\n",
              "KnWZ32DEsiv/cJ9jsiNR6iz5WClYkj60xC7DZaC/o8I2NuTq7zlNBrpvLdRv6gBFbTpnDTvcidKv\n",
              "5dHOiXCpVV3fSgpZ7bymKsJ8fcFmF5fK6nsFDHO3ZtagyDOCKXmIU276DNH/lUrWZBchgATyusGX\n",
              "rFA1GHo8YVkqgb70U8r7vk8O5cX8In+7xhJYTAf2se9YGAmdMoS3TeEysEJ8kWTnrWqnBZKlKImO\n",
              "8pV+9gKoCw36wE94CDvDvJlLYIieXZXhtj54PFTdRVsgf26go+G9PbRwsWiMS2w1ozfKM3avDKx0\n",
              "DQrmk570vD8FnaYdEXT+slaVIBImOlUumGtRgZhIc7+8xm9xPRt2G10jSZ+lDHSkAhTh2tKbHIxt\n",
              "qAhsYEf/i//r7CdXjHhE1ApyL4K77LtdrOvaiIrocMIJffooslmdxmeI3jX8iYZLPoAZzmzmC9OC\n",
              "Vevz3iYSVIlBQICwl5IMLwhd1DtB3QR3hLxTMDT5MgzsZkIOIBBfP+YsK4q6MPWjfGL89QFzcl5g\n",
              "H/7RHlHmA9WGBLS3qIyXbmgwoHpjDaZPPPeb95SJzYANEjzRLRthsaL10IvWgDWDif10U4r9APbG\n",
              "fLdTUzGFXa0jRWARBacmc5jMlFPJ2n8JGP/k5CGfxykTHYFGgrMy8c8Tt6w9x3odR2XRxLuVwHJu\n",
              "Tal8/rqsdeF+ojeHbQX52Jbsltq2icEB4zN+LYbqBIJxhhppESYAC8NJ8r/zZQJJN/S+k94c+Bvh\n",
              "C2dR2JnYYTRlsL0i7fEu31lIP/daEdfsoogNuIyI/+E9AYkwz2XaTGQcELFgN46rzR1mgNVCIQVm\n",
              "Ou2YVCVg8w06TIX8dv+k/ihFjNsYSrG3ROOsaQhbDXgzp/I7YDO0zQa19kJkX+nqppLrKY9znGnd\n",
              "NhE9Gbkn9/52ucSiLaUhbURsEcCCfxXNWLvXKnTX9N6rCi/r2pO03zgzJP12hrECH3QtYQ7gek1h\n",
              "/gsxvEJZdTQAb1Gn8panu+rcUj154AAL3en54/oqYWFkNUbaAHpUfhSN/uPk2GCJpy1dtYuCLaGz\n",
              "bAVudjztn7ameTL/PzHtZ/D4N7v3ZYOBL00FScewErRCcJb2jx9PrIiODqGmHevPVe7W9CJvyAsx\n",
              "dOkXorabA4ao9gPaS9kmvWU4LikiYE3zANgKO8kjDbQ9OQfimH9RnHgv/sS0jrjMn/CaRzlR/Mxw\n",
              "HO9zWd7PfyBIBNHyzh4Zn8vxOCFIPbUl4op+dOwZmzmOOMVEQPMtlZeZTdeARQIhhLoH9Y1MtaOF\n",
              "2H5JmYj53xDlcd5MulCSrwfbQxndDvbG4w1rlPweb6xj3aHVpqlbpYIQ28PvktH9nWK/FkB23dzs\n",
              "yEEiFmuC8iLbwsgEpMmZIGlETkObQToLf7XOMMPjksm0K3PGhKOlnRaY+6c/JGN9bVzdvMUnLNf1\n",
              "7H64Kcz+lGfdvNj6gDN59vl9g+/Hv/bJkLgPnL8G2axEd9OfJ++moruJxK2lmmNYHT0SbLVSM8z1\n",
              "uHOd0dA9wPo7qmswaJmivCW1H+rxboxjke8Pn/WPsk/uOrW1IwRaNPPFvU0fsasWPmeKMgwyQ0HB\n",
              "moo3jVzBRe4F6zzvXGs7H6I4d+c60e+V7N1TTP6ejEgYBPm+fqSmoM02s+3chppYYoEDFTE/T8tn\n",
              "zujbPg+7t7+5Ig6Ru+x6ep7YbjL7KsjcJOWhdYPyczpVvRywYh3NkVREPW0giZoUnnC1QiFmc1se\n",
              "RmBhvD7oRO8xRHaQnQJ/LOzbFkSmjAPSaefFtce4ughbtYUB3J4/zW8Xl/DxqB4u7/AOcdVMC+9k\n",
              "v99Zb5pZsZx4O0vSRgTQNS+6q28HhYJxHlKaoswuVxSz/9GIG8A2996U6H2gqrWV5p8TIBYYNlUe\n",
              "cIKoFcBt218bWB+WRvaW9/2zuKSkDAB+zFdFf0jdBAPwfrHvEcGDO+HAPsKKx3smw8s46iwkMBdQ\n",
              "5tQHH3N/G5B32V4ZnXVxeHTBejO1WykQqyi4ivsKOueCQwuT3j3ZGePZmAhurSoNxmDuZl5xsIt9\n",
              "Hi3hM9avwDGW1k8STZeTAnD8rn+J8fF5FYOsnnH9rSbc+bTGYXQ36K2eyMa/4gu94QDcVtpeSA9w\n",
              "ACLOvpZKsfFtpp4kvpFsuE360mSvfY5QZzg83W3OJeKZvw6QeUQBOkv4b5D2r3lvd4MeG6/5Tkiv\n",
              "O4CcAq92HFdzOIwVoNaoiFWVWQAcRgIAuIAyrzmpxY1u0b9dKrr/vTuBsRu660H7TvCBUelWttqT\n",
              "CqH+JtGTpVdMSkSZb9pZg0e0XaSGGpY0UzZZa5W+FLIKZx6p2yl06+hkvEAX6vlovpnPUlTO6ZW3\n",
              "a7nmztLeDxQ3fQqH3WmNmkS1JBL6RK5nk8BiNTT/gxcgAAAUijGULI425yTJU+oDCPx5S4qcC7UY\n",
              "5vPYPQSz5d8rKwwxpnLvy1Kc6c/XLTw4cBt0MJ7G8Wn/RkFDpZlTm7P+393frL4n0LQvTNvZiLrg\n",
              "i1/vtB8evwvf8sCxAVHGdn2LD1g58ygOdotHdfAsxttUb04cRlf3J2hsdYbkUonFvMDmTa/kAHEz\n",
              "JvwZ5Vct1xZ8wuXCe8PoHoQ7M9n2jl/Xlly+v0CGL2wg2WNwml57wRmSTvo01egTcSuWQi/v+bJb\n",
              "y6r4xutuC+swwuwAAKtB4zxapQiMy2h94WdwPS0Ik5HuE21ruS13yTJgLyUmpbWDkZaUORXBHvqU\n",
              "zZ5gZl+tyMjI7+iU9uezg4pT0z2GE00cpFfo2qgH2Hvt8onrkkyhoiHMDbBiTEO1LvNsXZyAoDdP\n",
              "dL2IFhdyvvahwjt19IHu+DdodPsZD+fWF2mB/GSJKpR12yNuPk1LqCgCKxB0dSvqZafu1h1YcqQ6\n",
              "hIwAXBNr0JPCG1GeHoKvdMhahbQufQ0oGCW43mTbDvsymeNpTNmkweCrtF6WB3tPRckxRzApYNIX\n",
              "oTeRfXOpihZyBM0Nff84Q1rKuHKA/96qFMoHfkrLojqGq6MS0iYtzC84JiD4+RbnApMM8m6yYAAP\n",
              "vgaiQqQqSir1WCLODzSAZ4ea5b/U4eo54YID9WjO9kRvAQDvCx+AH3FhedtySaAjj+1LdfEU5TIz\n",
              "E0ke8kvLxEeKsB+hadv2Do77/LF1WL/2m1mWiGPwaIqTLs5qFaD4LzMBcdqAyYKF9hdP2mXZWTDy\n",
              "OWHyU3iunST2cF68cHBKgI7LJIAW6SrgZzOOt6MfeqLuWMCEtGbMA0c/1DMm0J7LI/d3mjwnyBCf\n",
              "urSAJrqPQkfrRXtY/1DqdVaVA199pzgqrRFnz2gpSvejXhpBCjms9KC2bmOLt0xHFI9fgOkWaeDh\n",
              "9s8VljhxsS7hDPnLK5t3R74Oe0y5galQwOmHUAEc24Rg/pgZ4HWxMwIdlKR/s13BnU9UrJWuFnPg\n",
              "VvFND4gK/UjbxWQy3bKyHe+AAu9cEM78nnPgX+tnBSJYEc4xADd16y8qTCGn5ZsR5mOwWXh4hrEp\n",
              "BMr4dEah05sLVJo/cPxikfW9kuLGeyixSBgXcZtH0Qx4BamNjBQ045SnZgOvJjXT95TCOKIRPoKd\n",
              "G2pEtm+tjM6J5u46GZvd8KgCTiSo/OxACKw+iAzED62KgjBfJZDeyn5j9eA7XIaNmpwWcXoc8YtL\n",
              "mBkJyjhcaMzthElY6KcXsDxQCWbzdI6h9qNflwsP/k5lZ9Dk+iata9KAHtTbRj+vBNhB2WszDHWP\n",
              "nyp32qJQJwTYjOvJ8GJlsi/pYOiQmQkAlbJKxdeNcjr76D8cJ2Rbkt7V4w5aEHXXJFrcBJBax7+I\n",
              "P/I+1bYJOEjQWBUOg78mm9XfpScv+6kijhIJRo2m4MKuaZOl0g6RWi3fW5klAXgARGilqQobK58m\n",
              "capOL4NFeUnh2lPtAl8CpYAaQ/hxuqAuTtIOvsZuJQP/hH3WIuRMdsL4dRoQJHWinWB7w/3cyhuL\n",
              "hFJSphQMAAX3pFQhIrni0+pZzbFf4ObAF/kXGCpPxWdjXs6+5cjEh4wbfVzpp+cHs+WA1vNn55Ln\n",
              "TJ7dL2qTeAZwu7GQV3uQiwyPpinW24Ptx6/IlOhBSiPajQYM+0b7n/RRcrZmm5FWmcjufAd4W3xx\n",
              "bQlgCacgfi6rMt6tUthGYarGghNfNVQWEk8xWiIVJcniiROrIYr+6cgsKhtwshqTLh8vvQAABwjz\n",
              "lFjlli4MCgQiFoODNT0Qq6cxSyqoRQfNT3u0L0UoBPyfqUBWT568Ya6QiH/JJnfCpFl8q4LFHImu\n",
              "H2WuHpdcJAlEHc1GtaJX9YrNpYfB51fTLQt2EZupqC7sS1matbnmlaioK2Cd/uqct89Y88rg8oaR\n",
              "7X5bxGE/cEesIsfveOA5vwXX+/almXDbOuckWgPHACfKiNeaSd0r9fphD910UywAAAMArLWM/OTN\n",
              "OLSqwceL80lW6Ov1ZVzQcfOWw4IVKq0mqbzkUT9q0AKfAdvkKZ3lnP5jc/lbvYe0D0ARu6jZwXlI\n",
              "LyWsz+teaAcMoENFs8/TszPnTE5LHYjnr40um6kU5QMYO938GR95Es/dGEfFBE7d9aUzUADxFJEs\n",
              "YaK5wmrGB9UqBqyQAAADAAV9AAAASEGaIWxCv/44QBgvBEMVpgfnmZnUPqmpNZWSz4CCE6dqo3rc\n",
              "5pzFee4iZhgPWeU5vkQPW4l15GbmCngWX9iKxqqGk2c/g4cbgAAAAyptb292AAAAbG12aGQAAAAA\n",
              "AAAAAAAAAAAAAAPoAAAAUAABAAABAAAAAAAAAAAAAAAAAQAAAAAAAAAAAAAAAAAAAAEAAAAAAAAA\n",
              "AAAAAAAAAEAAAAAAAAAAAAAAAAAAAAAAAAAAAAAAAAAAAAAAAAACAAACVHRyYWsAAABcdGtoZAAA\n",
              "AAMAAAAAAAAAAAAAAAEAAAAAAAAAUAAAAAAAAAAAAAAAAAAAAAAAAQAAAAAAAAAAAAAAAAAAAAEA\n",
              "AAAAAAAAAAAAAAAAAEAAAAACgAAAAeAAAAAAACRlZHRzAAAAHGVsc3QAAAAAAAAAAQAAAFAAAAAA\n",
              "AAEAAAAAAcxtZGlhAAAAIG1kaGQAAAAAAAAAAAAAAAAAADIAAAAEAFXEAAAAAAAtaGRscgAAAAAA\n",
              "AAAAdmlkZQAAAAAAAAAAAAAAAFZpZGVvSGFuZGxlcgAAAAF3bWluZgAAABR2bWhkAAAAAQAAAAAA\n",
              "AAAAAAAAJGRpbmYAAAAcZHJlZgAAAAAAAAABAAAADHVybCAAAAABAAABN3N0YmwAAAC3c3RzZAAA\n",
              "AAAAAAABAAAAp2F2YzEAAAAAAAAAAQAAAAAAAAAAAAAAAAAAAAACgAHgAEgAAABIAAAAAAAAAAEA\n",
              "AAAAAAAAAAAAAAAAAAAAAAAAAAAAAAAAAAAAAAAAAAAY//8AAAA1YXZjQwFkAB7/4QAYZ2QAHqzZ\n",
              "QKA9oQAAAwABAAADADIPFi2WAQAGaOvjyyLA/fj4AAAAABx1dWlka2hA8l8kT8W6OaUbzwMj8wAA\n",
              "AAAAAAAYc3R0cwAAAAAAAAABAAAAAgAAAgAAAAAUc3RzcwAAAAAAAAABAAAAAQAAABxzdHNjAAAA\n",
              "AAAAAAEAAAABAAAAAgAAAAEAAAAcc3RzegAAAAAAAAAAAAAAAgAAGJkAAABMAAAAFHN0Y28AAAAA\n",
              "AAAAAQAAADAAAABidWR0YQAAAFptZXRhAAAAAAAAACFoZGxyAAAAAAAAAABtZGlyYXBwbAAAAAAA\n",
              "AAAAAAAAAC1pbHN0AAAAJal0b28AAAAdZGF0YQAAAAEAAAAATGF2ZjU4Ljc2LjEwMA==\n",
              "\">\n",
              "  Your browser does not support the video tag.\n",
              "</video>"
            ]
          },
          "metadata": {}
        },
        {
          "output_type": "display_data",
          "data": {
            "text/plain": [
              "<IPython.core.display.HTML object>"
            ],
            "text/html": [
              "<video width=\"640\" height=\"480\" controls autoplay loop>\n",
              "  <source type=\"video/mp4\" src=\"data:video/mp4;base64,AAAAIGZ0eXBNNFYgAAACAE00ViBpc29taXNvMmF2YzEAAAAIZnJlZQAAGZltZGF0AAACrwYF//+r\n",
              "3EXpvebZSLeWLNgg2SPu73gyNjQgLSBjb3JlIDE2MyByMzA2MCA1ZGI2YWE2IC0gSC4yNjQvTVBF\n",
              "Ry00IEFWQyBjb2RlYyAtIENvcHlsZWZ0IDIwMDMtMjAyMSAtIGh0dHA6Ly93d3cudmlkZW9sYW4u\n",
              "b3JnL3gyNjQuaHRtbCAtIG9wdGlvbnM6IGNhYmFjPTEgcmVmPTMgZGVibG9jaz0xOjA6MCBhbmFs\n",
              "eXNlPTB4MzoweDExMyBtZT1oZXggc3VibWU9NyBwc3k9MSBwc3lfcmQ9MS4wMDowLjAwIG1peGVk\n",
              "X3JlZj0xIG1lX3JhbmdlPTE2IGNocm9tYV9tZT0xIHRyZWxsaXM9MSA4eDhkY3Q9MSBjcW09MCBk\n",
              "ZWFkem9uZT0yMSwxMSBmYXN0X3Bza2lwPTEgY2hyb21hX3FwX29mZnNldD0tMiB0aHJlYWRzPTE1\n",
              "IGxvb2thaGVhZF90aHJlYWRzPTIgc2xpY2VkX3RocmVhZHM9MCBucj0wIGRlY2ltYXRlPTEgaW50\n",
              "ZXJsYWNlZD0wIGJsdXJheV9jb21wYXQ9MCBjb25zdHJhaW5lZF9pbnRyYT0wIGJmcmFtZXM9MyBi\n",
              "X3B5cmFtaWQ9MiBiX2FkYXB0PTEgYl9iaWFzPTAgZGlyZWN0PTEgd2VpZ2h0Yj0xIG9wZW5fZ29w\n",
              "PTAgd2VpZ2h0cD0yIGtleWludD0yNTAga2V5aW50X21pbj0yNSBzY2VuZWN1dD00MCBpbnRyYV9y\n",
              "ZWZyZXNoPTAgcmNfbG9va2FoZWFkPTQwIHJjPWNyZiBtYnRyZWU9MSBjcmY9MjMuMCBxY29tcD0w\n",
              "LjYwIHFwbWluPTAgcXBtYXg9NjkgcXBzdGVwPTQgaXBfcmF0aW89MS40MCBhcT0xOjEuMDAAgAAA\n",
              "FntliIQAL//+9q78yytHC5UuHVl7s1Hy6Ely/YgwfWgAAAMAAAMAAAgH6i965jEt8pAAAATwi2Xw\n",
              "1E8WYAcQDuBfOuDfbbkVH7UxCJU+1q6u/DKOK8rjgSChdLxP6NvJr8iNRANFz6x1Z0oTDnHxTyFr\n",
              "kvvYBUlL8cAEvO2H0S1pfauyC7bLcmwcwrkUQQot9c3JJbVc0fbLxv86wgMknlTAXasQ5MNay2wL\n",
              "N2U1BrQsdZNiFmMKI4hW6e2oa8hWZr0FHji0B5YV0IMP6d0QRc7qzBir5edPGFGYzFDk9J4ByXV5\n",
              "XEoiA+XWl1ddtwReVUXw7FeaC3Gw+MmFW59k/bPLKMSYhV+wosoANeVmdfHaqsVkhzndK3r/euwk\n",
              "iTFSBv6sQFsmGNnMsaef3AsfF2UwyIGMhcllmp4DAjbhRuabbKMASxTrZ/Jkgs/YFgirxbtb+I0u\n",
              "RlzoZl4HMra3aMjl406o8w4+WTUeoMxfWof7PXrEyJ95BkezPLpgAAKwsEcQncxuPg7uUm0eH7/b\n",
              "a1MaO/8fvNYfrQZzmNGIBsl7tkYlXeOuVH2VEG3fWx1OEAKfz2anc1HnQGuDcwcQ/Vycona6fgwZ\n",
              "qmN/3tbJhU4msDk0ojN6ywAFD6nGLfp40mexwtzAaAVePiUje65BLSVEhTgBUCqB8QtVJRWTv7Nq\n",
              "AicAzwnZwKWYVL4IDookDigPFF+7dRP0W1gMIpIAEPmagVfneT/y3swI39S1+0fnQihrmk/x0kIR\n",
              "n+m/EX2HETbP34xN/k6eCQsX+BjXACJdx/Rxx39Y8+sPSmpYEMV3h1POri1r7WmPh8VoWeuTKkAd\n",
              "JUDI0p0fzTV+Mc7ArhV6pppBuYIzn+pDlKZP95EI4QE9p7GHkXTF0O7EcsyBuWYj9F97uZVUkmo1\n",
              "4z66UrJJkQ97zHiAGVAspPOKBc/YPIndIdW30b93t2aWPe46rGs2Mtu4IuoOZ0wsZrjSVDaXfCIt\n",
              "UdZNjAxhVP0dfIiu+RWNAmUUZ1xxDv7/cCLwrpD7jPqAE/f1mV4jZ2TzzpIQzG60dFFajcV7ZIuX\n",
              "C6aN/XseBtBS58jkCh1s8BRFYzI042xCEu1zhW7bJ70Evvj7s3kvlHHlwncipTzVgehHF74+Rpxj\n",
              "sNnjAf5oceTKRf9e7/hr+Sw7yLzWyzI7xDUmPtxx+FJY9ISLdXX5GFi8z+3lLLK76qv0Tp/ZQFCO\n",
              "zwHVb8eCl8gN3rc3bz6w1u7ftVY/kYLuNr6wMtD/WM1jK1vdPadEFDNGlvSalrFOb31wKcfHfi9L\n",
              "mwAAKxA8z0iuKZPx3yeRLdiN5z/y5bNyOujJlOMo7HfTxEyQcsqj70z1tu1N68xum25Pwzo40xSa\n",
              "X452U5saD51Hwqf+nan0G5WUHzJkvGLbWHL/qO32eurGtn6ap099H3VhCdd2yyhy8PfB5U4txonh\n",
              "AKbztV0WvTA5A72/bOMtpdsNppyRWlkpurGqVg8G5C0D7iJZc/0XZAL1avgzsciy175VoXBO4bKS\n",
              "pcfkHyZMLDeGJodi9ZnQpVSgEUAK2PX4A5++4xCrRkqb/hGoHo6EX0I6+9U8wy1kA6N2Okc1YWGs\n",
              "jN+DMBp/geOGLKDPaOxavt1LuK0n8jRJj7Mmfq2UirNJ448H9pR0WdVNOzjI1J1dIBNiJN4z1OMb\n",
              "WfNbWPU2K5oqFNud8Fk6lpEu3NGOeBoeRc6GBMU3oMNjDTgSYgjPiimTittkBW8Zdz+TODy8ev2H\n",
              "w3rfT6Z9Cig9p5Nd71TdjSapElNHQCUsx9Sh0Vm/OLniNPwppAYqHjGwJzRM5NU7Vz512vsSzV4a\n",
              "b0bY/DbWaWgO9FLDiR8UebtGPVSvn+SYqhNkdJebf3gIMxHqZ9LkwS121R8yf1q/RFXH7UQivWpG\n",
              "I2cNXVymXZkY6No7IFHvzF0HuKmk6Dnlp/JeySva8Av0uOYoSWs7GjC/lYXl1XvluaVIADTpnZWr\n",
              "0Qj+Z3CkPQGtjBbLk1zuoAZYjYxeNhoR2Keq+cdr7jXqvgR+C+Ecx7vpvv0cpwUYwupogIEdQXzr\n",
              "SNcbyndFXIt5wsOAzEpsmqnhgKfLIk9EO/GM4zabGi96tk+WibSoiJpODiuLfgcXmRSMxQ22nWC6\n",
              "1QCF3y2/CApbAcjxDPRq2G2QVDPLAKyszQafvGW4q9VQiJfUOjHLuv+1uFqhGgyfdDa7GGkEVw1w\n",
              "ikHjvTuTGWIk65wclYxgM8pVRbimjiQDFmSRFTLJ9U+zfCBwZ+bPHbmjbbQM0CUvlPB2Zp/zLtOl\n",
              "9XVLvaDi+0gksWDuXAsPrgOCbIKgZV95iwDPoEhyo9YNjSwLhwwskdJHP2aic1ZFATdin0I0GIog\n",
              "33+SD7s79M+F0+TXjI8Kg3ZWBhoXIbvjcQouHU0wn/7V3JngdW+266SpWR9Pzr4MJjNNYDB/n4Ia\n",
              "cjMsGYE+VH+MjY2OMO6N+ruWgPIABhvly7V47/cCWOfUEz1z6uCGdEbUZprOZqLFqhse64/SsegP\n",
              "wu021gOvj+KVWGO6LB2kY5Tr7L1+IrCCuTw97MOWn7Rdz6UARplIJVkxrk9c+qf9Jp6adJY2vYRp\n",
              "v+9BUhFteKX4FFCQrKvOjT0YS3mU9omIFmJ+sTf5z/gjaPl+yN8fN8hpQ6LqUhhRhs5x5xFymoev\n",
              "bC5N4d4quTV2Qzgg4Eo5KNdcY0+5kaavpBmlxKnIeCZeV9PqAwJub5jC8gh8Po6fmD6jSShRbj4M\n",
              "6k6icBs1QeVmFZdf6TgRIgjm161588HFDAG+xXFWqRUBsevwHTmKLHBrfcHRRQgb6m8fwYJtB85D\n",
              "ZJcCj+zFniO7vQp26un1T3YQmO68I3pmp1/HUqNd+caZRmhc4BwfWwuNdm+rs9mvnKHzos6gpEPg\n",
              "MuBwtR5Da14ZBgWiuNqtruSZc6fD0L9o/tjMhSegToODX9vsbkhsVhvoRabdYlWHWIdnBlrcg/xg\n",
              "09ufyg9N5qnPAl4zDGFQgUPgczN23yOSA4txA+atMVSGtEfaMK/4d9nTDy5f1XOytoSccsASH1PE\n",
              "CNDSmlmCr7P1tlBNYGnXiGtqJE3rGpKPJtCZ/vCEgb8Oq1b/wpMsvzYwa4tHo3BsBO4ANGWu0l8l\n",
              "SvpWlfHwvrAX0IBbtRPo+apbp/tsV4K4JLPW4fhNCnFDIEMPySZ23vq/O3KTNM7MWt3lwrW1uOLz\n",
              "jF1JTtSUdiJMQ2yQ+PdHgxxHDzMbKnj5gMdeQYMSeW2KIog/xtw/xGVKiSBJ5SfPAVAme7K5KFpB\n",
              "KbEAAR1ibALd8425AkdM8bbwXgl9cMhl8ygf/vPKkKwZ5uiN3Ta58//ID71VJVZgvDVLbV6W36F7\n",
              "ztKNlwMvDd/GGQY9VMv2tBG4yAtQ/uFIW9KkIrTxlDUb1UFpSXygSK170taV/YoXCiJNcs13Ee7S\n",
              "77HPBgVUMLQdT7XNlIlyk9cs0k+Jq8fzjWz1UtMLDXtLO/Vt3t51OPlDXC0xvhwR1Jldiq1QKlw8\n",
              "Bm1Iy3QhBDi7R7NtR845qM+zLbm2KMz6D6VXt34LWUdjBlc7xAhfbArfrazmgz6qyNj9mEQUhAH/\n",
              "jY8vjGJtRatOPmKzQH0npUJn2ACs+6rIYjmMRKWc4Cy347ywZ/6GoozYCcALvGy8xbqu0JpwdL8r\n",
              "i2aEI4kbMIr/pxYeEvHUDK9uwMVHz/Kya8675Tp1KaRGW3N//v7DV7EXViHq+aPEi5isMG/b7okg\n",
              "4MSnopCj1jgJ43/j/CQf4nLsZR5jOASokV4CzYe5amtWDECqooliCD2SvxVTdI7i7NZyhp1tQIXU\n",
              "XOAGz4rccDYFuAXyzzGyJb6CKAHkL5Az/kjnh98WKpdI7ZTMWtRS/3nNQNPJtb0XXNE5os1nlPgx\n",
              "1YrBxqOz8TSCyBoneNPC/pyZtA3Y5FjvzQOyenG9x6S1ZQwQ+njZ5shAAGQI+xfIU42RTFJjWCtf\n",
              "5MSRHhzafjLX2/hBTlE36SoPeZS5kAY/vGw0BfnVn3ULjqXIPIVuN40tKLOcRaO/+wvtnNJUXmTR\n",
              "3qoZ27Zhd5O/UBYFwf8KMPaHNaRQheX6lYT91bzzegspCTHpDMVfDieIffofRTimFAeepaXVXKj2\n",
              "CHxrj83skqTtivU4KINKOLxMn0/lhk6xTCOy5h0MPrbgDid1ehsAUaHQUhuEOEijYyqwCdJlAHGJ\n",
              "7i0FBnhq2yD5LS1KYd2YSN37GLzaUNlOwOC5z7RziMCasjSz4igAMsejx5JrHt50pd3O7Nu/BCJO\n",
              "QUzlnbQHW2+PUJae4RqL+c1v4lGsWHbS/fFModytvHNVg4oK/xAP02vz2VTkz6mI/AOSlZ48KoX6\n",
              "6cGYAh2KGvr8oYezZidO4VKeJyTsYxswdE8CB7FgMviBeSV822W5LezdBRGZ/fz87lMPnFKd7n3Y\n",
              "VvrssC/6C7SfzbPisj9t01gu+1qD/2KdyXFv9r92eAURgTpSb2fpF6YppxfpuKbXTT87WcDVmgMa\n",
              "8OPNh92qpQ+ZY4t/xa8ppYs3GXi8HrjVQrcqBkuegUccvMB/qeBJuv16UcYe4/07BJnLNSTVapo+\n",
              "rdv8r23TRQgsAaJMACCUWlfKxqHhMlK+nJTJS/p4uk6ueRVTld0CEKxbPr4M2IPWCK81yprC0UYR\n",
              "gY/S3bGB0nYciFD7H72Fh9woNzXdgCIlJgUHv+tJ311sw/TzrxCud8JniSQCXBDGn9oLxH2frb3D\n",
              "A4SYJ1rMVU6AtsyXF9Q6UmXpU+kVSS6UrsZojnK9oCQ5lsG0VZcIrbCfqvVrggnwajne8PkkMHMI\n",
              "JL3iPwxSQ7KuJ5MDUyaQWPbE5w3COupIp/WST4AAJDo4uf8nXy4IFqzu7Yg+2fbGLNdMK+x55BzR\n",
              "Ob4Hl77MQC5RWk3U4ZwJkDFk0QtJlRORaHLXSV9PSvFcKpLF0OlqnOVWLy/U/0iU42GPZeiVkHSe\n",
              "ktda9tXElPdxp2KYTph7M18B2aCj19+w8cmuQefT8CpqvpFsUym8K1c54VkX7wPVX4MrCIB1tVNn\n",
              "fFqD+yh915tOqOVDNn9IOEKa2R/B5z/B4cgDzZY4UwHFK0t0AgaZPUcpPeqsuAB3eLEC7oNSjwf7\n",
              "qZpDsz4FYL4UTeQ2jaGnC8t0irFzjQ54f1VJOp1HlDebvNMDQTNg+ySmuW7ImRCEIa6D6xkboerz\n",
              "z/qYilgl5IagaSdX896mPw6p7tvRWkNp4ak7F7Qd/Zf4C/p07tMB2wTbKW4DRi3qQCcKcNpIavTT\n",
              "wjsh2X11tlvkwvFRm+lV4kNztUrSos9rREYDUgzwAEOvviGiGtEoHfdd81FGaC8oUHZHnGMfduyu\n",
              "sAs+XnRojegemDprpbYy1qIiWN5Y9/KjwhDiXV3THXYjWbTkTx6o+33FhpVif1VwobnwBXr33iIc\n",
              "xrplsu5AZzvreQ7ir3EYUH/rYcagYqNvqiLmxkTZTTwRbBLGhcnAVi36wyaX9iUQQqXyOlIPObgW\n",
              "oEdzQ+bfelZNKf02gcAORGpQcZBOCoY2okLQoawowNYAkW5+LxwIQrfYWTFyVNWzSiQwKGhjo2F+\n",
              "AL1i96ZcVihQj0AADrep3ep32ILEhSKKW6jlLMo/tWglkHsV46tGpdhnI1Xnpn/ZURj6cLvN0A3Q\n",
              "YdJa5apiEToWc+9e02MjdJV4GeCSMLF+lG/LNHXWzMwh3YJnQTqlCO5P6+1kg5T5LmSasfffe7W6\n",
              "Gvt0zbSIbGMwzRnKaPiSP5AjnJWb7yjGjwLnACR5AAoHTk+xEqxvoxBwApVIS1DT5n0xY3pp0+60\n",
              "xlh0O++T7Wg4wyK6tlmFS+boHH2QDoH4YLcABYfOj6I0JZNvcbZuQiKXm0kP/z7Xh4PpSEHtp0Ws\n",
              "Ecevu94UmyVy+qikVYQNqwNVc8O2hk95a8EzOs3bhFHbefY3FKy+Jv15gZ6yEvViHoDIk665Adyk\n",
              "MwsoYPneGWs6fqymubX30RYX50qJeTjVpw+yPPgY1trsby4VdaHJRGHHwmbiBQZz4okDxhyV43em\n",
              "pWxYNuq7Qmxfi3aWgNZU5tK7WTvDkFmSY9CJP1KDbP54LyRfdi9C1/i9V77klWvo8yYro1IBIe6q\n",
              "4/NDJ6RRAENKbm8EDYLtfUrUaIeXem1nQb1Lxl7w0o9I3LhGIQiYJ9oi9NTVygOHQABa9u9NP8iF\n",
              "Po//x1T6RdGaScqBbQbskqd3LXu5/CPbTcX++hvxWk4FN4LaB2KrQ5ZElhnOmhEriddVbvqVsgdR\n",
              "GcCvFNsyTGyI/s/+Xp9S7l61HPYmlR5OnGgLfT2x3bwQSasxSL16PWwLtkVPXHm4Jia19SUU2ZZ5\n",
              "vjUnb6JIe2wuC05+053nbLxfxW2pln5XxPPIaRTUhxwwZgROxbd+JHTghISQOgn0ZFtt9WaNNemA\n",
              "XlJVPtBuOMk+8kqW3iDYelNPqS77sWv7iiT8WsWZ3ORfq+io2nbRLYt2itAUvQcffmL2KPaQXW+t\n",
              "OoY2e4OgvoO6TjDosT+f6m82iZxv/5pH2i/Cf3yRrXexiNOQIG/ThW9xqEsPkMKIf6zS7CILn1j+\n",
              "W/vgOw8LATFJkeDuf15mvRn8WKLBcjhAEgFOAKyJ/s2DUsi6S8EG9kLyAB+W8A7CWZmpG6C+i4Dt\n",
              "rj785RcB6/nJTYKgq6cW91f44v9R1Z/T8t9Gr9PN2dYP/CEaIMmRNNe3NFqqKzzo9sOUZwxxWaST\n",
              "HlV3H6By9VDNzTYZkOy1f/e+bG+FCqWgdvLB7RwaaqWbaawCFIF4eWpegHaS7l52TRFm7WjIFSYv\n",
              "7yhkTXtvqe80FYmE5XYHdkh++k5W3GAqrPVMYbAVZF9tm/GM087bWej1vsYPUjAndKNgauXS29Hw\n",
              "IhOQDp1k/Ro3WoS0/YJ+lGh8bdgfa4hI+T4sZj2Fhlw0dAk/Jql7duwhXDChVn1ejjv9T/nzkX2j\n",
              "MgvAwX0rOLZThgPGk++rn2YO7rVSTGJPqglvSGA27r6h894KRewwWqK1Mb75U7Mo6VfOxSPKZiwD\n",
              "lsknXukZm0FXUaW63NrnfGFJKpaqYmkpK4B667UAS92R5XWBn7+opZGxXhNvzxgVdtoyh4/P/1PO\n",
              "wvkE0qvsbFUEUZ1rTx0PbNyrpQ/eo6a8iKsp8AphPeGudqXUKEIW0imRWGdSOS309v0F7WlDvbUV\n",
              "tkGYd+OAXwiXenrOwjZ4c/oqfaMQLV6mPjl6M32dKDi33M60OwRCn0gHdbNz0YMWOF+BXyCvu/M2\n",
              "05AOEQ+r0G2/TAyuvR/fAAAXylDHA3wnh2eNuF6tfSLe9DrUZj385bvHPeIwYW2Q7CctujaTIsF+\n",
              "CrRbErjRzJu6eaU9r8qWBg/k/X7n2riQKg12+Mdsma+ygBVDvxzFdkWT6GkMClYrh7B8ViNkcZyh\n",
              "qXE6uSFWdEoDX6dPpUoh3h0Zhij/FJH2P5EXX7uAdoq0rx60gijzSytCiyRtTQVvJwTY7kuY6Tqt\n",
              "dJXGSzBAQYBGktEOd1lNzsF0veMwK8hdyFm7dcmblc9977TlQWH+uKzVFnKB58sb+/N+SdJZFwZ7\n",
              "hgx/EOy4PK2duRWs9v4kvgx+qw3zgo4KJ1Q2seyrtkMiD3466uuAC7YBR1sLirZ52KQNqTYr+AUF\n",
              "ao4ZmiqLVodxrwM6uN71nIpthKLO1bfA5cDHUl4ImxDUKzLfsowLMnVp7wujnU4ggZEAAAMAADFh\n",
              "AAAAW0GaIWxCv/44QBgvBEW/VctfAoBcAex2gYf2n/RQdfsjPNQQmPAgYyZl2iIQwa547ga1Tj37\n",
              "Zx7IA4IoT2ZOTvY/SCYukPF5kbVW6gCnpz9rklsBT+YTtDYcGpAAAAMqbW9vdgAAAGxtdmhkAAAA\n",
              "AAAAAAAAAAAAAAAD6AAAAFAAAQAAAQAAAAAAAAAAAAAAAAEAAAAAAAAAAAAAAAAAAAABAAAAAAAA\n",
              "AAAAAAAAAABAAAAAAAAAAAAAAAAAAAAAAAAAAAAAAAAAAAAAAAAAAgAAAlR0cmFrAAAAXHRraGQA\n",
              "AAADAAAAAAAAAAAAAAABAAAAAAAAAFAAAAAAAAAAAAAAAAAAAAAAAAEAAAAAAAAAAAAAAAAAAAAB\n",
              "AAAAAAAAAAAAAAAAAABAAAAAAoAAAAHgAAAAAAAkZWR0cwAAABxlbHN0AAAAAAAAAAEAAABQAAAA\n",
              "AAABAAAAAAHMbWRpYQAAACBtZGhkAAAAAAAAAAAAAAAAAAAyAAAABABVxAAAAAAALWhkbHIAAAAA\n",
              "AAAAAHZpZGUAAAAAAAAAAAAAAABWaWRlb0hhbmRsZXIAAAABd21pbmYAAAAUdm1oZAAAAAEAAAAA\n",
              "AAAAAAAAACRkaW5mAAAAHGRyZWYAAAAAAAAAAQAAAAx1cmwgAAAAAQAAATdzdGJsAAAAt3N0c2QA\n",
              "AAAAAAAAAQAAAKdhdmMxAAAAAAAAAAEAAAAAAAAAAAAAAAAAAAAAAoAB4ABIAAAASAAAAAAAAAAB\n",
              "AAAAAAAAAAAAAAAAAAAAAAAAAAAAAAAAAAAAAAAAAAAAGP//AAAANWF2Y0MBZAAe/+EAGGdkAB6s\n",
              "2UCgPaEAAAMAAQAAAwAyDxYtlgEABmjr48siwP34+AAAAAAcdXVpZGtoQPJfJE/FujmlG88DI/MA\n",
              "AAAAAAAAGHN0dHMAAAAAAAAAAQAAAAIAAAIAAAAAFHN0c3MAAAAAAAAAAQAAAAEAAAAcc3RzYwAA\n",
              "AAAAAAABAAAAAQAAAAIAAAABAAAAHHN0c3oAAAAAAAAAAAAAAAIAABkyAAAAXwAAABRzdGNvAAAA\n",
              "AAAAAAEAAAAwAAAAYnVkdGEAAABabWV0YQAAAAAAAAAhaGRscgAAAAAAAAAAbWRpcmFwcGwAAAAA\n",
              "AAAAAAAAAAAtaWxzdAAAACWpdG9vAAAAHWRhdGEAAAABAAAAAExhdmY1OC43Ni4xMDA=\n",
              "\">\n",
              "  Your browser does not support the video tag.\n",
              "</video>"
            ]
          },
          "metadata": {}
        },
        {
          "output_type": "display_data",
          "data": {
            "text/plain": [
              "<Figure size 1500x400 with 3 Axes>"
            ],
            "image/png": "[encoded data removed]"
          },
          "metadata": {}
        }
      ],
      "source": [
        "# snnTorch\n",
        "from matplotlib import pyplot as plt\n",
        "from tser_kd.dataset import RateEncoder, StaticEncoder\n",
        "from tser_kd.utils import plot_spike_train_over_channels, plot_raster_over_channels\n",
        "\n",
        "\n",
        "# Retrieves a batch of data\n",
        "X, y = next(iter(val_loader))\n",
        "\n",
        "idx = 27\n",
        "X = X[idx]\n",
        "y = y[idx]\n",
        "\n",
        "\n",
        "# plot the image\n",
        "plt.imshow(X.permute(1, 2, 0))\n",
        "plt.title(f\"Label: {y}\")\n",
        "plt.show()\n",
        "\n",
        "\n",
        "# Converts the images using rate coding, tensor shape: [T, C, H, W]\n",
        "if h_dict[\"ENCODER\"] == 'Rate':\n",
        "    spike_train = RateEncoder(num_steps=h_dict['T'], gain=h_dict['GAIN'])(X)\n",
        "elif h_dict[\"ENCODER\"] == 'Static':\n",
        "    spike_train = StaticEncoder(num_steps=h_dict['T'])(X)\n",
        "\n",
        "plot_spike_train_over_channels(spike_train, ['Reds', 'Greens', 'Blues'])\n",
        "plot_raster_over_channels(spike_train)\n",
        "\n",
        "del X, y, spike_train"
      ]
    },
    {
      "cell_type": "markdown",
      "metadata": {
        "id": "XFPX6pbwIDSz"
      },
      "source": [
        "#**S-ResNet18**"
      ]
    },
    {
      "cell_type": "markdown",
      "metadata": {
        "id": "UBCYeTfkm7rm"
      },
      "source": [
        "---\n",
        "**Model Creation**"
      ]
    },
    {
      "cell_type": "code",
      "execution_count": null,
      "metadata": {
        "id": "2489bmuzwoh4"
      },
      "outputs": [],
      "source": [
        "from tser_kd.model.student import make_student_model\n",
        "from tser_kd.model.teacher import make_teacher_model\n",
        "\n",
        "\n",
        "# SNN\n",
        "s_model = make_student_model(\n",
        "    arch='sresnet-18',\n",
        "    in_channels=3,\n",
        "    num_classes=num_classes,\n",
        "    beta=h_dict['BETA'],\n",
        "    device=device\n",
        ")"
      ]
    },
    {
      "cell_type": "markdown",
      "metadata": {
        "id": "oZ10IHyDm_xE"
      },
      "source": [
        "---\n",
        "**Weights Transfer**"
      ]
    },
    {
      "cell_type": "code",
      "execution_count": null,
      "metadata": {
        "id": "e6MCtME1FvNX",
        "colab": {
          "base_uri": "https://localhost:8080/"
        },
        "outputId": "33966045-bf27-46aa-b18d-79b8c3311aab"
      },
      "outputs": [
        {
          "output_type": "stream",
          "name": "stdout",
          "text": [
            "Copied 121 tensors, skipped 100.\n",
            "Skipped keys (shape mismatch or no counterpart):\n",
            "  • lif_stem.layer.threshold\n",
            "  • lif_stem.layer.graded_spikes_factor\n",
            "  • lif_stem.layer.reset_mechanism_val\n",
            "  • lif_stem.layer.beta\n",
            "  • stages.0.0.lif1.layer.threshold\n",
            "  • stages.0.0.lif1.layer.graded_spikes_factor\n",
            "  • stages.0.0.lif1.layer.reset_mechanism_val\n",
            "  • stages.0.0.lif1.layer.beta\n",
            "  • stages.0.0.lif2.layer.threshold\n",
            "  • stages.0.0.lif2.layer.graded_spikes_factor\n",
            "  • stages.0.0.lif2.layer.reset_mechanism_val\n",
            "  • stages.0.0.lif2.layer.beta\n",
            "  • stages.0.0.lif3.layer.threshold\n",
            "  • stages.0.0.lif3.layer.graded_spikes_factor\n",
            "  • stages.0.0.lif3.layer.reset_mechanism_val\n",
            "  • stages.0.0.lif3.layer.beta\n",
            "  • stages.0.1.lif1.layer.threshold\n",
            "  • stages.0.1.lif1.layer.graded_spikes_factor\n",
            "  • stages.0.1.lif1.layer.reset_mechanism_val\n",
            "  • stages.0.1.lif1.layer.beta\n",
            "  • stages.0.1.lif2.layer.threshold\n",
            "  • stages.0.1.lif2.layer.graded_spikes_factor\n",
            "  • stages.0.1.lif2.layer.reset_mechanism_val\n",
            "  • stages.0.1.lif2.layer.beta\n",
            "  • stages.0.1.lif3.layer.threshold\n",
            "  • stages.0.1.lif3.layer.graded_spikes_factor\n",
            "  • stages.0.1.lif3.layer.reset_mechanism_val\n",
            "  • stages.0.1.lif3.layer.beta\n",
            "  • stages.1.0.lif1.layer.threshold\n",
            "  • stages.1.0.lif1.layer.graded_spikes_factor\n",
            "  • stages.1.0.lif1.layer.reset_mechanism_val\n",
            "  • stages.1.0.lif1.layer.beta\n",
            "  • stages.1.0.lif2.layer.threshold\n",
            "  • stages.1.0.lif2.layer.graded_spikes_factor\n",
            "  • stages.1.0.lif2.layer.reset_mechanism_val\n",
            "  • stages.1.0.lif2.layer.beta\n",
            "  • stages.1.0.lif3.layer.threshold\n",
            "  • stages.1.0.lif3.layer.graded_spikes_factor\n",
            "  • stages.1.0.lif3.layer.reset_mechanism_val\n",
            "  • stages.1.0.lif3.layer.beta\n",
            "  • stages.1.1.lif1.layer.threshold\n",
            "  • stages.1.1.lif1.layer.graded_spikes_factor\n",
            "  • stages.1.1.lif1.layer.reset_mechanism_val\n",
            "  • stages.1.1.lif1.layer.beta\n",
            "  • stages.1.1.lif2.layer.threshold\n",
            "  • stages.1.1.lif2.layer.graded_spikes_factor\n",
            "  • stages.1.1.lif2.layer.reset_mechanism_val\n",
            "  • stages.1.1.lif2.layer.beta\n",
            "  • stages.1.1.lif3.layer.threshold\n",
            "  • stages.1.1.lif3.layer.graded_spikes_factor\n",
            "  • stages.1.1.lif3.layer.reset_mechanism_val\n",
            "  • stages.1.1.lif3.layer.beta\n",
            "  • stages.2.0.lif1.layer.threshold\n",
            "  • stages.2.0.lif1.layer.graded_spikes_factor\n",
            "  • stages.2.0.lif1.layer.reset_mechanism_val\n",
            "  • stages.2.0.lif1.layer.beta\n",
            "  • stages.2.0.lif2.layer.threshold\n",
            "  • stages.2.0.lif2.layer.graded_spikes_factor\n",
            "  • stages.2.0.lif2.layer.reset_mechanism_val\n",
            "  • stages.2.0.lif2.layer.beta\n",
            "  • stages.2.0.lif3.layer.threshold\n",
            "  • stages.2.0.lif3.layer.graded_spikes_factor\n",
            "  • stages.2.0.lif3.layer.reset_mechanism_val\n",
            "  • stages.2.0.lif3.layer.beta\n",
            "  • stages.2.1.lif1.layer.threshold\n",
            "  • stages.2.1.lif1.layer.graded_spikes_factor\n",
            "  • stages.2.1.lif1.layer.reset_mechanism_val\n",
            "  • stages.2.1.lif1.layer.beta\n",
            "  • stages.2.1.lif2.layer.threshold\n",
            "  • stages.2.1.lif2.layer.graded_spikes_factor\n",
            "  • stages.2.1.lif2.layer.reset_mechanism_val\n",
            "  • stages.2.1.lif2.layer.beta\n",
            "  • stages.2.1.lif3.layer.threshold\n",
            "  • stages.2.1.lif3.layer.graded_spikes_factor\n",
            "  • stages.2.1.lif3.layer.reset_mechanism_val\n",
            "  • stages.2.1.lif3.layer.beta\n",
            "  • stages.3.0.lif1.layer.threshold\n",
            "  • stages.3.0.lif1.layer.graded_spikes_factor\n",
            "  • stages.3.0.lif1.layer.reset_mechanism_val\n",
            "  • stages.3.0.lif1.layer.beta\n",
            "  • stages.3.0.lif2.layer.threshold\n",
            "  • stages.3.0.lif2.layer.graded_spikes_factor\n",
            "  • stages.3.0.lif2.layer.reset_mechanism_val\n",
            "  • stages.3.0.lif2.layer.beta\n",
            "  • stages.3.0.lif3.layer.threshold\n",
            "  • stages.3.0.lif3.layer.graded_spikes_factor\n",
            "  • stages.3.0.lif3.layer.reset_mechanism_val\n",
            "  • stages.3.0.lif3.layer.beta\n",
            "  • stages.3.1.lif1.layer.threshold\n",
            "  • stages.3.1.lif1.layer.graded_spikes_factor\n",
            "  • stages.3.1.lif1.layer.reset_mechanism_val\n",
            "  • stages.3.1.lif1.layer.beta\n",
            "  • stages.3.1.lif2.layer.threshold\n",
            "  • stages.3.1.lif2.layer.graded_spikes_factor\n",
            "  • stages.3.1.lif2.layer.reset_mechanism_val\n",
            "  • stages.3.1.lif2.layer.beta\n",
            "  • stages.3.1.lif3.layer.threshold\n",
            "  • stages.3.1.lif3.layer.graded_spikes_factor\n",
            "  • stages.3.1.lif3.layer.reset_mechanism_val\n",
            "  • stages.3.1.lif3.layer.beta\n"
          ]
        }
      ],
      "source": [
        "import re\n",
        "from collections import OrderedDict\n",
        "import torch.nn as nn\n",
        "\n",
        "def transfer_resnet18_to_sresnet(src_resnet: nn.Module,\n",
        "                                 dst_sresnet: nn.Module,\n",
        "                                 verbose: bool = True) -> None:\n",
        "    \"\"\"\n",
        "    Copy all compatible learnable parameters (Conv, BN, FC) from a trained\n",
        "    torchvision‑style ResNet‑18 into the corresponding wrapped layers of a\n",
        "    spiking ResNet‑18 built as in the question.\n",
        "\n",
        "    Parameters\n",
        "    ----------\n",
        "    src_resnet : nn.Module\n",
        "        The pretrained conventional ResNet‑18.\n",
        "    dst_sresnet : nn.Module\n",
        "        The (usually freshly‑initialised) spiking ResNet‑18.\n",
        "    verbose : bool, optional\n",
        "        Print a short report of copied / missing tensors.\n",
        "    \"\"\"\n",
        "\n",
        "    # --- helpers -----------------------------------------------------------\n",
        "    stage_to_layer = {0: \"layer1\", 1: \"layer2\", 2: \"layer3\", 3: \"layer4\"}\n",
        "    comp_map = {  # maps the *wrapper* name inside a block to the classic name\n",
        "        \"t_conv_bn1.layer\":        \"conv1\",\n",
        "        \"t_conv_bn1.batch_norm\":   \"bn1\",\n",
        "        \"t_conv_bn2.layer\":        \"conv2\",\n",
        "        \"t_conv_bn2.batch_norm\":   \"bn2\",\n",
        "        \"shortcuts.layer\":         \"downsample.0\",\n",
        "        \"shortcuts.batch_norm\":    \"downsample.1\",\n",
        "    }\n",
        "\n",
        "    # grab the state‑dicts\n",
        "    src_sd = src_resnet.state_dict()\n",
        "    dst_sd = dst_sresnet.state_dict()\n",
        "    new_sd = OrderedDict()\n",
        "\n",
        "    copied, skipped = [], []\n",
        "\n",
        "    for dst_key, dst_tensor in dst_sd.items():\n",
        "\n",
        "        # ------------------------------------------------------------------\n",
        "        # 1) stem (conv + BN)\n",
        "        # ------------------------------------------------------------------\n",
        "        if dst_key.startswith(\"stem.layer.\"):\n",
        "            src_key = dst_key.replace(\"stem.layer\", \"conv1\")\n",
        "\n",
        "        elif dst_key.startswith(\"stem.batch_norm.\"):\n",
        "            src_key = dst_key.replace(\"stem.batch_norm\", \"bn1\")\n",
        "\n",
        "        # ------------------------------------------------------------------\n",
        "        # 2) residual stages\n",
        "        #    stages.<stage>.<block>.<wrapper>.<param>\n",
        "        # ------------------------------------------------------------------\n",
        "        elif dst_key.startswith(\"stages.\"):\n",
        "            m = re.match(\n",
        "                r\"stages\\.(\\d+)\\.(\\d+)\\.([^\\.]+\\.[^\\.]+)\\.(.+)\", dst_key\n",
        "            )\n",
        "            if m:\n",
        "                stage, block, wrapper_name, suffix = m.groups()\n",
        "                layer_name = stage_to_layer[int(stage)]\n",
        "                cmp_name = comp_map.get(wrapper_name, None)\n",
        "                if cmp_name is not None:\n",
        "                    src_key = f\"{layer_name}.{block}.{cmp_name}.{suffix}\"\n",
        "                else:\n",
        "                    src_key = None\n",
        "            else:\n",
        "                src_key = None\n",
        "\n",
        "        # ------------------------------------------------------------------\n",
        "        # 3) classifier head\n",
        "        # ------------------------------------------------------------------\n",
        "        elif dst_key.startswith(\"mlp.0.layer.\"):\n",
        "            src_key = dst_key.replace(\"mlp.0.layer\", \"fc\")\n",
        "\n",
        "        # ------------------------------------------------------------------\n",
        "        # 4) anything without a counterpart stays untouched\n",
        "        #    (LIF parameters, SNN‑specific buffers, etc.)\n",
        "        # ------------------------------------------------------------------\n",
        "        else:\n",
        "            src_key = None\n",
        "\n",
        "        # copy if possible --------------------------------------------------\n",
        "        if src_key is not None and src_key in src_sd \\\n",
        "           and src_sd[src_key].shape == dst_tensor.shape:\n",
        "            new_sd[dst_key] = src_sd[src_key].clone()\n",
        "            copied.append(dst_key)\n",
        "        else:\n",
        "            new_sd[dst_key] = dst_tensor  # keep original\n",
        "            skipped.append(dst_key)\n",
        "\n",
        "    # load the updated dict\n",
        "    dst_sresnet.load_state_dict(new_sd, strict=False)\n",
        "\n",
        "    if verbose:\n",
        "        print(f\"Copied {len(copied)} tensors, skipped {len(skipped)}.\")\n",
        "        if skipped:\n",
        "            print(\"Skipped keys (shape mismatch or no counterpart):\")\n",
        "            for k in skipped:\n",
        "                print(\"  •\", k)\n",
        "\n",
        "\n",
        "a_state_dict = torch.load(\"data/teacher_models/resnet18_ft_9661.pth\", map_location=\"cpu\")\n",
        "a_model = make_teacher_model(\n",
        "    arch='resnet-18',\n",
        "    in_channels=3,\n",
        "    num_classes=num_classes,\n",
        "    device=device,\n",
        "    state_dict=a_state_dict\n",
        ")\n",
        "transfer_resnet18_to_sresnet(a_model, s_model)"
      ]
    },
    {
      "cell_type": "code",
      "source": [
        "# Remove the a_model and a_state_dict\n",
        "# IMPORTANT TO KEEP THE EPOCH TIME LOW\n",
        "del a_model, a_state_dict\n",
        "torch.cuda.empty_cache()"
      ],
      "metadata": {
        "id": "YGluvYqqS_0c"
      },
      "execution_count": null,
      "outputs": []
    },
    {
      "cell_type": "markdown",
      "metadata": {
        "id": "NGHrXdIbZzIM"
      },
      "source": [
        "#**Training**"
      ]
    },
    {
      "cell_type": "markdown",
      "metadata": {
        "id": "JGxR-7jfnMiH"
      },
      "source": [
        "---\n",
        "**Objects Creation**"
      ]
    },
    {
      "cell_type": "code",
      "execution_count": null,
      "metadata": {
        "id": "O8X73PNoxTBN"
      },
      "outputs": [],
      "source": [
        "import torch.optim as optim\n",
        "import torch.nn as nn\n",
        "from tser_kd.training import EarlyStopping\n",
        "from tser_kd.dataset import RateEncoder, StaticEncoder\n",
        "from tser_kd.model import TSCELoss\n",
        "from tser_kd.utils import AccuracyMonitor\n",
        "\n",
        "\n",
        "# Optimizer\n",
        "if h_dict[\"OPTIMIZER\"] == 'AdamW':\n",
        "    optimizer = optim.AdamW(s_model.parameters(), lr=h_dict['BASE_LR'], weight_decay=h_dict['WEIGHT_DECAY'])\n",
        "elif h_dict[\"OPTIMIZER\"] == 'Adam':\n",
        "    optimizer = optim.Adam(s_model.parameters(), lr=h_dict['BASE_LR'], weight_decay=h_dict['WEIGHT_DECAY'])\n",
        "elif h_dict[\"OPTIMIZER\"] == 'SGD':\n",
        "    optimizer = optim.SGD(s_model.parameters(), lr=h_dict['BASE_LR'], momentum=h_dict[\"MOMENTUM\"], weight_decay=h_dict['WEIGHT_DECAY'])\n",
        "\n",
        "# LR scheduler\n",
        "if h_dict[\"LR_SCHEDULER\"] == 'ReduceLROnPlateau':\n",
        "    scheduler = optim.lr_scheduler.ReduceLROnPlateau(optimizer, patience=h_dict[\"LR_PATIENCE\"], factor=h_dict[\"LR_FACTOR\"])\n",
        "elif h_dict[\"LR_SCHEDULER\"] == 'CosineAnnealingLR':\n",
        "    scheduler = optim.lr_scheduler.CosineAnnealingLR(optimizer, T_max=h_dict[\"MAX_EPOCHS\"])\n",
        "elif h_dict[\"LR_SCHEDULER\"] == 'StepLR':\n",
        "    scheduler = optim.lr_scheduler.StepLR(optimizer, step_size=h_dict[\"LR_STEP\"], gamma=h_dict[\"LR_FACTOR\"])\n",
        "elif h_dict[\"LR_SCHEDULER\"] == 'WarmupCosineLR':\n",
        "    scheduler = WarmupCosineLR(\n",
        "        optimizer=optimizer,\n",
        "        warmup_epochs=h_dict[\"WARMUP_EPOCHS\"],\n",
        "        total_epochs=h_dict[\"MAX_EPOCHS\"],\n",
        "        base_lr=h_dict[\"BASE_LR\"],\n",
        "        max_lr=h_dict[\"MAX_LR\"]\n",
        "    )\n",
        "\n",
        "# Losses\n",
        "train_criterion = TSCELoss()\n",
        "eval_criterion = nn.CrossEntropyLoss()\n",
        "\n",
        "# Accuracy monitor\n",
        "acc_monitor = AccuracyMonitor(path=\"best_acc.pth\")\n",
        "\n",
        "# Early stopping\n",
        "es_callback = EarlyStopping(patience=h_dict[\"ES_PATIENCE\"], delta=h_dict[\"ES_DELTA\"], path=\"best_loss.pth\")\n",
        "\n",
        "# Gradient scaler\n",
        "scaler = torch.amp.GradScaler(device='cuda')\n",
        "\n",
        "# Encoder\n",
        "if h_dict[\"ENCODER\"] == \"Rate\":\n",
        "    encoder = RateEncoder(num_steps=h_dict[\"T\"], gain=h_dict[\"GAIN\"])\n",
        "elif h_dict[\"ENCODER\"] == \"Static\":\n",
        "    encoder = StaticEncoder(num_steps=h_dict[\"T\"])"
      ]
    },
    {
      "cell_type": "markdown",
      "metadata": {
        "id": "yj5bHrZFnSdj"
      },
      "source": [
        "---\n",
        "**Training Loop**"
      ]
    },
    {
      "cell_type": "code",
      "execution_count": null,
      "metadata": {
        "colab": {
          "base_uri": "https://localhost:8080/",
          "height": 1000
        },
        "id": "lzDyh1ue-jFQ",
        "outputId": "29a85d6f-ebcd-4c44-e5e0-a40f49c94398"
      },
      "outputs": [
        {
          "output_type": "stream",
          "name": "stderr",
          "text": [
            "2025/07/30 14:27:22 INFO mlflow.system_metrics.system_metrics_monitor: Started monitoring system metrics.\n",
            "Epoch 1: 100%|██████████| Batch 1563/1563 , acc=11.20%, loss=2.2887\n"
          ]
        },
        {
          "output_type": "stream",
          "name": "stdout",
          "text": [
            "Time: 175.8s | Train Loss: 2.2887 | Train Acc: 11.20% | Val Loss: 2.2364 | Val Acc1: 15.57% | Val Acc5: 67.73% | LR: 0.001000\n"
          ]
        },
        {
          "output_type": "stream",
          "name": "stderr",
          "text": [
            "Epoch 2: 100%|██████████| Batch 1563/1563 , acc=12.30%, loss=2.2692\n"
          ]
        },
        {
          "output_type": "stream",
          "name": "stdout",
          "text": [
            "Time: 174.6s | Train Loss: 2.2692 | Train Acc: 12.30% | Val Loss: 2.2190 | Val Acc1: 18.72% | Val Acc5: 69.77% | LR: 0.001000\n"
          ]
        },
        {
          "output_type": "stream",
          "name": "stderr",
          "text": [
            "Epoch 3: 100%|██████████| Batch 1563/1563 , acc=13.17%, loss=2.2504\n"
          ]
        },
        {
          "output_type": "stream",
          "name": "stdout",
          "text": [
            "Time: 174.8s | Train Loss: 2.2504 | Train Acc: 13.17% | Val Loss: 2.2066 | Val Acc1: 17.94% | Val Acc5: 64.54% | LR: 0.001000\n"
          ]
        },
        {
          "output_type": "stream",
          "name": "stderr",
          "text": [
            "Epoch 4: 100%|██████████| Batch 1563/1563 , acc=14.91%, loss=2.2103\n"
          ]
        },
        {
          "output_type": "stream",
          "name": "stdout",
          "text": [
            "Time: 174.8s | Train Loss: 2.2103 | Train Acc: 14.91% | Val Loss: 2.1574 | Val Acc1: 25.47% | Val Acc5: 78.17% | LR: 0.001000\n"
          ]
        },
        {
          "output_type": "stream",
          "name": "stderr",
          "text": [
            "Epoch 5: 100%|██████████| Batch 1563/1563 , acc=16.66%, loss=2.1920\n"
          ]
        },
        {
          "output_type": "stream",
          "name": "stdout",
          "text": [
            "Time: 174.1s | Train Loss: 2.1920 | Train Acc: 16.66% | Val Loss: 2.1271 | Val Acc1: 26.23% | Val Acc5: 79.41% | LR: 0.001000\n"
          ]
        },
        {
          "output_type": "stream",
          "name": "stderr",
          "text": [
            "Epoch 6: 100%|██████████| Batch 1563/1563 , acc=20.91%, loss=2.1064\n"
          ]
        },
        {
          "output_type": "stream",
          "name": "stdout",
          "text": [
            "Time: 174.0s | Train Loss: 2.1064 | Train Acc: 20.91% | Val Loss: 2.0159 | Val Acc1: 29.29% | Val Acc5: 82.88% | LR: 0.000999\n"
          ]
        },
        {
          "output_type": "stream",
          "name": "stderr",
          "text": [
            "Epoch 7: 100%|██████████| Batch 1563/1563 , acc=25.58%, loss=1.9982\n"
          ]
        },
        {
          "output_type": "stream",
          "name": "stdout",
          "text": [
            "Time: 173.8s | Train Loss: 1.9982 | Train Acc: 25.58% | Val Loss: 1.8964 | Val Acc1: 36.58% | Val Acc5: 87.33% | LR: 0.000999\n"
          ]
        },
        {
          "output_type": "stream",
          "name": "stderr",
          "text": [
            "Epoch 8: 100%|██████████| Batch 1563/1563 , acc=29.63%, loss=1.9033\n"
          ]
        },
        {
          "output_type": "stream",
          "name": "stdout",
          "text": [
            "Time: 173.6s | Train Loss: 1.9033 | Train Acc: 29.63% | Val Loss: 1.7491 | Val Acc1: 42.39% | Val Acc5: 91.46% | LR: 0.000999\n"
          ]
        },
        {
          "output_type": "stream",
          "name": "stderr",
          "text": [
            "Epoch 9: 100%|██████████| Batch 1563/1563 , acc=35.56%, loss=1.7710\n"
          ]
        },
        {
          "output_type": "stream",
          "name": "stdout",
          "text": [
            "Time: 172.9s | Train Loss: 1.7710 | Train Acc: 35.56% | Val Loss: 1.5855 | Val Acc1: 47.88% | Val Acc5: 92.72% | LR: 0.000998\n"
          ]
        },
        {
          "output_type": "stream",
          "name": "stderr",
          "text": [
            "Epoch 10: 100%|██████████| Batch 1563/1563 , acc=40.69%, loss=1.6399\n"
          ]
        },
        {
          "output_type": "stream",
          "name": "stdout",
          "text": [
            "Time: 174.0s | Train Loss: 1.6399 | Train Acc: 40.69% | Val Loss: 1.5529 | Val Acc1: 46.63% | Val Acc5: 93.23% | LR: 0.000998\n"
          ]
        },
        {
          "output_type": "stream",
          "name": "stderr",
          "text": [
            "Epoch 11: 100%|██████████| Batch 1563/1563 , acc=44.86%, loss=1.5407\n"
          ]
        },
        {
          "output_type": "stream",
          "name": "stdout",
          "text": [
            "Time: 176.0s | Train Loss: 1.5407 | Train Acc: 44.86% | Val Loss: 1.4724 | Val Acc1: 49.03% | Val Acc5: 91.65% | LR: 0.000997\n"
          ]
        },
        {
          "output_type": "stream",
          "name": "stderr",
          "text": [
            "Epoch 12: 100%|██████████| Batch 1563/1563 , acc=47.83%, loss=1.4578\n"
          ]
        },
        {
          "output_type": "stream",
          "name": "stdout",
          "text": [
            "Time: 174.5s | Train Loss: 1.4578 | Train Acc: 47.83% | Val Loss: 1.4063 | Val Acc1: 54.68% | Val Acc5: 93.26% | LR: 0.000997\n"
          ]
        },
        {
          "output_type": "stream",
          "name": "stderr",
          "text": [
            "Epoch 13: 100%|██████████| Batch 1563/1563 , acc=50.19%, loss=1.4008\n"
          ]
        },
        {
          "output_type": "stream",
          "name": "stdout",
          "text": [
            "Time: 174.9s | Train Loss: 1.4008 | Train Acc: 50.19% | Val Loss: 1.4909 | Val Acc1: 49.79% | Val Acc5: 93.61% | LR: 0.000996\n"
          ]
        },
        {
          "output_type": "stream",
          "name": "stderr",
          "text": [
            "Epoch 14: 100%|██████████| Batch 1563/1563 , acc=51.95%, loss=1.3569\n"
          ]
        },
        {
          "output_type": "stream",
          "name": "stdout",
          "text": [
            "Time: 173.8s | Train Loss: 1.3569 | Train Acc: 51.95% | Val Loss: 1.3441 | Val Acc1: 58.83% | Val Acc5: 95.03% | LR: 0.000995\n"
          ]
        },
        {
          "output_type": "stream",
          "name": "stderr",
          "text": [
            "Epoch 15: 100%|██████████| Batch 1563/1563 , acc=53.46%, loss=1.3119\n"
          ]
        },
        {
          "output_type": "stream",
          "name": "stdout",
          "text": [
            "Time: 174.7s | Train Loss: 1.3119 | Train Acc: 53.46% | Val Loss: 1.3922 | Val Acc1: 57.55% | Val Acc5: 94.15% | LR: 0.000995\n"
          ]
        },
        {
          "output_type": "stream",
          "name": "stderr",
          "text": [
            "Epoch 16: 100%|██████████| Batch 1563/1563 , acc=55.03%, loss=1.2694\n"
          ]
        },
        {
          "output_type": "stream",
          "name": "stdout",
          "text": [
            "Time: 174.7s | Train Loss: 1.2694 | Train Acc: 55.03% | Val Loss: 1.5164 | Val Acc1: 50.35% | Val Acc5: 90.22% | LR: 0.000994\n"
          ]
        },
        {
          "output_type": "stream",
          "name": "stderr",
          "text": [
            "Epoch 17: 100%|██████████| Batch 1563/1563 , acc=56.29%, loss=1.2368\n"
          ]
        },
        {
          "output_type": "stream",
          "name": "stdout",
          "text": [
            "Time: 174.6s | Train Loss: 1.2368 | Train Acc: 56.29% | Val Loss: 1.7690 | Val Acc1: 41.19% | Val Acc5: 82.36% | LR: 0.000993\n"
          ]
        },
        {
          "output_type": "stream",
          "name": "stderr",
          "text": [
            "Epoch 18: 100%|██████████| Batch 1563/1563 , acc=57.72%, loss=1.1965\n"
          ]
        },
        {
          "output_type": "stream",
          "name": "stdout",
          "text": [
            "Time: 174.6s | Train Loss: 1.1965 | Train Acc: 57.72% | Val Loss: 1.6824 | Val Acc1: 45.71% | Val Acc5: 83.97% | LR: 0.000992\n"
          ]
        },
        {
          "output_type": "stream",
          "name": "stderr",
          "text": [
            "Epoch 19: 100%|██████████| Batch 1563/1563 , acc=59.27%, loss=1.1633\n"
          ]
        },
        {
          "output_type": "stream",
          "name": "stdout",
          "text": [
            "Time: 175.1s | Train Loss: 1.1633 | Train Acc: 59.27% | Val Loss: 1.7522 | Val Acc1: 41.55% | Val Acc5: 84.70% | LR: 0.000991\n"
          ]
        },
        {
          "output_type": "stream",
          "name": "stderr",
          "text": [
            "Epoch 20:  14%|█▍        | Batch 225/1563 , acc=59.96%, loss=1.1397\n",
            "2025/07/30 15:29:36 INFO mlflow.system_metrics.system_metrics_monitor: Stopping system metrics monitoring...\n"
          ]
        },
        {
          "output_type": "stream",
          "name": "stdout",
          "text": [
            "🏃 View run fearless-dolphin-830 at: https://dagshub.com/matteogianferrari/tser-kd.mlflow/#/experiments/1/runs/8bce1bc429d548089714c754d2ec5387\n",
            "🧪 View experiment at: https://dagshub.com/matteogianferrari/tser-kd.mlflow/#/experiments/1\n"
          ]
        },
        {
          "output_type": "stream",
          "name": "stderr",
          "text": [
            "2025/07/30 15:29:36 INFO mlflow.system_metrics.system_metrics_monitor: Successfully terminated system metrics monitoring!\n"
          ]
        },
        {
          "output_type": "error",
          "ename": "KeyboardInterrupt",
          "evalue": "",
          "traceback": [
            "\u001b[0;31m---------------------------------------------------------------------------\u001b[0m",
            "\u001b[0;31mKeyboardInterrupt\u001b[0m                         Traceback (most recent call last)",
            "\u001b[0;32m/tmp/ipython-input-13-598607557.py\u001b[0m in \u001b[0;36m<cell line: 0>\u001b[0;34m()\u001b[0m\n\u001b[1;32m     15\u001b[0m \u001b[0;32mwith\u001b[0m \u001b[0mmlflow\u001b[0m\u001b[0;34m.\u001b[0m\u001b[0mstart_run\u001b[0m\u001b[0;34m(\u001b[0m\u001b[0mrun_id\u001b[0m\u001b[0;34m=\u001b[0m\u001b[0;32mNone\u001b[0m\u001b[0;34m,\u001b[0m \u001b[0mlog_system_metrics\u001b[0m\u001b[0;34m=\u001b[0m\u001b[0;32mTrue\u001b[0m\u001b[0;34m)\u001b[0m\u001b[0;34m:\u001b[0m\u001b[0;34m\u001b[0m\u001b[0;34m\u001b[0m\u001b[0m\n\u001b[1;32m     16\u001b[0m     \u001b[0;32mfor\u001b[0m \u001b[0mepoch_i\u001b[0m \u001b[0;32min\u001b[0m \u001b[0mrange\u001b[0m\u001b[0;34m(\u001b[0m\u001b[0mh_dict\u001b[0m\u001b[0;34m[\u001b[0m\u001b[0;34m\"MAX_EPOCHS\"\u001b[0m\u001b[0;34m]\u001b[0m\u001b[0;34m)\u001b[0m\u001b[0;34m:\u001b[0m\u001b[0;34m\u001b[0m\u001b[0;34m\u001b[0m\u001b[0m\n\u001b[0;32m---> 17\u001b[0;31m         train_loss, train_acc, epoch_time, train_batch_time = run_train(\n\u001b[0m\u001b[1;32m     18\u001b[0m             \u001b[0mepoch_i\u001b[0m\u001b[0;34m,\u001b[0m \u001b[0mtrain_loader\u001b[0m\u001b[0;34m,\u001b[0m \u001b[0ms_model\u001b[0m\u001b[0;34m,\u001b[0m \u001b[0mtrain_criterion\u001b[0m\u001b[0;34m,\u001b[0m \u001b[0moptimizer\u001b[0m\u001b[0;34m,\u001b[0m \u001b[0mdevice\u001b[0m\u001b[0;34m,\u001b[0m \u001b[0mscaler\u001b[0m\u001b[0;34m,\u001b[0m \u001b[0mencoder\u001b[0m\u001b[0;34m\u001b[0m\u001b[0;34m\u001b[0m\u001b[0m\n\u001b[1;32m     19\u001b[0m         )\n",
            "\u001b[0;32m/content/tser-kd/tser_kd/training/training.py\u001b[0m in \u001b[0;36mrun_train\u001b[0;34m(epoch, data_loader, model, criterion, optimizer, device, scaler, encoder)\u001b[0m\n\u001b[1;32m     95\u001b[0m \u001b[0;34m\u001b[0m\u001b[0m\n\u001b[1;32m     96\u001b[0m                     \u001b[0;31m# Computes the model's logits, logits.shape: [T, B, K]\u001b[0m\u001b[0;34m\u001b[0m\u001b[0;34m\u001b[0m\u001b[0m\n\u001b[0;32m---> 97\u001b[0;31m                     \u001b[0mlogits\u001b[0m \u001b[0;34m=\u001b[0m \u001b[0mmodel\u001b[0m\u001b[0;34m(\u001b[0m\u001b[0minputs\u001b[0m\u001b[0;34m)\u001b[0m\u001b[0;34m\u001b[0m\u001b[0;34m\u001b[0m\u001b[0m\n\u001b[0m\u001b[1;32m     98\u001b[0m \u001b[0;34m\u001b[0m\u001b[0m\n\u001b[1;32m     99\u001b[0m                     \u001b[0;31m# Computes the loss value between logits and targets\u001b[0m\u001b[0;34m\u001b[0m\u001b[0;34m\u001b[0m\u001b[0m\n",
            "\u001b[0;32m/usr/local/lib/python3.11/dist-packages/torch/nn/modules/module.py\u001b[0m in \u001b[0;36m_wrapped_call_impl\u001b[0;34m(self, *args, **kwargs)\u001b[0m\n\u001b[1;32m   1737\u001b[0m             \u001b[0;32mreturn\u001b[0m \u001b[0mself\u001b[0m\u001b[0;34m.\u001b[0m\u001b[0m_compiled_call_impl\u001b[0m\u001b[0;34m(\u001b[0m\u001b[0;34m*\u001b[0m\u001b[0margs\u001b[0m\u001b[0;34m,\u001b[0m \u001b[0;34m**\u001b[0m\u001b[0mkwargs\u001b[0m\u001b[0;34m)\u001b[0m  \u001b[0;31m# type: ignore[misc]\u001b[0m\u001b[0;34m\u001b[0m\u001b[0;34m\u001b[0m\u001b[0m\n\u001b[1;32m   1738\u001b[0m         \u001b[0;32melse\u001b[0m\u001b[0;34m:\u001b[0m\u001b[0;34m\u001b[0m\u001b[0;34m\u001b[0m\u001b[0m\n\u001b[0;32m-> 1739\u001b[0;31m             \u001b[0;32mreturn\u001b[0m \u001b[0mself\u001b[0m\u001b[0;34m.\u001b[0m\u001b[0m_call_impl\u001b[0m\u001b[0;34m(\u001b[0m\u001b[0;34m*\u001b[0m\u001b[0margs\u001b[0m\u001b[0;34m,\u001b[0m \u001b[0;34m**\u001b[0m\u001b[0mkwargs\u001b[0m\u001b[0;34m)\u001b[0m\u001b[0;34m\u001b[0m\u001b[0;34m\u001b[0m\u001b[0m\n\u001b[0m\u001b[1;32m   1740\u001b[0m \u001b[0;34m\u001b[0m\u001b[0m\n\u001b[1;32m   1741\u001b[0m     \u001b[0;31m# torchrec tests the code consistency with the following code\u001b[0m\u001b[0;34m\u001b[0m\u001b[0;34m\u001b[0m\u001b[0m\n",
            "\u001b[0;32m/usr/local/lib/python3.11/dist-packages/torch/nn/modules/module.py\u001b[0m in \u001b[0;36m_call_impl\u001b[0;34m(self, *args, **kwargs)\u001b[0m\n\u001b[1;32m   1748\u001b[0m                 \u001b[0;32mor\u001b[0m \u001b[0m_global_backward_pre_hooks\u001b[0m \u001b[0;32mor\u001b[0m \u001b[0m_global_backward_hooks\u001b[0m\u001b[0;34m\u001b[0m\u001b[0;34m\u001b[0m\u001b[0m\n\u001b[1;32m   1749\u001b[0m                 or _global_forward_hooks or _global_forward_pre_hooks):\n\u001b[0;32m-> 1750\u001b[0;31m             \u001b[0;32mreturn\u001b[0m \u001b[0mforward_call\u001b[0m\u001b[0;34m(\u001b[0m\u001b[0;34m*\u001b[0m\u001b[0margs\u001b[0m\u001b[0;34m,\u001b[0m \u001b[0;34m**\u001b[0m\u001b[0mkwargs\u001b[0m\u001b[0;34m)\u001b[0m\u001b[0;34m\u001b[0m\u001b[0;34m\u001b[0m\u001b[0m\n\u001b[0m\u001b[1;32m   1751\u001b[0m \u001b[0;34m\u001b[0m\u001b[0m\n\u001b[1;32m   1752\u001b[0m         \u001b[0mresult\u001b[0m \u001b[0;34m=\u001b[0m \u001b[0;32mNone\u001b[0m\u001b[0;34m\u001b[0m\u001b[0;34m\u001b[0m\u001b[0m\n",
            "\u001b[0;32m/content/tser-kd/tser_kd/model/student/student.py\u001b[0m in \u001b[0;36mforward\u001b[0;34m(self, x)\u001b[0m\n\u001b[1;32m    209\u001b[0m         \u001b[0;31m# Residual stages\u001b[0m\u001b[0;34m\u001b[0m\u001b[0;34m\u001b[0m\u001b[0m\n\u001b[1;32m    210\u001b[0m         \u001b[0;32mfor\u001b[0m \u001b[0mstage\u001b[0m \u001b[0;32min\u001b[0m \u001b[0mself\u001b[0m\u001b[0;34m.\u001b[0m\u001b[0mstages\u001b[0m\u001b[0;34m:\u001b[0m\u001b[0;34m\u001b[0m\u001b[0;34m\u001b[0m\u001b[0m\n\u001b[0;32m--> 211\u001b[0;31m             \u001b[0mx\u001b[0m \u001b[0;34m=\u001b[0m \u001b[0mstage\u001b[0m\u001b[0;34m(\u001b[0m\u001b[0mx\u001b[0m\u001b[0;34m)\u001b[0m\u001b[0;34m\u001b[0m\u001b[0;34m\u001b[0m\u001b[0m\n\u001b[0m\u001b[1;32m    212\u001b[0m \u001b[0;34m\u001b[0m\u001b[0m\n\u001b[1;32m    213\u001b[0m         \u001b[0;31m# Global pool\u001b[0m\u001b[0;34m\u001b[0m\u001b[0;34m\u001b[0m\u001b[0m\n",
            "\u001b[0;32m/usr/local/lib/python3.11/dist-packages/torch/nn/modules/module.py\u001b[0m in \u001b[0;36m_wrapped_call_impl\u001b[0;34m(self, *args, **kwargs)\u001b[0m\n\u001b[1;32m   1737\u001b[0m             \u001b[0;32mreturn\u001b[0m \u001b[0mself\u001b[0m\u001b[0;34m.\u001b[0m\u001b[0m_compiled_call_impl\u001b[0m\u001b[0;34m(\u001b[0m\u001b[0;34m*\u001b[0m\u001b[0margs\u001b[0m\u001b[0;34m,\u001b[0m \u001b[0;34m**\u001b[0m\u001b[0mkwargs\u001b[0m\u001b[0;34m)\u001b[0m  \u001b[0;31m# type: ignore[misc]\u001b[0m\u001b[0;34m\u001b[0m\u001b[0;34m\u001b[0m\u001b[0m\n\u001b[1;32m   1738\u001b[0m         \u001b[0;32melse\u001b[0m\u001b[0;34m:\u001b[0m\u001b[0;34m\u001b[0m\u001b[0;34m\u001b[0m\u001b[0m\n\u001b[0;32m-> 1739\u001b[0;31m             \u001b[0;32mreturn\u001b[0m \u001b[0mself\u001b[0m\u001b[0;34m.\u001b[0m\u001b[0m_call_impl\u001b[0m\u001b[0;34m(\u001b[0m\u001b[0;34m*\u001b[0m\u001b[0margs\u001b[0m\u001b[0;34m,\u001b[0m \u001b[0;34m**\u001b[0m\u001b[0mkwargs\u001b[0m\u001b[0;34m)\u001b[0m\u001b[0;34m\u001b[0m\u001b[0;34m\u001b[0m\u001b[0m\n\u001b[0m\u001b[1;32m   1740\u001b[0m \u001b[0;34m\u001b[0m\u001b[0m\n\u001b[1;32m   1741\u001b[0m     \u001b[0;31m# torchrec tests the code consistency with the following code\u001b[0m\u001b[0;34m\u001b[0m\u001b[0;34m\u001b[0m\u001b[0m\n",
            "\u001b[0;32m/usr/local/lib/python3.11/dist-packages/torch/nn/modules/module.py\u001b[0m in \u001b[0;36m_call_impl\u001b[0;34m(self, *args, **kwargs)\u001b[0m\n\u001b[1;32m   1748\u001b[0m                 \u001b[0;32mor\u001b[0m \u001b[0m_global_backward_pre_hooks\u001b[0m \u001b[0;32mor\u001b[0m \u001b[0m_global_backward_hooks\u001b[0m\u001b[0;34m\u001b[0m\u001b[0;34m\u001b[0m\u001b[0m\n\u001b[1;32m   1749\u001b[0m                 or _global_forward_hooks or _global_forward_pre_hooks):\n\u001b[0;32m-> 1750\u001b[0;31m             \u001b[0;32mreturn\u001b[0m \u001b[0mforward_call\u001b[0m\u001b[0;34m(\u001b[0m\u001b[0;34m*\u001b[0m\u001b[0margs\u001b[0m\u001b[0;34m,\u001b[0m \u001b[0;34m**\u001b[0m\u001b[0mkwargs\u001b[0m\u001b[0;34m)\u001b[0m\u001b[0;34m\u001b[0m\u001b[0;34m\u001b[0m\u001b[0m\n\u001b[0m\u001b[1;32m   1751\u001b[0m \u001b[0;34m\u001b[0m\u001b[0m\n\u001b[1;32m   1752\u001b[0m         \u001b[0mresult\u001b[0m \u001b[0;34m=\u001b[0m \u001b[0;32mNone\u001b[0m\u001b[0;34m\u001b[0m\u001b[0;34m\u001b[0m\u001b[0m\n",
            "\u001b[0;32m/usr/local/lib/python3.11/dist-packages/torch/nn/modules/container.py\u001b[0m in \u001b[0;36mforward\u001b[0;34m(self, input)\u001b[0m\n\u001b[1;32m    248\u001b[0m     \u001b[0;32mdef\u001b[0m \u001b[0mforward\u001b[0m\u001b[0;34m(\u001b[0m\u001b[0mself\u001b[0m\u001b[0;34m,\u001b[0m \u001b[0minput\u001b[0m\u001b[0;34m)\u001b[0m\u001b[0;34m:\u001b[0m\u001b[0;34m\u001b[0m\u001b[0;34m\u001b[0m\u001b[0m\n\u001b[1;32m    249\u001b[0m         \u001b[0;32mfor\u001b[0m \u001b[0mmodule\u001b[0m \u001b[0;32min\u001b[0m \u001b[0mself\u001b[0m\u001b[0;34m:\u001b[0m\u001b[0;34m\u001b[0m\u001b[0;34m\u001b[0m\u001b[0m\n\u001b[0;32m--> 250\u001b[0;31m             \u001b[0minput\u001b[0m \u001b[0;34m=\u001b[0m \u001b[0mmodule\u001b[0m\u001b[0;34m(\u001b[0m\u001b[0minput\u001b[0m\u001b[0;34m)\u001b[0m\u001b[0;34m\u001b[0m\u001b[0;34m\u001b[0m\u001b[0m\n\u001b[0m\u001b[1;32m    251\u001b[0m         \u001b[0;32mreturn\u001b[0m \u001b[0minput\u001b[0m\u001b[0;34m\u001b[0m\u001b[0;34m\u001b[0m\u001b[0m\n\u001b[1;32m    252\u001b[0m \u001b[0;34m\u001b[0m\u001b[0m\n",
            "\u001b[0;32m/usr/local/lib/python3.11/dist-packages/torch/nn/modules/module.py\u001b[0m in \u001b[0;36m_wrapped_call_impl\u001b[0;34m(self, *args, **kwargs)\u001b[0m\n\u001b[1;32m   1737\u001b[0m             \u001b[0;32mreturn\u001b[0m \u001b[0mself\u001b[0m\u001b[0;34m.\u001b[0m\u001b[0m_compiled_call_impl\u001b[0m\u001b[0;34m(\u001b[0m\u001b[0;34m*\u001b[0m\u001b[0margs\u001b[0m\u001b[0;34m,\u001b[0m \u001b[0;34m**\u001b[0m\u001b[0mkwargs\u001b[0m\u001b[0;34m)\u001b[0m  \u001b[0;31m# type: ignore[misc]\u001b[0m\u001b[0;34m\u001b[0m\u001b[0;34m\u001b[0m\u001b[0m\n\u001b[1;32m   1738\u001b[0m         \u001b[0;32melse\u001b[0m\u001b[0;34m:\u001b[0m\u001b[0;34m\u001b[0m\u001b[0;34m\u001b[0m\u001b[0m\n\u001b[0;32m-> 1739\u001b[0;31m             \u001b[0;32mreturn\u001b[0m \u001b[0mself\u001b[0m\u001b[0;34m.\u001b[0m\u001b[0m_call_impl\u001b[0m\u001b[0;34m(\u001b[0m\u001b[0;34m*\u001b[0m\u001b[0margs\u001b[0m\u001b[0;34m,\u001b[0m \u001b[0;34m**\u001b[0m\u001b[0mkwargs\u001b[0m\u001b[0;34m)\u001b[0m\u001b[0;34m\u001b[0m\u001b[0;34m\u001b[0m\u001b[0m\n\u001b[0m\u001b[1;32m   1740\u001b[0m \u001b[0;34m\u001b[0m\u001b[0m\n\u001b[1;32m   1741\u001b[0m     \u001b[0;31m# torchrec tests the code consistency with the following code\u001b[0m\u001b[0;34m\u001b[0m\u001b[0;34m\u001b[0m\u001b[0m\n",
            "\u001b[0;32m/usr/local/lib/python3.11/dist-packages/torch/nn/modules/module.py\u001b[0m in \u001b[0;36m_call_impl\u001b[0;34m(self, *args, **kwargs)\u001b[0m\n\u001b[1;32m   1748\u001b[0m                 \u001b[0;32mor\u001b[0m \u001b[0m_global_backward_pre_hooks\u001b[0m \u001b[0;32mor\u001b[0m \u001b[0m_global_backward_hooks\u001b[0m\u001b[0;34m\u001b[0m\u001b[0;34m\u001b[0m\u001b[0m\n\u001b[1;32m   1749\u001b[0m                 or _global_forward_hooks or _global_forward_pre_hooks):\n\u001b[0;32m-> 1750\u001b[0;31m             \u001b[0;32mreturn\u001b[0m \u001b[0mforward_call\u001b[0m\u001b[0;34m(\u001b[0m\u001b[0;34m*\u001b[0m\u001b[0margs\u001b[0m\u001b[0;34m,\u001b[0m \u001b[0;34m**\u001b[0m\u001b[0mkwargs\u001b[0m\u001b[0;34m)\u001b[0m\u001b[0;34m\u001b[0m\u001b[0;34m\u001b[0m\u001b[0m\n\u001b[0m\u001b[1;32m   1751\u001b[0m \u001b[0;34m\u001b[0m\u001b[0m\n\u001b[1;32m   1752\u001b[0m         \u001b[0mresult\u001b[0m \u001b[0;34m=\u001b[0m \u001b[0;32mNone\u001b[0m\u001b[0;34m\u001b[0m\u001b[0;34m\u001b[0m\u001b[0m\n",
            "\u001b[0;32m/content/tser-kd/tser_kd/model/student/student.py\u001b[0m in \u001b[0;36mforward\u001b[0;34m(self, x)\u001b[0m\n\u001b[1;32m     73\u001b[0m \u001b[0;34m\u001b[0m\u001b[0m\n\u001b[1;32m     74\u001b[0m         \u001b[0mx\u001b[0m \u001b[0;34m=\u001b[0m \u001b[0mself\u001b[0m\u001b[0;34m.\u001b[0m\u001b[0mt_conv_bn2\u001b[0m\u001b[0;34m(\u001b[0m\u001b[0mx\u001b[0m\u001b[0;34m)\u001b[0m\u001b[0;34m\u001b[0m\u001b[0;34m\u001b[0m\u001b[0m\n\u001b[0;32m---> 75\u001b[0;31m         \u001b[0mx\u001b[0m \u001b[0;34m=\u001b[0m \u001b[0mself\u001b[0m\u001b[0;34m.\u001b[0m\u001b[0mlif2\u001b[0m\u001b[0;34m(\u001b[0m\u001b[0mx\u001b[0m\u001b[0;34m)\u001b[0m\u001b[0;34m\u001b[0m\u001b[0;34m\u001b[0m\u001b[0m\n\u001b[0m\u001b[1;32m     76\u001b[0m \u001b[0;34m\u001b[0m\u001b[0m\n\u001b[1;32m     77\u001b[0m         \u001b[0;31m# Shortcut branch\u001b[0m\u001b[0;34m\u001b[0m\u001b[0;34m\u001b[0m\u001b[0m\n",
            "\u001b[0;32m/usr/local/lib/python3.11/dist-packages/torch/nn/modules/module.py\u001b[0m in \u001b[0;36m_wrapped_call_impl\u001b[0;34m(self, *args, **kwargs)\u001b[0m\n\u001b[1;32m   1737\u001b[0m             \u001b[0;32mreturn\u001b[0m \u001b[0mself\u001b[0m\u001b[0;34m.\u001b[0m\u001b[0m_compiled_call_impl\u001b[0m\u001b[0;34m(\u001b[0m\u001b[0;34m*\u001b[0m\u001b[0margs\u001b[0m\u001b[0;34m,\u001b[0m \u001b[0;34m**\u001b[0m\u001b[0mkwargs\u001b[0m\u001b[0;34m)\u001b[0m  \u001b[0;31m# type: ignore[misc]\u001b[0m\u001b[0;34m\u001b[0m\u001b[0;34m\u001b[0m\u001b[0m\n\u001b[1;32m   1738\u001b[0m         \u001b[0;32melse\u001b[0m\u001b[0;34m:\u001b[0m\u001b[0;34m\u001b[0m\u001b[0;34m\u001b[0m\u001b[0m\n\u001b[0;32m-> 1739\u001b[0;31m             \u001b[0;32mreturn\u001b[0m \u001b[0mself\u001b[0m\u001b[0;34m.\u001b[0m\u001b[0m_call_impl\u001b[0m\u001b[0;34m(\u001b[0m\u001b[0;34m*\u001b[0m\u001b[0margs\u001b[0m\u001b[0;34m,\u001b[0m \u001b[0;34m**\u001b[0m\u001b[0mkwargs\u001b[0m\u001b[0;34m)\u001b[0m\u001b[0;34m\u001b[0m\u001b[0;34m\u001b[0m\u001b[0m\n\u001b[0m\u001b[1;32m   1740\u001b[0m \u001b[0;34m\u001b[0m\u001b[0m\n\u001b[1;32m   1741\u001b[0m     \u001b[0;31m# torchrec tests the code consistency with the following code\u001b[0m\u001b[0;34m\u001b[0m\u001b[0;34m\u001b[0m\u001b[0m\n",
            "\u001b[0;32m/usr/local/lib/python3.11/dist-packages/torch/nn/modules/module.py\u001b[0m in \u001b[0;36m_call_impl\u001b[0;34m(self, *args, **kwargs)\u001b[0m\n\u001b[1;32m   1748\u001b[0m                 \u001b[0;32mor\u001b[0m \u001b[0m_global_backward_pre_hooks\u001b[0m \u001b[0;32mor\u001b[0m \u001b[0m_global_backward_hooks\u001b[0m\u001b[0;34m\u001b[0m\u001b[0;34m\u001b[0m\u001b[0m\n\u001b[1;32m   1749\u001b[0m                 or _global_forward_hooks or _global_forward_pre_hooks):\n\u001b[0;32m-> 1750\u001b[0;31m             \u001b[0;32mreturn\u001b[0m \u001b[0mforward_call\u001b[0m\u001b[0;34m(\u001b[0m\u001b[0;34m*\u001b[0m\u001b[0margs\u001b[0m\u001b[0;34m,\u001b[0m \u001b[0;34m**\u001b[0m\u001b[0mkwargs\u001b[0m\u001b[0;34m)\u001b[0m\u001b[0;34m\u001b[0m\u001b[0;34m\u001b[0m\u001b[0m\n\u001b[0m\u001b[1;32m   1751\u001b[0m \u001b[0;34m\u001b[0m\u001b[0m\n\u001b[1;32m   1752\u001b[0m         \u001b[0mresult\u001b[0m \u001b[0;34m=\u001b[0m \u001b[0;32mNone\u001b[0m\u001b[0;34m\u001b[0m\u001b[0;34m\u001b[0m\u001b[0m\n",
            "\u001b[0;32m/content/tser-kd/tser_kd/model/student/snn_layer.py\u001b[0m in \u001b[0;36mforward\u001b[0;34m(self, x)\u001b[0m\n\u001b[1;32m    222\u001b[0m \u001b[0;34m\u001b[0m\u001b[0m\n\u001b[1;32m    223\u001b[0m         \u001b[0;31m# Resets the membrane potential and the hidden state to avoid backprop errors\u001b[0m\u001b[0;34m\u001b[0m\u001b[0;34m\u001b[0m\u001b[0m\n\u001b[0;32m--> 224\u001b[0;31m         \u001b[0mself\u001b[0m\u001b[0;34m.\u001b[0m\u001b[0mlayer\u001b[0m\u001b[0;34m.\u001b[0m\u001b[0mreset_hidden\u001b[0m\u001b[0;34m(\u001b[0m\u001b[0;34m)\u001b[0m\u001b[0;34m\u001b[0m\u001b[0;34m\u001b[0m\u001b[0m\n\u001b[0m\u001b[1;32m    225\u001b[0m         \u001b[0mself\u001b[0m\u001b[0;34m.\u001b[0m\u001b[0mlayer\u001b[0m\u001b[0;34m.\u001b[0m\u001b[0mreset_mem\u001b[0m\u001b[0;34m(\u001b[0m\u001b[0;34m)\u001b[0m\u001b[0;34m\u001b[0m\u001b[0;34m\u001b[0m\u001b[0m\n\u001b[1;32m    226\u001b[0m \u001b[0;34m\u001b[0m\u001b[0m\n",
            "\u001b[0;32m/usr/local/lib/python3.11/dist-packages/snntorch/_neurons/leaky.py\u001b[0m in \u001b[0;36mreset_hidden\u001b[0;34m(cls)\u001b[0m\n\u001b[1;32m    267\u001b[0m         \u001b[0;32mfor\u001b[0m \u001b[0mlayer\u001b[0m \u001b[0;32min\u001b[0m \u001b[0mrange\u001b[0m\u001b[0;34m(\u001b[0m\u001b[0mlen\u001b[0m\u001b[0;34m(\u001b[0m\u001b[0mcls\u001b[0m\u001b[0;34m.\u001b[0m\u001b[0minstances\u001b[0m\u001b[0;34m)\u001b[0m\u001b[0;34m)\u001b[0m\u001b[0;34m:\u001b[0m\u001b[0;34m\u001b[0m\u001b[0;34m\u001b[0m\u001b[0m\n\u001b[1;32m    268\u001b[0m             \u001b[0;32mif\u001b[0m \u001b[0misinstance\u001b[0m\u001b[0;34m(\u001b[0m\u001b[0mcls\u001b[0m\u001b[0;34m.\u001b[0m\u001b[0minstances\u001b[0m\u001b[0;34m[\u001b[0m\u001b[0mlayer\u001b[0m\u001b[0;34m]\u001b[0m\u001b[0;34m,\u001b[0m \u001b[0mLeaky\u001b[0m\u001b[0;34m)\u001b[0m\u001b[0;34m:\u001b[0m\u001b[0;34m\u001b[0m\u001b[0;34m\u001b[0m\u001b[0m\n\u001b[0;32m--> 269\u001b[0;31m                 cls.instances[layer].mem = torch.zeros_like(\n\u001b[0m\u001b[1;32m    270\u001b[0m                     \u001b[0mcls\u001b[0m\u001b[0;34m.\u001b[0m\u001b[0minstances\u001b[0m\u001b[0;34m[\u001b[0m\u001b[0mlayer\u001b[0m\u001b[0;34m]\u001b[0m\u001b[0;34m.\u001b[0m\u001b[0mmem\u001b[0m\u001b[0;34m,\u001b[0m\u001b[0;34m\u001b[0m\u001b[0;34m\u001b[0m\u001b[0m\n\u001b[1;32m    271\u001b[0m                     \u001b[0mdevice\u001b[0m\u001b[0;34m=\u001b[0m\u001b[0mcls\u001b[0m\u001b[0;34m.\u001b[0m\u001b[0minstances\u001b[0m\u001b[0;34m[\u001b[0m\u001b[0mlayer\u001b[0m\u001b[0;34m]\u001b[0m\u001b[0;34m.\u001b[0m\u001b[0mmem\u001b[0m\u001b[0;34m.\u001b[0m\u001b[0mdevice\u001b[0m\u001b[0;34m,\u001b[0m\u001b[0;34m\u001b[0m\u001b[0;34m\u001b[0m\u001b[0m\n",
            "\u001b[0;32m/usr/local/lib/python3.11/dist-packages/torch/nn/modules/module.py\u001b[0m in \u001b[0;36m__setattr__\u001b[0;34m(self, name, value)\u001b[0m\n\u001b[1;32m   2011\u001b[0m                         \u001b[0mself\u001b[0m\u001b[0;34m.\u001b[0m\u001b[0mregister_buffer\u001b[0m\u001b[0;34m(\u001b[0m\u001b[0mname\u001b[0m\u001b[0;34m,\u001b[0m \u001b[0mvalue\u001b[0m\u001b[0;34m,\u001b[0m \u001b[0mpersistent\u001b[0m\u001b[0;34m)\u001b[0m\u001b[0;34m\u001b[0m\u001b[0;34m\u001b[0m\u001b[0m\n\u001b[1;32m   2012\u001b[0m                     \u001b[0;32melse\u001b[0m\u001b[0;34m:\u001b[0m\u001b[0;34m\u001b[0m\u001b[0;34m\u001b[0m\u001b[0m\n\u001b[0;32m-> 2013\u001b[0;31m                         \u001b[0msign\u001b[0m \u001b[0;34m=\u001b[0m \u001b[0minspect\u001b[0m\u001b[0;34m.\u001b[0m\u001b[0msignature\u001b[0m\u001b[0;34m(\u001b[0m\u001b[0mself\u001b[0m\u001b[0;34m.\u001b[0m\u001b[0mregister_buffer\u001b[0m\u001b[0;34m)\u001b[0m\u001b[0;34m\u001b[0m\u001b[0;34m\u001b[0m\u001b[0m\n\u001b[0m\u001b[1;32m   2014\u001b[0m                         \u001b[0;32mif\u001b[0m \u001b[0;34m\"persistent\"\u001b[0m \u001b[0;32min\u001b[0m \u001b[0msign\u001b[0m\u001b[0;34m.\u001b[0m\u001b[0mparameters\u001b[0m\u001b[0;34m:\u001b[0m\u001b[0;34m\u001b[0m\u001b[0;34m\u001b[0m\u001b[0m\n\u001b[1;32m   2015\u001b[0m                             \u001b[0mself\u001b[0m\u001b[0;34m.\u001b[0m\u001b[0mregister_buffer\u001b[0m\u001b[0;34m(\u001b[0m\u001b[0mname\u001b[0m\u001b[0;34m,\u001b[0m \u001b[0mvalue\u001b[0m\u001b[0;34m,\u001b[0m \u001b[0mpersistent\u001b[0m\u001b[0;34m)\u001b[0m\u001b[0;34m\u001b[0m\u001b[0;34m\u001b[0m\u001b[0m\n",
            "\u001b[0;32m/usr/lib/python3.11/inspect.py\u001b[0m in \u001b[0;36msignature\u001b[0;34m(obj, follow_wrapped, globals, locals, eval_str)\u001b[0m\n\u001b[1;32m   3259\u001b[0m \u001b[0;34m\u001b[0m\u001b[0m\n\u001b[1;32m   3260\u001b[0m \u001b[0;34m\u001b[0m\u001b[0m\n\u001b[0;32m-> 3261\u001b[0;31m \u001b[0;32mdef\u001b[0m \u001b[0msignature\u001b[0m\u001b[0;34m(\u001b[0m\u001b[0mobj\u001b[0m\u001b[0;34m,\u001b[0m \u001b[0;34m*\u001b[0m\u001b[0;34m,\u001b[0m \u001b[0mfollow_wrapped\u001b[0m\u001b[0;34m=\u001b[0m\u001b[0;32mTrue\u001b[0m\u001b[0;34m,\u001b[0m \u001b[0mglobals\u001b[0m\u001b[0;34m=\u001b[0m\u001b[0;32mNone\u001b[0m\u001b[0;34m,\u001b[0m \u001b[0mlocals\u001b[0m\u001b[0;34m=\u001b[0m\u001b[0;32mNone\u001b[0m\u001b[0;34m,\u001b[0m \u001b[0meval_str\u001b[0m\u001b[0;34m=\u001b[0m\u001b[0;32mFalse\u001b[0m\u001b[0;34m)\u001b[0m\u001b[0;34m:\u001b[0m\u001b[0;34m\u001b[0m\u001b[0;34m\u001b[0m\u001b[0m\n\u001b[0m\u001b[1;32m   3262\u001b[0m     \u001b[0;34m\"\"\"Get a signature object for the passed callable.\"\"\"\u001b[0m\u001b[0;34m\u001b[0m\u001b[0;34m\u001b[0m\u001b[0m\n\u001b[1;32m   3263\u001b[0m     return Signature.from_callable(obj, follow_wrapped=follow_wrapped,\n",
            "\u001b[0;31mKeyboardInterrupt\u001b[0m: "
          ]
        }
      ],
      "source": [
        "import pynvml\n",
        "from tser_kd.eval import run_eval\n",
        "from tser_kd.training import run_train\n",
        "\n",
        "\n",
        "# PER FARE UN RESUME SERVE IL MODELLO CHECKPOINT, LA START_EPOCH, LA RUN_ID, E LAST_EPOCH IN SCHEDULER\n",
        "\n",
        "# Sets the MLFlow experiment\n",
        "mlflow.set_experiment(experiment_name)\n",
        "\n",
        "epoch_i = 0\n",
        "curr_lr = optimizer.param_groups[0][\"lr\"]\n",
        "\n",
        "# Train the model and log with MLFlow\n",
        "with mlflow.start_run(run_id=None, log_system_metrics=True):\n",
        "    for epoch_i in range(h_dict[\"MAX_EPOCHS\"]):\n",
        "        train_loss, train_acc, epoch_time, train_batch_time = run_train(\n",
        "            epoch_i, train_loader, s_model, train_criterion, optimizer, device, scaler, encoder\n",
        "        )\n",
        "\n",
        "        val_loss, val_acc1, val_acc5, val_batch_time = run_eval(val_loader, s_model, eval_criterion, device, encoder)\n",
        "\n",
        "        # Logging\n",
        "        print(\n",
        "            f\"Time: {epoch_time:.1f}s | Train Loss: {train_loss:.4f} | Train Acc: {train_acc:.2f}% | \"\n",
        "            f\"Val Loss: {val_loss:.4f} | Val Acc1: {val_acc1:.2f}% | Val Acc5: {val_acc5:.2f}% | LR: {curr_lr:.6f}\"\n",
        "        )\n",
        "\n",
        "        mlflow.log_metrics({\n",
        "            \"learning_rate\": curr_lr, \"train_tsce_loss\": train_loss, \"train_acc\": train_acc, \"val_ce_loss\": val_loss,\n",
        "            \"val_acc1\": val_acc1, \"val_acc5\": val_acc5, \"epoch_time\": epoch_time,\n",
        "            \"train_batch_time\": train_batch_time, \"val_batch_time\": val_batch_time\n",
        "        }, step=epoch_i)\n",
        "\n",
        "        # Updates the LR\n",
        "        if h_dict[\"LR_SCHEDULER\"] == 'ReduceLROnPlateau':\n",
        "            scheduler.step(val_loss)\n",
        "        else:\n",
        "            scheduler.step()\n",
        "\n",
        "        curr_lr = optimizer.param_groups[0][\"lr\"]\n",
        "\n",
        "        # Accuracy monitor\n",
        "        acc_monitor(val_acc1, epoch_i, s_model)\n",
        "\n",
        "        # ES check\n",
        "        if es_callback(val_loss, epoch_i, s_model):\n",
        "            break\n",
        "\n",
        "\n",
        "    # Log hyperparameters\n",
        "    mlflow.log_params(h_dict)\n",
        "\n",
        "    # Log test performance\n",
        "    s_model.load_state_dict(torch.load(\"best_acc.pth\"))\n",
        "    test_ce_loss, test_acc1, test_acc5, _ = run_eval(val_loader, s_model, eval_criterion, device, encoder)\n",
        "    mlflow.log_metrics({\"test_ce_loss\": test_ce_loss, \"test_acc1\": test_acc1, \"test_acc5\": test_acc5})"
      ]
    },
    {
      "cell_type": "code",
      "execution_count": null,
      "metadata": {
        "id": "EBNXC26G_Qlw"
      },
      "outputs": [],
      "source": [
        "https://arxiv.org/pdf/1609.04836"
      ]
    },
    {
      "cell_type": "code",
      "execution_count": null,
      "metadata": {
        "id": "cs8SYqufjhcq"
      },
      "outputs": [],
      "source": [
        "import os, hashlib\n",
        "\n",
        "def file_info(path):\n",
        "    size = os.path.getsize(path)\n",
        "    h = hashlib.md5()\n",
        "    with open(path, \"rb\") as f:\n",
        "        for chunk in iter(lambda: f.read(4096), b\"\"):\n",
        "            h.update(chunk)\n",
        "    return size, h.hexdigest()\n",
        "\n",
        "for fn in [\"best_ckpt.pth\"]:\n",
        "    sz, md5 = file_info(fn)\n",
        "    print(f\"{fn}: {sz/1e6:.2f} MB,  md5={md5}\")\n"
      ]
    },
    {
      "cell_type": "code",
      "execution_count": null,
      "metadata": {
        "id": "2LfA0ERWEjYw"
      },
      "outputs": [],
      "source": [
        "import torch\n",
        "from torchvision.models import resnet18, ResNet18_Weights\n",
        "from tser_kd.model.teacher import make_teacher_model\n",
        "\n",
        "\n",
        "@torch.no_grad()\n",
        "def load_resnet18_backbone_into_resnet19(model):\n",
        "    \"\"\"\n",
        "    Copies ImageNet-pretrained ResNet-18 weights into your CIFAR ResNet19 backbone.\n",
        "    Leaves stem and FC layers as-is. Returns a small report dict.\n",
        "    \"\"\"\n",
        "    res18 = resnet18(weights=ResNet18_Weights.IMAGENET1K_V1)  # already loaded\n",
        "\n",
        "    def copy_conv(dst, src):\n",
        "        assert dst.weight.shape == src.weight.shape, f\"conv shape mismatch: {dst.weight.shape} vs {src.weight.shape}\"\n",
        "        dst.weight.copy_(src.weight)\n",
        "        if getattr(dst, \"bias\", None) is not None and getattr(src, \"bias\", None) is not None:\n",
        "            dst.bias.copy_(src.bias)\n",
        "\n",
        "    def copy_bn(dst, src):\n",
        "        assert dst.weight.shape == src.weight.shape, f\"bn shape mismatch: {dst.weight.shape} vs {src.weight.shape}\"\n",
        "        dst.weight.copy_(src.weight)\n",
        "        dst.bias.copy_(src.bias)\n",
        "        dst.running_mean.copy_(src.running_mean)\n",
        "        dst.running_var.copy_(src.running_var)\n",
        "        if hasattr(dst, \"num_batches_tracked\") and hasattr(src, \"num_batches_tracked\"):\n",
        "            dst.num_batches_tracked.copy_(src.num_batches_tracked)\n",
        "\n",
        "    def copy_block(dst_block, src_block, copy_shortcut=False):\n",
        "        copy_conv(dst_block.conv1, src_block.conv1); copy_bn(dst_block.bn1, src_block.bn1)\n",
        "        copy_conv(dst_block.conv2, src_block.conv2); copy_bn(dst_block.bn2, src_block.bn2)\n",
        "        if copy_shortcut and (dst_block.shortcuts is not None) and (src_block.downsample is not None):\n",
        "            # conv + bn in the 1x1 projection\n",
        "            copy_conv(dst_block.shortcuts[0], src_block.downsample[0])\n",
        "            copy_bn(dst_block.shortcuts[1],  src_block.downsample[1])\n",
        "\n",
        "    # ---- Mappings ----\n",
        "    # block1 (128 ch): use layer2[1] (128->128 stride 1) for all three\n",
        "    for i in range(3):\n",
        "        copy_block(model.block1[i], res18.layer2[1], copy_shortcut=False)\n",
        "\n",
        "    # block2 (256 ch): first with downsample, then two stride-1 blocks\n",
        "    copy_block(model.block2[0], res18.layer3[0], copy_shortcut=True)   # 128->256, stride 2\n",
        "    copy_block(model.block2[1], res18.layer3[1], copy_shortcut=False)  # 256->256\n",
        "    copy_block(model.block2[2], res18.layer3[1], copy_shortcut=False)  # duplicate\n",
        "\n",
        "    # block3 (512 ch): first with downsample, then stride-1\n",
        "    copy_block(model.block3[0], res18.layer4[0], copy_shortcut=True)   # 256->512, stride 2\n",
        "    copy_block(model.block3[1], res18.layer4[1], copy_shortcut=False)  # 512->512\n",
        "\n",
        "    report = {\n",
        "        \"copied_from_resnet18\": {\n",
        "            \"block1\": [\"layer2[1] → block1[0,1,2]\"],\n",
        "            \"block2\": [\"layer3[0] → block2[0] (with shortcut)\",\n",
        "                       \"layer3[1] → block2[1,2]\"],\n",
        "            \"block3\": [\"layer4[0] → block3[0] (with shortcut)\",\n",
        "                       \"layer4[1] → block3[1]\"],\n",
        "        },\n",
        "        \"left_random_init\": [\"stem conv/bn\", \"fc1\", \"fc2\"],\n",
        "    }\n",
        "    return report\n",
        "\n",
        "resnet19 = make_teacher_model(arch='resnet-19', in_channels=3, num_classes=10, device=device)\n",
        "load_resnet18_backbone_into_resnet19(resnet19)"
      ]
    }
  ],
  "metadata": {
    "accelerator": "GPU",
    "colab": {
      "gpuType": "A100",
      "machine_shape": "hm",
      "provenance": []
    },
    "kernelspec": {
      "display_name": "Python 3",
      "name": "python3"
    },
    "language_info": {
      "name": "python"
    }
  },
  "nbformat": 4,
  "nbformat_minor": 0
}